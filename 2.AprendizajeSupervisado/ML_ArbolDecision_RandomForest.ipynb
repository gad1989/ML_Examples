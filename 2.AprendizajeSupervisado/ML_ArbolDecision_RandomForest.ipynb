{
 "cells": [
  {
   "cell_type": "markdown",
   "id": "7f700766-d705-4213-8efa-1690bd20f93c",
   "metadata": {},
   "source": [
    "## Laboratorio: Árboles de decisión, reglas y ensemble learning"
   ]
  },
  {
   "cell_type": "markdown",
   "id": "7b543606-18f4-463f-9b78-e6cccc2edfea",
   "metadata": {},
   "source": [
    "### Importación de librerías\n",
    "Importamos las librerías que se van a usar a lo largo del ejercicio"
   ]
  },
  {
   "cell_type": "code",
   "execution_count": 2,
   "id": "0051ff2c-7afc-4eff-bb19-68a2afb3acf8",
   "metadata": {},
   "outputs": [],
   "source": [
    "# Manejo de datos\n",
    "from pandas import read_csv,factorize,DataFrame\n",
    "import numpy as np\n",
    "\n",
    "#Gráficos\n",
    "import matplotlib.pyplot as plt\n",
    "import seaborn as sns\n",
    "\n",
    "#train-test\n",
    "from sklearn.model_selection import train_test_split\n",
    "from sklearn.model_selection import cross_val_score\n",
    "from sklearn.model_selection import StratifiedKFold\n",
    "\n",
    "#Algoritmos de clasificación\n",
    "from sklearn.tree import DecisionTreeClassifier\n",
    "from sklearn.ensemble import RandomForestClassifier\n",
    "\n",
    "#métricas\n",
    "from sklearn.metrics import classification_report\n",
    "from sklearn.metrics import confusion_matrix\n",
    "from sklearn.metrics import accuracy_score"
   ]
  },
  {
   "cell_type": "markdown",
   "id": "a70b65d3-c9e7-4894-b6e2-39fc4db2ab50",
   "metadata": {},
   "source": [
    "### Carga de datos"
   ]
  },
  {
   "cell_type": "code",
   "execution_count": 3,
   "id": "e476b222-922f-49f0-99b6-e129177969c9",
   "metadata": {},
   "outputs": [],
   "source": [
    "#Leemos archivo desde un repositorio de github\n",
    "url_github = (r'https://raw.githubusercontent.com/gad1989/TIA_actividad1/master/Laboratorio_dataset_car.csv')\n",
    "datos = read_csv(url_github,delimiter=\";\")"
   ]
  },
  {
   "cell_type": "markdown",
   "id": "82f6a2a5-8e02-493e-9743-16dc1d43ae77",
   "metadata": {},
   "source": [
    "### Caracteristicas del dataset\n",
    "Realizamos una descripcion del dataset. Primero damos un primer vistazo a algunos registros"
   ]
  },
  {
   "cell_type": "code",
   "execution_count": 4,
   "id": "a62f6082-b805-4774-9ad4-f0ea9efc7e55",
   "metadata": {},
   "outputs": [
    {
     "data": {
      "text/html": [
       "<div>\n",
       "<style scoped>\n",
       "    .dataframe tbody tr th:only-of-type {\n",
       "        vertical-align: middle;\n",
       "    }\n",
       "\n",
       "    .dataframe tbody tr th {\n",
       "        vertical-align: top;\n",
       "    }\n",
       "\n",
       "    .dataframe thead th {\n",
       "        text-align: right;\n",
       "    }\n",
       "</style>\n",
       "<table border=\"1\" class=\"dataframe\">\n",
       "  <thead>\n",
       "    <tr style=\"text-align: right;\">\n",
       "      <th></th>\n",
       "      <th>Buying</th>\n",
       "      <th>Maintenance</th>\n",
       "      <th>Doors</th>\n",
       "      <th>Person</th>\n",
       "      <th>lug_boot</th>\n",
       "      <th>safety</th>\n",
       "      <th>class</th>\n",
       "    </tr>\n",
       "  </thead>\n",
       "  <tbody>\n",
       "    <tr>\n",
       "      <th>0</th>\n",
       "      <td>vhigh</td>\n",
       "      <td>vhigh</td>\n",
       "      <td>2</td>\n",
       "      <td>2</td>\n",
       "      <td>small</td>\n",
       "      <td>low</td>\n",
       "      <td>unacc</td>\n",
       "    </tr>\n",
       "    <tr>\n",
       "      <th>1</th>\n",
       "      <td>vhigh</td>\n",
       "      <td>vhigh</td>\n",
       "      <td>2</td>\n",
       "      <td>2</td>\n",
       "      <td>small</td>\n",
       "      <td>med</td>\n",
       "      <td>unacc</td>\n",
       "    </tr>\n",
       "    <tr>\n",
       "      <th>2</th>\n",
       "      <td>vhigh</td>\n",
       "      <td>vhigh</td>\n",
       "      <td>2</td>\n",
       "      <td>2</td>\n",
       "      <td>small</td>\n",
       "      <td>high</td>\n",
       "      <td>unacc</td>\n",
       "    </tr>\n",
       "    <tr>\n",
       "      <th>3</th>\n",
       "      <td>vhigh</td>\n",
       "      <td>vhigh</td>\n",
       "      <td>2</td>\n",
       "      <td>2</td>\n",
       "      <td>med</td>\n",
       "      <td>low</td>\n",
       "      <td>unacc</td>\n",
       "    </tr>\n",
       "    <tr>\n",
       "      <th>4</th>\n",
       "      <td>vhigh</td>\n",
       "      <td>vhigh</td>\n",
       "      <td>2</td>\n",
       "      <td>2</td>\n",
       "      <td>med</td>\n",
       "      <td>med</td>\n",
       "      <td>unacc</td>\n",
       "    </tr>\n",
       "  </tbody>\n",
       "</table>\n",
       "</div>"
      ],
      "text/plain": [
       "  Buying Maintenance Doors Person lug_boot safety  class\n",
       "0  vhigh       vhigh     2      2    small    low  unacc\n",
       "1  vhigh       vhigh     2      2    small    med  unacc\n",
       "2  vhigh       vhigh     2      2    small   high  unacc\n",
       "3  vhigh       vhigh     2      2      med    low  unacc\n",
       "4  vhigh       vhigh     2      2      med    med  unacc"
      ]
     },
     "execution_count": 4,
     "metadata": {},
     "output_type": "execute_result"
    }
   ],
   "source": [
    "datos.head(5)"
   ]
  },
  {
   "cell_type": "markdown",
   "id": "8127fc4e-c963-4af6-9513-158aca90cb00",
   "metadata": {},
   "source": [
    "Con la función shape, observamos que cuenta con **1750 registros** y **7 atributos**"
   ]
  },
  {
   "cell_type": "code",
   "execution_count": 5,
   "id": "ea986670-7cac-4b37-b25a-ac7a22b604b6",
   "metadata": {},
   "outputs": [
    {
     "name": "stdout",
     "output_type": "stream",
     "text": [
      "(1750, 7)\n"
     ]
    }
   ],
   "source": [
    "print(datos.shape)"
   ]
  },
  {
   "cell_type": "markdown",
   "id": "c2c91d78-346c-42c1-aaef-a3a733eb0101",
   "metadata": {},
   "source": [
    "Asimismo, podemos observar que todos los atributos (incluida la clase) tienen **valores categóricos**"
   ]
  },
  {
   "cell_type": "code",
   "execution_count": 6,
   "id": "c835ff24-8dcb-4782-b0f7-cedc1326b956",
   "metadata": {},
   "outputs": [
    {
     "name": "stdout",
     "output_type": "stream",
     "text": [
      "       Buying Maintenance Doors Person lug_boot safety  class\n",
      "count    1750        1750  1750   1750     1750   1750   1750\n",
      "unique      4           4     4      3        3      3      4\n",
      "top     vhigh         low     2      4      big   high  unacc\n",
      "freq      443         447   444    587      585    590   1215\n"
     ]
    }
   ],
   "source": [
    "print(datos.describe())"
   ]
  },
  {
   "cell_type": "code",
   "execution_count": 7,
   "id": "96b42eb9-255e-4c93-acff-b2f9e3868656",
   "metadata": {},
   "outputs": [
    {
     "data": {
      "text/plain": [
       "Buying         object\n",
       "Maintenance    object\n",
       "Doors          object\n",
       "Person         object\n",
       "lug_boot       object\n",
       "safety         object\n",
       "class          object\n",
       "dtype: object"
      ]
     },
     "execution_count": 7,
     "metadata": {},
     "output_type": "execute_result"
    }
   ],
   "source": [
    "datos.dtypes"
   ]
  },
  {
   "cell_type": "markdown",
   "id": "9c013676-5300-449b-956c-c41c58ed6840",
   "metadata": {},
   "source": [
    "Analizamos la distribución de la clase. Podemos observar que está bastante desbalanceada ya que la mayoría de instancias tienen el valor **\"unacc\"\"** como clase"
   ]
  },
  {
   "cell_type": "code",
   "execution_count": null,
   "id": "28c887f8-cb3d-4960-81cf-5c33a3e15b02",
   "metadata": {},
   "outputs": [
    {
     "ename": "NameError",
     "evalue": "name 'datos' is not defined",
     "output_type": "error",
     "traceback": [
      "\u001b[1;31m---------------------------------------------------------------------------\u001b[0m",
      "\u001b[1;31mNameError\u001b[0m                                 Traceback (most recent call last)",
      "\u001b[1;32m~\\AppData\\Local\\Temp/ipykernel_21892/3405039903.py\u001b[0m in \u001b[0;36m<module>\u001b[1;34m\u001b[0m\n\u001b[1;32m----> 1\u001b[1;33m \u001b[0mprint\u001b[0m\u001b[1;33m(\u001b[0m\u001b[0mdatos\u001b[0m\u001b[1;33m.\u001b[0m\u001b[0mgroupby\u001b[0m\u001b[1;33m(\u001b[0m\u001b[1;34m\"class\"\u001b[0m\u001b[1;33m)\u001b[0m\u001b[1;33m.\u001b[0m\u001b[0msize\u001b[0m\u001b[1;33m(\u001b[0m\u001b[1;33m)\u001b[0m\u001b[1;33m)\u001b[0m\u001b[1;33m\u001b[0m\u001b[1;33m\u001b[0m\u001b[0m\n\u001b[0m",
      "\u001b[1;31mNameError\u001b[0m: name 'datos' is not defined"
     ]
    }
   ],
   "source": [
    "print(datos.groupby(\"class\").size())"
   ]
  },
  {
   "cell_type": "code",
   "execution_count": 9,
   "id": "ece9dc33-7ca0-4909-8487-50912e28850d",
   "metadata": {},
   "outputs": [
    {
     "data": {
      "text/plain": [
       "<AxesSubplot:>"
      ]
     },
     "execution_count": 9,
     "metadata": {},
     "output_type": "execute_result"
    },
    {
     "data": {
      "image/png": "[encoded data removed]",
      "text/plain": [
       "<Figure size 432x288 with 1 Axes>"
      ]
     },
     "metadata": {
      "needs_background": "light"
     },
     "output_type": "display_data"
    }
   ],
   "source": [
    "datos[\"class\"].hist()"
   ]
  },
  {
   "cell_type": "markdown",
   "id": "4d34aabc-38d7-4ae1-b851-e44b16ef74dd",
   "metadata": {},
   "source": [
    "Por otro lado, se observa que la distribución de frecuencias de los atributos están bastante balanceadas"
   ]
  },
  {
   "cell_type": "code",
   "execution_count": 10,
   "id": "cf045acb-bb42-4d47-b6fe-76fe2a3d52e9",
   "metadata": {},
   "outputs": [
    {
     "data": {
      "image/png": "[encoded data removed]",
      "text/plain": [
       "<Figure size 432x288 with 1 Axes>"
      ]
     },
     "metadata": {
      "needs_background": "light"
     },
     "output_type": "display_data"
    },
    {
     "data": {
      "image/png": "[encoded data removed]",
      "text/plain": [
       "<Figure size 432x288 with 1 Axes>"
      ]
     },
     "metadata": {
      "needs_background": "light"
     },
     "output_type": "display_data"
    },
    {
     "data": {
      "image/png": "[encoded data removed]",
      "text/plain": [
       "<Figure size 432x288 with 1 Axes>"
      ]
     },
     "metadata": {
      "needs_background": "light"
     },
     "output_type": "display_data"
    },
    {
     "data": {
      "image/png": "[encoded data removed]",
      "text/plain": [
       "<Figure size 432x288 with 1 Axes>"
      ]
     },
     "metadata": {
      "needs_background": "light"
     },
     "output_type": "display_data"
    },
    {
     "data": {
      "image/png": "[encoded data removed]",
      "text/plain": [
       "<Figure size 432x288 with 1 Axes>"
      ]
     },
     "metadata": {
      "needs_background": "light"
     },
     "output_type": "display_data"
    },
    {
     "data": {
      "image/png": "[encoded data removed]",
      "text/plain": [
       "<Figure size 432x288 with 1 Axes>"
      ]
     },
     "metadata": {
      "needs_background": "light"
     },
     "output_type": "display_data"
    }
   ],
   "source": [
    "atributos = [\"Buying\",\"Maintenance\",\"Doors\",\"Person\",\"lug_boot\",\"safety\"]\n",
    "n_filas = 3\n",
    "n_columnas = 3\n",
    "for i, var_name in enumerate(atributos):\n",
    "    fig=plt.figure()\n",
    "    ax=fig.add_subplot(n_filas,n_columnas,i+1)\n",
    "    datos[var_name].hist(ax=ax)\n",
    "    ax.set_title(var_name+\" Distribution\")\n",
    "    fig.tight_layout() \n",
    "    plt.show()"
   ]
  },
  {
   "cell_type": "markdown",
   "id": "01eba3cb-353d-42f2-ad84-43b69332a629",
   "metadata": {},
   "source": [
    "### Preparación de datos\n",
    "Debido a que los algoritmos de árboles de clasificación de Scikit Learn no soportan atributos categóricos, se debe realizar una conversión de los mismos antes de iniciar con el entrenamiento. Se definen valores discretos para cada categoría según el siguiente diccionario:"
   ]
  },
  {
   "cell_type": "code",
   "execution_count": 11,
   "id": "f82a60b0-50c4-47d2-8c0d-c495f6dab29a",
   "metadata": {},
   "outputs": [],
   "source": [
    "convertion_dic = {\"Buying\": {\"low\": 0, \"med\": 1,\"high\":2,\"vhigh\":3},\n",
    "                 \"Maintenance\": {\"low\": 0, \"med\": 1,\"high\":2,\"vhigh\":3},\n",
    "                 \"Doors\": {\"2\": 2, \"3\": 3,\"4\":4,\"5more\":5},\n",
    "                 \"Person\": {\"2\": 2, \"4\": 4,\"more\":5},\n",
    "                 \"lug_boot\": {\"small\": 0, \"med\": 1,\"big\":2},\n",
    "                 \"safety\": {\"low\": 0, \"med\": 1,\"high\":2}}"
   ]
  },
  {
   "cell_type": "code",
   "execution_count": 12,
   "id": "97e23cc7-d7dd-4266-9d8e-c544e09e4e80",
   "metadata": {},
   "outputs": [
    {
     "data": {
      "text/html": [
       "<div>\n",
       "<style scoped>\n",
       "    .dataframe tbody tr th:only-of-type {\n",
       "        vertical-align: middle;\n",
       "    }\n",
       "\n",
       "    .dataframe tbody tr th {\n",
       "        vertical-align: top;\n",
       "    }\n",
       "\n",
       "    .dataframe thead th {\n",
       "        text-align: right;\n",
       "    }\n",
       "</style>\n",
       "<table border=\"1\" class=\"dataframe\">\n",
       "  <thead>\n",
       "    <tr style=\"text-align: right;\">\n",
       "      <th></th>\n",
       "      <th>Buying</th>\n",
       "      <th>Maintenance</th>\n",
       "      <th>Doors</th>\n",
       "      <th>Person</th>\n",
       "      <th>lug_boot</th>\n",
       "      <th>safety</th>\n",
       "      <th>class</th>\n",
       "    </tr>\n",
       "  </thead>\n",
       "  <tbody>\n",
       "    <tr>\n",
       "      <th>0</th>\n",
       "      <td>3</td>\n",
       "      <td>3</td>\n",
       "      <td>2</td>\n",
       "      <td>2</td>\n",
       "      <td>0</td>\n",
       "      <td>0</td>\n",
       "      <td>unacc</td>\n",
       "    </tr>\n",
       "    <tr>\n",
       "      <th>1</th>\n",
       "      <td>3</td>\n",
       "      <td>3</td>\n",
       "      <td>2</td>\n",
       "      <td>2</td>\n",
       "      <td>0</td>\n",
       "      <td>1</td>\n",
       "      <td>unacc</td>\n",
       "    </tr>\n",
       "    <tr>\n",
       "      <th>2</th>\n",
       "      <td>3</td>\n",
       "      <td>3</td>\n",
       "      <td>2</td>\n",
       "      <td>2</td>\n",
       "      <td>0</td>\n",
       "      <td>2</td>\n",
       "      <td>unacc</td>\n",
       "    </tr>\n",
       "    <tr>\n",
       "      <th>3</th>\n",
       "      <td>3</td>\n",
       "      <td>3</td>\n",
       "      <td>2</td>\n",
       "      <td>2</td>\n",
       "      <td>1</td>\n",
       "      <td>0</td>\n",
       "      <td>unacc</td>\n",
       "    </tr>\n",
       "    <tr>\n",
       "      <th>4</th>\n",
       "      <td>3</td>\n",
       "      <td>3</td>\n",
       "      <td>2</td>\n",
       "      <td>2</td>\n",
       "      <td>1</td>\n",
       "      <td>1</td>\n",
       "      <td>unacc</td>\n",
       "    </tr>\n",
       "  </tbody>\n",
       "</table>\n",
       "</div>"
      ],
      "text/plain": [
       "   Buying  Maintenance  Doors  Person  lug_boot  safety  class\n",
       "0       3            3      2       2         0       0  unacc\n",
       "1       3            3      2       2         0       1  unacc\n",
       "2       3            3      2       2         0       2  unacc\n",
       "3       3            3      2       2         1       0  unacc\n",
       "4       3            3      2       2         1       1  unacc"
      ]
     },
     "execution_count": 12,
     "metadata": {},
     "output_type": "execute_result"
    }
   ],
   "source": [
    "#Nuevo dataframe con atributos convertidos\n",
    "datos = datos.replace(convertion_dic)\n",
    "datos.head()"
   ]
  },
  {
   "cell_type": "markdown",
   "id": "1f5a7859-9715-453d-ad7e-0c94834265a8",
   "metadata": {},
   "source": [
    "### Elección y comparación de algoritmos\n",
    "En esta actividad se van a comparar un algoritmo de clasificación de tipo árbol de decisión (CART) y uno de tipo ensemble learning (Random Forest)"
   ]
  },
  {
   "cell_type": "code",
   "execution_count": 13,
   "id": "a49c18a3-eead-49b5-bb30-4440be9be753",
   "metadata": {},
   "outputs": [],
   "source": [
    "# Cargamos los algoritmos\n",
    "models = []\n",
    "models.append(('CART', DecisionTreeClassifier(criterion=\"gini\",random_state=1,class_weight=\"balanced\",min_samples_split=3)))\n",
    "models.append(('RandomForest', RandomForestClassifier(n_estimators = 200, criterion=\"gini\",random_state=1,class_weight=\"balanced\",min_samples_split=2)))"
   ]
  },
  {
   "cell_type": "markdown",
   "id": "fdbff1ec-8305-4830-b37b-dbd416f58820",
   "metadata": {},
   "source": [
    "Como es usual, se procede a dividir el conjunto de datos en **80%** para training y el **20%** restante para testing"
   ]
  },
  {
   "cell_type": "code",
   "execution_count": 14,
   "id": "1b193d52-5b2f-46be-add3-92e177cc5e99",
   "metadata": {},
   "outputs": [],
   "source": [
    "test_size = 0.2\n",
    "array = datos.values\n",
    "X = array[:,0:6]\n",
    "y = array[:,6]\n",
    "X_train, X_validation, Y_train, Y_validation = train_test_split(X, y, test_size=test_size, random_state=1, shuffle=True)"
   ]
  },
  {
   "cell_type": "markdown",
   "id": "537cf9f4-264a-4cae-abb1-533e7ea8585e",
   "metadata": {},
   "source": [
    "Realizamos validación cruzada para cada unos de los algoritmos y obtenemos las medias de sus **accuracy**"
   ]
  },
  {
   "cell_type": "code",
   "execution_count": 15,
   "id": "89321d18-3387-4ab8-be33-03dd86366a8b",
   "metadata": {},
   "outputs": [
    {
     "name": "stdout",
     "output_type": "stream",
     "text": [
      "CART: 0.981429 (0.013997)\n",
      "RandomForest: 0.979286 (0.012556)\n"
     ]
    }
   ],
   "source": [
    "# evaluamos cada modelo por turnos\n",
    "results = []\n",
    "names = []\n",
    "n_splits=10\n",
    "for name, model in models:\n",
    "    kfold = StratifiedKFold(n_splits=n_splits, random_state=1,shuffle=True)\n",
    "    cv_results = cross_val_score(model, X_train, Y_train, cv=kfold,scoring='accuracy')\n",
    "    results.append(cv_results)\n",
    "    names.append(name)\n",
    "    print('%s: %f (%f)' % (name, cv_results.mean(), cv_results.std()\n",
    "))"
   ]
  },
  {
   "cell_type": "markdown",
   "id": "d95afae3-bef2-44aa-92ed-95b1f9080055",
   "metadata": {},
   "source": [
    "En base a los resultados obtenidos líneas arriba y haciendo una comparación gráfica usando boxplots, vemos que el algoritmo CART **se comporta ligeramente mejor** que Random Forest"
   ]
  },
  {
   "cell_type": "code",
   "execution_count": 16,
   "id": "987cd9a5-4183-4b78-934e-9d0ba4532eb1",
   "metadata": {},
   "outputs": [
    {
     "data": {
      "image/png": "[encoded data removed]",
      "text/plain": [
       "<Figure size 432x288 with 1 Axes>"
      ]
     },
     "metadata": {
      "needs_background": "light"
     },
     "output_type": "display_data"
    }
   ],
   "source": [
    "plt.boxplot(results, labels=names)\n",
    "plt.title('Comparación de algoritmos')\n",
    "plt.show()"
   ]
  },
  {
   "cell_type": "markdown",
   "id": "f9704413-46d2-48be-9d08-e1fc3d722c14",
   "metadata": {},
   "source": [
    "## Validación de modelos\n",
    "Se analizan las métricas obtenidas para cada uno de los algoritmos."
   ]
  },
  {
   "cell_type": "code",
   "execution_count": 17,
   "id": "241f7a44",
   "metadata": {},
   "outputs": [],
   "source": [
    "# Se divide el conjunto de datos en 80% para training y 20% para testing\n",
    "test_size = 0.2\n",
    "array = datos.values\n",
    "X = array[:,0:6]\n",
    "y = array[:,6]\n",
    "X_train, X_validation, Y_train, Y_validation = train_test_split(X, y, test_size=test_size, random_state=1, shuffle=True)"
   ]
  },
  {
   "cell_type": "code",
   "execution_count": 18,
   "id": "5997bc21-5606-4971-893e-545e65a3c5cc",
   "metadata": {},
   "outputs": [
    {
     "name": "stdout",
     "output_type": "stream",
     "text": [
      "CART Accuracy: \n",
      "0.9828571428571429\n",
      "RandomForest Accuracy: \n",
      "0.9771428571428571\n"
     ]
    }
   ],
   "source": [
    "# Se entrenan y validan ambos modelos \n",
    "cnf_matrix = []\n",
    "for i in [0,1]:\n",
    "    model = models[i][1]\n",
    "    model.fit(X_train, Y_train)\n",
    "    predictions = model.predict(X_validation)\n",
    "    print(models[i][0] + \" Accuracy: \")\n",
    "    print(accuracy_score(Y_validation, predictions))\n",
    "    cnf_matrix.append(confusion_matrix(Y_validation, predictions))"
   ]
  },
  {
   "cell_type": "markdown",
   "id": "7e29c7c7-78ca-4010-8ff3-1a43557a29f1",
   "metadata": {},
   "source": [
    "Dibujamos la **matriz de confusión** para cada uno"
   ]
  },
  {
   "cell_type": "code",
   "execution_count": 19,
   "id": "cad57048-cdb3-4e0f-b6eb-27d61b79b137",
   "metadata": {},
   "outputs": [
    {
     "data": {
      "image/png": "[encoded data removed]",
      "text/plain": [
       "<Figure size 432x288 with 2 Axes>"
      ]
     },
     "metadata": {
      "needs_background": "light"
     },
     "output_type": "display_data"
    },
    {
     "data": {
      "image/png": "[encoded data removed]",
      "text/plain": [
       "<Figure size 432x288 with 2 Axes>"
      ]
     },
     "metadata": {
      "needs_background": "light"
     },
     "output_type": "display_data"
    }
   ],
   "source": [
    "for i in [0,1]:\n",
    "    plt.figure()\n",
    "    ax= plt.subplot()\n",
    "    sns.heatmap(cnf_matrix[i], annot=True, fmt='g', ax=ax, cmap=\"Blues\")\n",
    "    ax.set_xlabel('Predicted labels');ax.set_ylabel('True labels')\n",
    "    ax.set_title('Matriz de confusión para Algoritmo ' + models[i][0])\n",
    "    ax.xaxis.set_ticklabels(['acc', 'good','unacc','vgood']); ax.yaxis.set_ticklabels(['acc', 'good','unacc','vgood'])"
   ]
  },
  {
   "cell_type": "markdown",
   "id": "172bd31b-0394-4bf3-9ed4-09fb2252266b",
   "metadata": {},
   "source": [
    "Evaluamos la matriz de confusión"
   ]
  },
  {
   "cell_type": "code",
   "execution_count": 20,
   "id": "b5fa98f1-b131-4317-917f-695f59d4aab3",
   "metadata": {},
   "outputs": [],
   "source": [
    "lista_metricas = []\n",
    "for i in [0,1]:\n",
    "    FP = cnf_matrix[i].sum(axis=0) - np.diag(cnf_matrix[i])\n",
    "    FN = cnf_matrix[i].sum(axis=1) - np.diag(cnf_matrix[i])\n",
    "    TP = np.diag(cnf_matrix[i])\n",
    "    TN = cnf_matrix[i].sum() - (FP + FN + TP)\n",
    "    \n",
    "    # Sensitivity, hit rate, recall, or true positive rate\n",
    "    TPR = TP/(TP+FN)\n",
    "    # Specificity or true negative rate\n",
    "    TNR = TN/(TN+FP) \n",
    "    # Precision or positive predictive value\n",
    "    PPV = TP/(TP+FP)\n",
    "    # Negative predictive value\n",
    "    NPV = TN/(TN+FN)\n",
    "    # Fall out or false positive rate\n",
    "    FPR = FP/(FP+TN)\n",
    "    # False negative rate\n",
    "    FNR = FN/(TP+FN)\n",
    "    # False discovery rate\n",
    "    FDR = FP/(TP+FP)\n",
    "    # Overall accuracy\n",
    "    ACC = (TP+TN)/(TP+FP+FN+TN)\n",
    "    \n",
    "    #ACC = np.append(np.around(ACC,decimals=2),\"Accuracy\")\n",
    "    TPR = np.append(np.around(TPR,decimals=2),\"TP Rate(Recall)\")\n",
    "    TNR = np.append(np.around(TNR,decimals=2),\"TN Rate(Especificidad)\")\n",
    "    PPV = np.append(np.around(PPV,decimals=2),\"Precision\")\n",
    "    FPR = np.append(np.around(FPR,decimals=2),\"FP Rate\")\n",
    "    FNR = np.append(np.around(FNR,decimals=2),\"FN Rate\")\n",
    "    \n",
    "    lista_metricas.append([TPR,TNR,PPV,FPR,FNR])"
   ]
  },
  {
   "cell_type": "code",
   "execution_count": 21,
   "id": "51838b01-0516-4eab-a206-87d52fef0905",
   "metadata": {},
   "outputs": [
    {
     "data": {
      "text/html": [
       "<div>\n",
       "<style scoped>\n",
       "    .dataframe tbody tr th:only-of-type {\n",
       "        vertical-align: middle;\n",
       "    }\n",
       "\n",
       "    .dataframe tbody tr th {\n",
       "        vertical-align: top;\n",
       "    }\n",
       "\n",
       "    .dataframe thead th {\n",
       "        text-align: right;\n",
       "    }\n",
       "</style>\n",
       "<table border=\"1\" class=\"dataframe\">\n",
       "  <thead>\n",
       "    <tr style=\"text-align: right;\">\n",
       "      <th></th>\n",
       "      <th>acc</th>\n",
       "      <th>good</th>\n",
       "      <th>unacc</th>\n",
       "      <th>vgood</th>\n",
       "      <th>Metrica</th>\n",
       "    </tr>\n",
       "  </thead>\n",
       "  <tbody>\n",
       "    <tr>\n",
       "      <th>0</th>\n",
       "      <td>0.96</td>\n",
       "      <td>1.0</td>\n",
       "      <td>0.99</td>\n",
       "      <td>1.0</td>\n",
       "      <td>TP Rate(Recall)</td>\n",
       "    </tr>\n",
       "    <tr>\n",
       "      <th>1</th>\n",
       "      <td>0.99</td>\n",
       "      <td>0.99</td>\n",
       "      <td>0.99</td>\n",
       "      <td>1.0</td>\n",
       "      <td>TN Rate(Especificidad)</td>\n",
       "    </tr>\n",
       "    <tr>\n",
       "      <th>2</th>\n",
       "      <td>0.97</td>\n",
       "      <td>0.86</td>\n",
       "      <td>1.0</td>\n",
       "      <td>1.0</td>\n",
       "      <td>Precision</td>\n",
       "    </tr>\n",
       "    <tr>\n",
       "      <th>3</th>\n",
       "      <td>0.01</td>\n",
       "      <td>0.01</td>\n",
       "      <td>0.01</td>\n",
       "      <td>0.0</td>\n",
       "      <td>FP Rate</td>\n",
       "    </tr>\n",
       "    <tr>\n",
       "      <th>4</th>\n",
       "      <td>0.04</td>\n",
       "      <td>0.0</td>\n",
       "      <td>0.01</td>\n",
       "      <td>0.0</td>\n",
       "      <td>FN Rate</td>\n",
       "    </tr>\n",
       "  </tbody>\n",
       "</table>\n",
       "</div>"
      ],
      "text/plain": [
       "    acc  good unacc vgood                 Metrica\n",
       "0  0.96   1.0  0.99   1.0         TP Rate(Recall)\n",
       "1  0.99  0.99  0.99   1.0  TN Rate(Especificidad)\n",
       "2  0.97  0.86   1.0   1.0               Precision\n",
       "3  0.01  0.01  0.01   0.0                 FP Rate\n",
       "4  0.04   0.0  0.01   0.0                 FN Rate"
      ]
     },
     "execution_count": 21,
     "metadata": {},
     "output_type": "execute_result"
    }
   ],
   "source": [
    "DataFrame(lista_metricas[0],columns=['acc', 'good', 'unacc','vgood','Metrica'])"
   ]
  },
  {
   "cell_type": "code",
   "execution_count": 22,
   "id": "bdcd3c18-f404-411e-8c90-35af52919ff0",
   "metadata": {},
   "outputs": [
    {
     "data": {
      "text/html": [
       "<div>\n",
       "<style scoped>\n",
       "    .dataframe tbody tr th:only-of-type {\n",
       "        vertical-align: middle;\n",
       "    }\n",
       "\n",
       "    .dataframe tbody tr th {\n",
       "        vertical-align: top;\n",
       "    }\n",
       "\n",
       "    .dataframe thead th {\n",
       "        text-align: right;\n",
       "    }\n",
       "</style>\n",
       "<table border=\"1\" class=\"dataframe\">\n",
       "  <thead>\n",
       "    <tr style=\"text-align: right;\">\n",
       "      <th></th>\n",
       "      <th>acc</th>\n",
       "      <th>good</th>\n",
       "      <th>unacc</th>\n",
       "      <th>vgood</th>\n",
       "      <th>Metrica</th>\n",
       "    </tr>\n",
       "  </thead>\n",
       "  <tbody>\n",
       "    <tr>\n",
       "      <th>0</th>\n",
       "      <td>0.95</td>\n",
       "      <td>0.94</td>\n",
       "      <td>0.99</td>\n",
       "      <td>1.0</td>\n",
       "      <td>TP Rate(Recall)</td>\n",
       "    </tr>\n",
       "    <tr>\n",
       "      <th>1</th>\n",
       "      <td>0.99</td>\n",
       "      <td>0.99</td>\n",
       "      <td>1.0</td>\n",
       "      <td>0.99</td>\n",
       "      <td>TN Rate(Especificidad)</td>\n",
       "    </tr>\n",
       "    <tr>\n",
       "      <th>2</th>\n",
       "      <td>0.97</td>\n",
       "      <td>0.85</td>\n",
       "      <td>1.0</td>\n",
       "      <td>0.77</td>\n",
       "      <td>Precision</td>\n",
       "    </tr>\n",
       "    <tr>\n",
       "      <th>3</th>\n",
       "      <td>0.01</td>\n",
       "      <td>0.01</td>\n",
       "      <td>0.0</td>\n",
       "      <td>0.01</td>\n",
       "      <td>FP Rate</td>\n",
       "    </tr>\n",
       "    <tr>\n",
       "      <th>4</th>\n",
       "      <td>0.05</td>\n",
       "      <td>0.06</td>\n",
       "      <td>0.01</td>\n",
       "      <td>0.0</td>\n",
       "      <td>FN Rate</td>\n",
       "    </tr>\n",
       "  </tbody>\n",
       "</table>\n",
       "</div>"
      ],
      "text/plain": [
       "    acc  good unacc vgood                 Metrica\n",
       "0  0.95  0.94  0.99   1.0         TP Rate(Recall)\n",
       "1  0.99  0.99   1.0  0.99  TN Rate(Especificidad)\n",
       "2  0.97  0.85   1.0  0.77               Precision\n",
       "3  0.01  0.01   0.0  0.01                 FP Rate\n",
       "4  0.05  0.06  0.01   0.0                 FN Rate"
      ]
     },
     "execution_count": 22,
     "metadata": {},
     "output_type": "execute_result"
    }
   ],
   "source": [
    "DataFrame(lista_metricas[1],columns=['acc', 'good', 'unacc','vgood','Metrica'])"
   ]
  },
  {
   "cell_type": "code",
   "execution_count": null,
   "id": "6d901c1c",
   "metadata": {},
   "outputs": [],
   "source": []
  }
 ],
 "metadata": {
  "kernelspec": {
   "display_name": "Python 3 (ipykernel)",
   "language": "python",
   "name": "python3"
  },
  "language_info": {
   "codemirror_mode": {
    "name": "ipython",
    "version": 3
   },
   "file_extension": ".py",
   "mimetype": "text/x-python",
   "name": "python",
   "nbconvert_exporter": "python",
   "pygments_lexer": "ipython3",
   "version": "3.9.7"
  }
 },
 "nbformat": 4,
 "nbformat_minor": 5
}
