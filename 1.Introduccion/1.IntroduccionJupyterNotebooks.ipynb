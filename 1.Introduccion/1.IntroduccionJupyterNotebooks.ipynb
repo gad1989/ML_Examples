{
 "cells": [
  {
   "cell_type": "markdown",
   "id": "ae503c05",
   "metadata": {
    "ExecuteTime": {
     "end_time": "2021-11-09T20:16:03.708359Z",
     "start_time": "2021-11-09T20:16:03.379308Z"
    },
    "deletable": false,
    "editable": false
   },
   "source": [
    "<img src=\"https://www.unir.net/wp-content/uploads/2019/11/Unir_2021_logo.svg\" width=\"240\" height=\"240\" align=\"right\"/>"
   ]
  },
  {
   "cell_type": "markdown",
   "id": "19a0cac7",
   "metadata": {
    "caption": "somecaption",
    "deletable": false,
    "editable": false,
    "label": "fig:somelabel",
    "widefigure": true
   },
   "source": [
    "<center><h1>Sesión 1. Taller de Introducción a Jupyter Notebook. Algunas Herramientas de Utilidad</header1></centre>"
   ]
  },
  {
   "cell_type": "markdown",
   "id": "c3881b38",
   "metadata": {
    "caption": "somecaption",
    "deletable": false,
    "editable": false,
    "label": "fig:somelabel",
    "widefigure": true
   },
   "source": [
    "Miller Janny Ariza Garzón \n",
    "Noviembre 2021"
   ]
  },
  {
   "cell_type": "markdown",
   "id": "4a5028ac",
   "metadata": {
    "caption": "somecaption",
    "deletable": false,
    "editable": false,
    "label": "fig:somelabel",
    "widefigure": true
   },
   "source": [
    "<figure><center>\n",
    "  <img src=\"https://jupyter.org/assets/main-logo.svg\" alt=\"jupyter.org\" width=150 height=150/>\n",
    "  <figcaption>jupyter.org</figcaption>\n",
    "</figure><center>"
   ]
  },
  {
   "cell_type": "markdown",
   "id": "e7908357",
   "metadata": {
    "ExecuteTime": {
     "end_time": "2021-11-03T09:27:52.438118Z",
     "start_time": "2021-11-03T09:27:52.421087Z"
    }
   },
   "source": [
    "De manera simplificada **Jupyter** notebook (una evolución de Ipython Notebook) es una aplicación web de código abierto, que permite el procesamiento de código en vivo, datos, ecuaciones, material multimedia y texto de manera estructurada. Se puede crear y procesar información con todos estos elementos, manteniendo la estética de un buen documento. Permite también el trabajo conjunto de proyectos y documentos, potenciando el trabajo colaborativo.  \n",
    "Se construyen documentos entendibles, con procesos repetibles, generando transparencia, oportunidades de reprocesos, generación de alertas, generación de informes, entre otros aspectos. Permite desarrollar documentos con la entrada y salida interactiva de códigos construidos para el proceso, depuración y la transformación de datos, el modelado, el uso de herramientas de IA, la visualización, incluyendo información y explicación de la metodología y de los pasos usados para cada proceso o tarea. En resumen, sus principales usos son:\n",
    "\n",
    "+ Data cleaning \n",
    "+ Data transformation \n",
    "+ Numerical simulation \n",
    "+ Statistical modeling \n",
    "+ Data visualisation \n",
    "+ Machine learning\n",
    "+ Deep learning\n",
    "+ XAI\n",
    "\n",
    "Juppyter fue inicialmente creado para la unificación de los kernels Julia, Python y R; Jupyter (as in **Ju** (Julia) - **py** (Python) - te**R** (R)), pero hoy admite al menos 40 kernels diferentes. Nosotros utilizaremos Python.\n",
    "\n",
    "\n",
    "Algunos enlaces de interes:\n",
    "https://jupyter.org/,\n",
    "https://www.anaconda.com/.    \n",
    "[Instalación](https://jupyter.org/install), \n",
    "[Guía de instalación en Youtube](https://www.youtube.com/watch?v=LrMOrMb8-3s),\n",
    "[Instalación de kernels](https://test-jupyter.readthedocs.io/en/latest/install-kernel.html#id2),  \n",
    "[Documentación general de Jupyter Notebook](https://jupyter-notebook.readthedocs.io/en/stable/notebook.html).\n",
    "En este [enlace](https://jupyter.org/try) puede probar Jupyter sin tener que instalarlo.\n",
    "\n",
    "<p style='text-align: justify;'> \n",
    "En particular, con este notebook repasaremos los elementos básicos de Jupyter y algunas herramientas para facilitar y optimizar su uso. Entre otros elementos, revisaremos herramientas de generación de código, interacción, edición y de visualización de notebooks, buscando que queden “bien” presentados y formateados. \n",
    "</p>"
   ]
  },
  {
   "cell_type": "markdown",
   "id": "4c2a135e",
   "metadata": {
    "ExecuteTime": {
     "end_time": "2021-11-08T13:04:14.869493Z",
     "start_time": "2021-11-08T13:04:14.862493Z"
    }
   },
   "source": [
    "Algunas de los principales paquetes usados en Jupyter Notebook con el kernel de Python son:\n",
    "\n",
    "   + [NumPy](https://numpy.org/)\n",
    "   + [Pandas](https://pandas.pydata.org/)\n",
    "   + [Scikit-learn](https://scikit-learn.org/stable/)\n",
    "   + [Statmodels](https://www.statsmodels.org/stable/index.html)\n",
    "   + [Scipy](https://scipy.org/)\n",
    "   + [Matplotlib](https://matplotlib.org/)\n",
    "   + [Seaborn](https://seaborn.pydata.org/)\n",
    "   + [Plotly](https://plotly.com/python/)\n",
    "   + [TensorFlow](https://www.tensorflow.org/learn)\n",
    "   + [Keras](https://keras.io/)   "
   ]
  },
  {
   "cell_type": "markdown",
   "id": "5b04f647",
   "metadata": {},
   "source": [
    "---"
   ]
  },
  {
   "cell_type": "markdown",
   "id": "5c7854b5",
   "metadata": {},
   "source": [
    "## Elementos Básicos\n",
    "\n",
    "Recordemos que un Jupyter Notebook está conformado por una serie de celdas que pueden almacenar texto o código. Las celdas conforman un notebook. Las principales celdas de un Jupyter Notebook son `Markdown` y `Code`.\n",
    "\n",
    "+ Las celdas `Markdown` te permiten describir, explicar y documentar los procesos en la sintaxis Markdown o HTML.\n",
    "+ las celdas de código `Code` te permiten escribir y ejecutar código de programas como Python o R.\n",
    "\n",
    " <figure>\n",
    "    <center>\n",
    "         <img src=\"https://miro.medium.com/max/753/1*7H9nw6_RsSPhPxwou2oDeg.png\" alt=\"Tipos de celdas\" width=800 height=800/>\n",
    "         <figcaption>Tipos de celdas</figcaption>\n",
    "     </center>\n",
    "</figure>\n",
    "\n",
    "     \n",
    "Más información sobre los tipos de celdas, la creación de nuevos documentos y otros aspectos introductorios en [este enlace](https://jupyter-notebook.readthedocs.io/en/stable/notebook.html)."
   ]
  },
  {
   "cell_type": "markdown",
   "id": "9bad5115",
   "metadata": {},
   "source": [
    "---"
   ]
  },
  {
   "cell_type": "markdown",
   "id": "88eae378",
   "metadata": {},
   "source": [
    "## Atajos de teclado\n",
    "\n",
    "Todos los que hay disponibles se encuentran en `Help > Keyboard Shortcuts`. Sin embargo, algunos de los más utiles son:\n",
    "\n",
    "+ `Ctrl + Enter`Ejecuta la celda actual\n",
    "+ `Shift + Enter` Ejecuta la celda actual y se desplaza a la siguiente\n",
    "+ `Esc + D + D` Elimina la celda actual\n",
    "+ `Esc + A` Inserta una nueva celda de code arriba\n",
    "+ `Esc + B` Inserta una nueva celda de code abajo\n",
    "+ `Esc + M` Cambia el tipo de celda actual a Markdown\n",
    "+ `Esc + Y` Cambia el tipo de celda actual a Code                            \n",
    "+ `Esc + F` Buscar y reemplazar en su código pero no en las salidas.\n",
    "+ `Shift + Space`desplaza el notebook hacia arriba.\n",
    "+ `Space` desplaza el notebook hacia abajo.\n",
    "+ `Alt+mouse click` permite seleccionar y editar varias celdas a la vez.\n"
   ]
  },
  {
   "cell_type": "markdown",
   "id": "0cd4c113",
   "metadata": {
    "ExecuteTime": {
     "end_time": "2021-11-05T13:39:36.950184Z",
     "start_time": "2021-11-05T13:39:36.943183Z"
    }
   },
   "source": [
    "    #Ejemplo de cursor multilinea (`Alt+mouse click`):\n",
    "    \n",
    "    Este es un comentario 1 \n",
    "    Este es un comentario 2 \n",
    "    Este es un comentario 3 "
   ]
  },
  {
   "cell_type": "markdown",
   "id": "4b2c79b1",
   "metadata": {},
   "source": [
    "---"
   ]
  },
  {
   "cell_type": "markdown",
   "id": "d42a1b66",
   "metadata": {},
   "source": [
    "## Ayuda y documentación\n",
    "\n",
    "Dentro del menú `Help` se encuentran prácticos enlaces a la documentación online de las librerías más comunes, como NumPy, Pandas, SciPy y Matplotlib. También, \n",
    "usando `?` al empezar o terminar una función o libreria se puede acceder a la documentación para una rápida referencia de la sintaxis en una ventana adicional. Es posible también usar `Help(objeto)` y tener la información en la salida.\n",
    "\n",
    "Existe también `Shift + Tab`, esto le mostrará la documentación del objeto.  Al seguir pulsando este atajo más número de veces `Shift + Tab + Tab` o `Shift + Tab + Tab + Tab`, pasa a varios modos de la documentación.\n"
   ]
  },
  {
   "cell_type": "code",
   "execution_count": null,
   "id": "0b2f2668",
   "metadata": {
    "ExecuteTime": {
     "end_time": "2021-11-05T13:09:18.617572Z",
     "start_time": "2021-11-05T13:09:18.597560Z"
    }
   },
   "outputs": [],
   "source": [
    "    #Ejemplo:\n",
    "    help(len)\n",
    "    len?"
   ]
  },
  {
   "cell_type": "code",
   "execution_count": null,
   "id": "689dee93",
   "metadata": {},
   "outputs": [],
   "source": [
    "    len()"
   ]
  },
  {
   "cell_type": "markdown",
   "id": "a91bd8f1",
   "metadata": {},
   "source": [
    "---"
   ]
  },
  {
   "cell_type": "markdown",
   "id": "bb6a4e11",
   "metadata": {},
   "source": [
    "## Algunas herramientas de Markdown\n",
    "\n",
    "A continuación presentamos algunos de las herramientas y complementos más relevantes de Markdown en Jupyter para presentar documentos. Estas nos ayudarán a mejorar nuestra experiencia en esta herramienta y a que los Notebooks luzcan presentables."
   ]
  },
  {
   "cell_type": "markdown",
   "id": "68e05072",
   "metadata": {},
   "source": [
    "### Encabezados en diferentes niveles\n",
    "\n",
    "En lenguaje de Markdown:\n",
    "\n",
    "    # Encabezado de nivel 1\n",
    "    ## Encabezado de nivel  2\n",
    "    ### Encabezado de nivel  3\n",
    "    #### Encabezado de nivel  4\n",
    "    ##### Encabezado de nivel  5\n",
    "    ###### Encabezado de nivel  6 \n",
    "    \n",
    "O en HTML:\n",
    "    \n",
    "    <h1>Header 1</h1>\n",
    "    <h2>Header 2</h2>\n",
    "    <h3>Header 3</h3>\n",
    "    <h4>Header 4</h4>\n",
    "    <h5>Header 5</h5>\n",
    "    <h6>Header 6</h6>\n",
    "    \n",
    "También se podría usar el siguiente código HTML para tener encabezados centrados:\n",
    "\n",
    "    <center><h1>Este es el encabezado 1</header1></center>\n",
    "    <center><h1>Este es el encabezado 2</header1></center>\n",
    "    <center><h1>Este es el encabezado 3</header1></center>\n",
    "    <center><h1>Este es el encabezado 4</header1></center>\n",
    "          "
   ]
  },
  {
   "cell_type": "markdown",
   "id": "36bdb2a9",
   "metadata": {},
   "source": [
    "### Énfasis: Cursiva y negrita\n",
    "\n",
    "Se usan los simbolos (\\-) y (\\*) de la siguiente manera:\n",
    "\n",
    ">+ *Texto en cursiva*\n",
    ">+ _Texto en cursiva_\n",
    ">+ **Texto en negrita**\n",
    ">+ __Texto en negrita__\n",
    ">+ ***Texto en cursiva y negrita***\n",
    ">+ ___Texto en cursiva y negrita___"
   ]
  },
  {
   "cell_type": "markdown",
   "id": "3dd4ea70",
   "metadata": {},
   "source": [
    "### Citas en Bloque o sangría\n",
    "\n",
    "Para marcar un trozo de texto como una cita o para aplicar sangría, se utliza el signo de mayor que (>). Se inserta al principio del texto de la cita sangrada y se marca el final de la cita agregando una línea en blanco.Se puede usar (>) la cantidad de veces que se desea aplicar sangría al texto.\n",
    "\n",
    "Ejemplo:\n",
    ">Este en un ejemplo de sangría.\n",
    ">>Este en un ejemplo de sangría.\n",
    ">>>Este en un ejemplo de sangría."
   ]
  },
  {
   "cell_type": "markdown",
   "id": "01d3920c",
   "metadata": {},
   "source": [
    "### Líneas horizontales para separar secciones\n",
    "\n",
    "Se usan para la aseparación de secciones. Se crean con tres de los siguientes elementos: asteriscos(\\*), guiones(-), o guiones bajos (_). Ejemplo:\n",
    "\n",
    "> ***\n",
    "> ---\n",
    "> ___"
   ]
  },
  {
   "cell_type": "markdown",
   "id": "cb72f1b7",
   "metadata": {},
   "source": [
    "### Lístas y viñetas\n",
    "Para crear una lista ordenada se suelen numerar los elementos. Para crear una lista ordenada/numerada se numeran los elementos. \n",
    "Para crear una sublista bajo un ítem se utlizae TAB y luego se comienza a numerar la sublista. A continuación un ejemplo:\n",
    "\n",
    "\n",
    ">1. Primer Item \n",
    ">2. Segundo Item \n",
    ">3. Tercer Item\n",
    ">    1. Primer item del tercer item\n",
    ">    2. Segundo item del tercer item\n",
    ">    3. Tercer item del tercer item\n",
    "    \n",
    "También se pueden crear listas no ordenadas usando los simbolos (\\*), (-) o (+):\n",
    "\n",
    ">- Primer Item \n",
    ">- Segundo Item \n",
    ">- Tercer Item\n",
    ">    * Primer item del tercer item\n",
    ">    * Segundo item del tercer item\n",
    ">    * Tercer item del tercer item\n",
    ">        + Primer ...\n",
    ">        + Segundo ...\n",
    "\n",
    "Otra manera de hacer listas:\n",
    "\n",
    "\n",
    " ><br>\n",
    "     <dl>\n",
    "     <dt>Primer Item</dt>\n",
    "     <dd>Esto corresponde al primer Item.</dd>\n",
    "     <dt>Segundo Item</dt>\n",
    "     <dd>Esto corresponde con la definición del segundo Item. </dd>\n",
    "     <dd>Otra definción del segundo Item.</dd>\n",
    "     </dl>\n",
    " "
   ]
  },
  {
   "cell_type": "markdown",
   "id": "7124ea71",
   "metadata": {},
   "source": [
    "### Texto resaltado\n",
    "\n",
    "Se puede resaltar parte del texto con HTML usando la sentencia \\<mark>texto a resaltar\\</mark>.\n",
    "\n",
    " Ejemplo: \n",
    " \n",
    "> A continuación el <mark>texto resaltado</mark>."
   ]
  },
  {
   "cell_type": "markdown",
   "id": "8489e965",
   "metadata": {},
   "source": [
    "### Creación de cuadros explicativos o de alertas en colores\n",
    "\n",
    "Se utliza alguna de las siguientes etiquetas HTML \\<div> para mostrar el texto en un cuadro de color. El color del cuadro se determina por el tipo de alerta que se genere.\n",
    "\n",
    "    \n",
    "><div class=\"alert alert-block alert-info\">\n",
    "<b>Tip:</b> Use cajas azules para tips y notas.</div>\n",
    "\n",
    "><div class=\"alert alert-block alert-warning\">\n",
    "<b>Ejemplo:</b> Utilice los cuadros amarillos para ejemplos que no están dentro de las celdas de código. También fórmulas matemáticas importantes. O se pueden utilizar para mostrar mensajes de advertencia.</div>\n",
    "\n",
    "><div class=\"alert alert-block alert-success\">\n",
    "<b>Recuerda:</b> Este cuadro se utliza para mensajes positivos o a resaltar en el texto.</div>\n",
    "\n",
    "><div class=\"alert alert-block alert-danger\">\n",
    "<b>Atención:</b> Este cuadro indica acciones negativas o potencialmente de cuidado o erroneas.</div>\n",
    "\n"
   ]
  },
  {
   "cell_type": "markdown",
   "id": "a1dc7d84",
   "metadata": {},
   "source": [
    "### Hipervínculos y enlaces\n",
    "\n",
    "+ En markdown los podemos crear utlizando `[]` corchetes, y el link correspondiente con `()` paréntesis.\n",
    "\n",
    "  Ejemplo:\n",
    "  \n",
    ">[Proyecto Jupyter](https://jupyter.org/)\n",
    "\n",
    "+ También, puedes usar enlaces como referencia. Enlazas con palabras, letras o números, y en otro lugar del mismo documento se definen y se documentan.\n",
    "Para esto se usan los símbolos `[][]`. Y en la descripción `[]:descripción`. Las referencias pueden ubicarse en cualquier parte del documento y no se muestran dentro del texto.\n",
    "\n",
    "   Ejemplo: \n",
    "\n",
    "> Este es un ejemplo de uso de enlaces como referencias en `[Jupyter][Ref 1]` [Jupyter][Ref 1]. También puedes usar  `[Jupyter][]` [Jupyter][] para usar el mismo texto referenciado como descriptor.\n",
    "\n",
    "[Ref 1]: https://jupyter.org/\n",
    "[Jupyter]: https://jupyter.org/\n",
    "\n",
    "+ También se pueden generar links directos para una url usando `<url>`, o simplemnete poniendo la url directamente en el texto.\n",
    "\n",
    "    Ejemplo: \n",
    "\n",
    "> <https://jupyter.org/> o https://jupyter.org/\n",
    "\n",
    "+ Tammbién existen los **enlaces ancla** que llevan a un lugar específico en el documento. Puede utilizarse para enlazar con cualquier sección del notebook. Si se desea un enlace ancla con una sección en especial, debemos establecer el nombre que deseemos en `[]` y añadir entre parentesis `()` el nombre del encabezado de la sección, empezando por `#`con un guión en lugar del espacio en blanco. \n",
    "\n",
    "  Ejemplo:  \n",
    "\n",
    "Deseo que este enlace me lleve a la sección `[Section 4.6](#Texto-resaltado)` [Section 4.6](#Texto-resaltado).\n",
    "\n",
    "+ Es posible crear un enlace ancla poniendo la siguiente sentencia en donde se desea que se direccione el enlace `<a id=\"id\"></a>`, con un `id` único. Luego se utliza `[nombre de ref](#id)`para utilizar el enlace.\n",
    "\n",
    "  Ejemplo:\n",
    "  \n",
    "  <a id=\"01\"></a> \n",
    "  \n",
    "> Utilizo al referencia a este mismo lugar con `[ref01](#01)` [ref01](#01)."
   ]
  },
  {
   "cell_type": "markdown",
   "id": "6221cbc0",
   "metadata": {},
   "source": [
    "### Insertar imágenes\n",
    "\n",
    "Use image tag from HTML, mention the src and alt tag\n",
    "\n",
    "+ Una de las maneras es  arrastrando y soltando la imágenes en una de  las celdas de Markdown. Copiando y pegando. Pegando la imágen de una captura de pantalla. Se creará una sentencia `![imagenX.png](attachment:imagenX.png)`.\n",
    "\n",
    "+ Se pueden utlizar imágenes de la web utlizando la dirección url, con la misma sintaxis de hipervícunlos pero agregando el simbolo `!` al comenzar la sentencia. Se puede insertar una imagen sin conexión a la web añadiendo el nombre completo del archivo, con su ruta especificada, si esta está en un directorio diferente al de Jupyter Notebook.\n",
    "\n",
    " Ejemplos:\n",
    " \n",
    "> `![](https://jupyter.org/assets/main-logo.svg)`\n",
    "> ![](https://jupyter.org/assets/main-logo.svg)\n",
    "\n",
    " Si se desea que agregar un título flotante sobre la imágen, usar:\n",
    "\n",
    "> `![](https://jupyter.org/assets/main-logo.svg \"Logo de Jupyter\")`\n",
    "> ![](https://jupyter.org/assets/main-logo.svg \"Logo de Jupyter\")\n",
    "\n",
    " Con lenguaje HTML:\n",
    "\n",
    ">`<img src=\"https://jupyter.org/assets/main-logo.svg \"Logo de Jupyter\" title=\"Logo de Jupyter\"/>`\n",
    " \n",
    " <img src=\"https://jupyter.org/assets/main-logo.svg\" title=\"Logo de Jupyter\"/>\n",
    "\n",
    " Cambiando el tamaño y agregando un título se tiene:\n",
    "\n",
    "> `<img src=\"https://jupyter.org/assets/main-logo.svg\" alt=\"jupyter.org\" width=20 height=20/>`\n",
    "> `<center><figcaption>Logo de Jupyter</figcaption><center>`\n",
    "> <img src=\"https://jupyter.org/assets/main-logo.svg\" alt=\"Logo de Jupyter\" width=20 height=20/>\n",
    "> <center><figcaption>Logo de Jupyter</figcaption></center>"
   ]
  },
  {
   "cell_type": "markdown",
   "id": "237eec1f",
   "metadata": {},
   "source": [
    "### Notas al pie de página\n",
    "\n",
    "Para agregar un pie de página se puede usar la siguiente sintaxis `<sup><a href=\"#nota1\">1</a></sup>`. Ejemplo: \n",
    "\n",
    "Para que aparezcan en el texto hay que añadir una linea de sintaxis en donde se quiere que se muestre la nota de pie de página: `<p id=\"nota1\"><sup>1</sup> Texto de la nota de pie de página 1.</p>`. Ejemplo:\n",
    "\n",
    "><p>Este es el pie de página<sup><a href=\"#note1\">1</a></sup> puesto como ejemplo.</p>\n",
    "\n",
    "><p><strong>Notas al pie de página:</strong></p>  <p id=\"note1\"><sup>1</sup> Un pie de página es un texto explicativo o complementario y enlazado desde la localización del número del pie de página correspondiente.</p>"
   ]
  },
  {
   "cell_type": "markdown",
   "id": "a1d36cdb",
   "metadata": {},
   "source": [
    "### Menú de Navegación\n",
    "\n",
    "Permite un conjunto de enlaces de navegación así:\n",
    "\n",
    ">````\n",
    "     <nav> \n",
    "     <a href=\"https://www.google.com\">LinkedIn</a> |\n",
    "     <a href=\"https://github.com/\">Github</a> |\n",
    "     <a href=\"https://www.unir.net/\">UNIR</a> |\n",
    "     </nav>\n",
    "\n",
    " \n",
    " \n",
    " ><nav> \n",
    " <a href=\"https://www.google.com\">LinkedIn</a> |\n",
    " <a href=\"https://github.com/\">Github</a> |\n",
    " <a href=\"https://www.unir.net/\">UNIR</a> |\n",
    " </nav>"
   ]
  },
  {
   "cell_type": "markdown",
   "id": "91840f83",
   "metadata": {},
   "source": [
    "### Tablas\n",
    "\n",
    "Las tablas pueden ser creadas en una celda Markdown con los simbolos (\\|) y (-). Ejemplos:\n",
    "\n",
    ">| Col1  | Col2 |\n",
    " | --- | --- |\n",
    " | A | B  |\n",
    " | C  | D  |\n",
    " \n",
    " >| Comando | Descripción |\n",
    "  | --- | --- |\n",
    "  | git status | Lista de todos los archivos nuevos o modificados              |\n",
    "  | git diff   | Muestra diferenciass de **código** entre diferentes versiones |\n",
    "  \n",
    "\n",
    "Alineación en la tabla:\n",
    "\n",
    ">| Default | Left-aligned | Center-aligned | Right-aligned |\n",
    " |---|:-|:-:|-:|\n",
    " | A | A | A | A |\n",
    " \n",
    "\n",
    "><div class=\"alert alert-block alert-warning\">\n",
    "<b>Aparece alineado a derecha:</b> Parece que la alineación no está funcionando bien desde Junio de 2020 debido a un un error en el código fuente de Jupyter en el que no se tiene en cuenta la alineación de Markdown y todo el texto aparece alineado a la derecha.</div>\n",
    "\n",
    "Para que un símbolo usado en Markdown no se reconozca como parte de la sentencia, se precede con el símbolo de barra invertida (\\\\):\n",
    "\n",
    ">| Nombre   | Caracter |\n",
    " | ---      | ---      |\n",
    " | Backtick | \\`       |\n",
    " | Pipe     | \\|       |\n",
    "\n",
    "Podemos agregar títulos a las tablas en la parte inferior agregando una fila con el texto del título en Markdown `|Título de la tabla|`:\n",
    "\n",
    ">| Column1 | Column2 |\n",
    " |---|---|\n",
    " | A | B |\n",
    " |Tabla 1. Título de la tabla|\n",
    "\n",
    "Podemos realizar saltos de linea dentro de la tabla usando `<br>`:\n",
    "\n",
    "\n",
    ">| Column 1  | Column 2 |\n",
    " | --------  | -------- |\n",
    " | data      | Texto línea 1 <br> Texto línea 2 |\n"
   ]
  },
  {
   "cell_type": "markdown",
   "id": "efbc01e8",
   "metadata": {},
   "source": [
    "### Ecuaciones y texto matemático (Latex)\n",
    "\n",
    "Este software se enriquece al permitir incluir texto matemático y científico. Para hacerlo hay que incluirlo entre los simbolos de dolar ($). Ejemplo:\n",
    "\n",
    ">$P(A)=\\frac{|A|}{|\\Omega|}$\n",
    "\n",
    "Si se desea centrar el texto matemático se usan los simbolos de ($$) para abrir y cerrar el texto. Ejemplo:\n",
    "\n",
    ">$$P(A)=\\frac{|A|}{|\\Omega|}$$\n",
    "\n",
    "La siguiente imagen muestra algunos comandos de LaTex que pueden ser utiles para escribir algunas ecuaciones básicas.\n",
    "\n",
    "><figure><center>\n",
    "  <img src=\"https://miro.medium.com/max/875/1*IWiYqQTtZxmZg0-YCejPig.png\" alt=\"latex0\" width=400 height=400/>\n",
    "  <figcaption>Ejemplos de LaTex.  Photo: Shinichi Okada. <a href=\"https://towardsdatascience.com/7-essential-tips-for-writing-with-jupyter-notebook-60972a1a8901\">Source</a></figcaption>\n",
    "</center></figure> \n",
    "\n",
    "También se pueden escribir matrices:\n",
    "\n",
    "><figure><center>\n",
    "  <img src=\"https://miro.medium.com/max/766/1*iy1NDHoaxjU9Y0I7Q8ByHA.png\" alt=\"latex\" width=400 height=400/>\n",
    "  <figcaption>Escritura de matrices en LaTex.  Photo: Shinichi Okada. <a href=\"https://towardsdatascience.com/7-essential-tips-for-writing-with-jupyter-notebook-60972a1a8901\">Source</a></figcaption>\n",
    "</center></figure> \n",
    "\n",
    "O funciones a trozos:\n",
    "\n",
    ">$$\n",
    "\\begin{align}\n",
    "\\text{Función de densidad de la distribución uniforme:}\\\\\n",
    "f(x)=\n",
    "\\begin{cases}\n",
    "\\frac{1}{b-a}&\\text{for $x\\in[a,b]$}\\\\\n",
    "0&\\text{en otro caso}\\\\\n",
    "\\end{cases}\n",
    "\\\\\n",
    "\\text{Función acumulada de probabilidad:}\\\\\n",
    "F(x)=\n",
    "\\begin{cases}\n",
    "0&\\text{for $x<a$}\\\\\n",
    "\\frac{x-a}{b-a}&\\text{for $x\\in[a,b)$}\\\\\n",
    "1&\\text{for $x\\ge b$}\\\\\n",
    "\\end{cases}\n",
    "\\end{align}\n",
    "$$\n",
    "\n",
    "En los siguientes enlaces puede encontrar algunas [herramientas adicionales de LaTex](https://www.overleaf.com/learn/latex/Integrals%2C_sums_and_limits) \n",
    "o información sobre más [símbolos](https://oeis.org/wiki/List_of_LaTeX_mathematical_symbols) frecuentemente usados. \n",
    "\n",
    "También se puede usar `\\begin{equation} y \\end{equation}` para empezar y finalizar una formula o texto matemático:\n",
    "\n",
    ">\\begin{equation}\n",
    "X \\sim \\mathcal{N}(\\mu,\\,\\sigma^{2})\n",
    "\\end{equation}"
   ]
  },
  {
   "cell_type": "markdown",
   "id": "05c3ea6e",
   "metadata": {
    "ExecuteTime": {
     "end_time": "2021-11-10T11:21:23.105972Z",
     "start_time": "2021-11-10T11:21:23.096975Z"
    }
   },
   "source": [
    "## Temas de Jupyter\n",
    "\n",
    "Es posible cambiar la apariencia del notebook, utlizando las diferentes opciones de temas de Jupyter Notebook. Para esto hay que tener instalado `pip install jupyterthemes` y verificar que se tiene la última versión `pip install --upgrade jupyterthemes`.\n",
    "La aparencia es personalizable a través de los temas disponibles, junto con las herramientas disponibles, las fuentes de texto y código, y otros elementos de la interfaz de usuario. \n",
    "La lista de temas disponibles se puede conocer con `!jt -l`. Cuyo resultado actual es:\n",
    "\n",
    "```\n",
    "Available Themes: \n",
    "      chesterish\n",
    "      grade3\n",
    "      gruvboxd\n",
    "      gruvboxl\n",
    "      monokai\n",
    "      oceans16\n",
    "      onedork\n",
    "      solarizedd\n",
    "      solarizedl\n",
    "```\n",
    "\n",
    "Ahora, para establecer un tema en particular se usa `!jt -t [theme name]`.\n",
    "\n",
    "Ejemplo:\n",
    "\n",
    "```\n",
    "!jt -t chesterish\n",
    "\n",
    "```\n",
    "\n",
    "Si se desea restaurar el tema al establecido por defecto se utiliza la sentencia `!jt -r`.\n",
    "\n",
    "Otros cambios que se pueden realizar sobre los tipos fuentes, tamaño de las mismas, la barra de herramientas y otros elementos, se describen en este [enlace](https://towardsdatascience.com/customize-your-jupyter-notebook-theme-in-2-lines-of-code-fc726cea1513).\n",
    "\n",
    "A continuación algunos pantallazos de los diferentes temas:\n",
    "\n",
    "><figure><center>\n",
    "  <img src=\"https://miro.medium.com/max/875/1*dgavuvvmSorth8DmmC3Rcw.png\" alt=\"jupyter.org\" width=800 height=800/>\n",
    "  <figcaption>Temas de Jupyter.  Photo: Shinichi Okada. <a href=\"https://towardsdatascience.com/7-essential-tips-for-writing-with-jupyter-notebook-60972a1a8901\">Source</a></figcaption>\n",
    "</center></figure> \n"
   ]
  },
  {
   "cell_type": "code",
   "execution_count": null,
   "id": "039082b6",
   "metadata": {
    "ExecuteTime": {
     "end_time": "2021-11-12T10:34:29.807442Z",
     "start_time": "2021-11-12T10:34:29.802440Z"
    }
   },
   "outputs": [],
   "source": [
    "#!jt -t chesterish\n",
    "#!jt -r "
   ]
  },
  {
   "cell_type": "markdown",
   "id": "b60d70c7",
   "metadata": {},
   "source": [
    "## Cargar una función desde otro Jupyter Notebook\n",
    "\n",
    "Es posible llamar y cargar funciones de otros notebooks que se encuentran en el misma carpeta usando la siguientes pasos:\n",
    "\n",
    "1. Instalar `ipynb` con `pip install ipynb` en la linea de comandos (cmd). Desde ANACONDA.NAVIGATOR se puede usar `CMD.exe Prompt`. \n",
    "2. Sea `archivo1.ipynb`, el archivo que tiene la función de interés `funcion`, el cuál se guarda en la misma carpeta del notebook desde donde lo vamos a llamar.\n",
    "3. Llamamos la función `funcion` desde el archivo notebook en el que estamos trabajando mediante `from ipynb.fs.full.archivo1 import funcion`.\n",
    "4. Utilizamos la función `funcion(argumentos)`\n",
    "\n",
    " Ejemplo:\n",
    " \n",
    "Hemos construido la función `factorial` y la hemos guardado  con el nombre de `funciones` en la misma carpeta de este notebook. \n",
    "```\n",
    "def factorial(n):\n",
    "    if n < 2:\n",
    "       return 1\n",
    "     else:\n",
    "       return n * factorial(n-1)\n",
    "        \n",
    "```\n",
    "la llamamos con:\n",
    "\n",
    "```\n",
    "from ipynb.fs.full.funciones import factorial\n",
    "factorial(3)\n",
    "```"
   ]
  },
  {
   "cell_type": "code",
   "execution_count": null,
   "id": "bfd4af9a",
   "metadata": {
    "ExecuteTime": {
     "end_time": "2021-11-16T09:35:04.489525Z",
     "start_time": "2021-11-16T09:35:04.435527Z"
    }
   },
   "outputs": [],
   "source": [
    "#Ejemplo función factorial\n",
    "from ipynb.fs.full.funciones import factorial\n",
    "factorial(10)"
   ]
  },
  {
   "cell_type": "markdown",
   "id": "eb9271b4",
   "metadata": {},
   "source": [
    "## Algunas funciones \"mágicas\"\n",
    "\n",
    "Las celdas de código de Jupyter Notebook pueden contener comandos especiales que no son código de Python válido pero que pueden mejorar el desempeño del cuaderno. A estos comandos se les conoce como funciones o comandos mágicos.\n",
    "\n",
    "El comando `%lsmagic` lista los comnados mágicos disponibles. Por su parte  `%magic` los lista y describe su funcionalidad con ejemplos. Para saber lo que hace uno de estos comandos se puede usar `?` al final de este."
   ]
  },
  {
   "cell_type": "code",
   "execution_count": null,
   "id": "c305cc95",
   "metadata": {
    "ExecuteTime": {
     "end_time": "2021-12-07T08:37:31.479272Z",
     "start_time": "2021-12-07T08:37:31.463231Z"
    },
    "tags": []
   },
   "outputs": [],
   "source": [
    "%lsmagic"
   ]
  },
  {
   "cell_type": "code",
   "execution_count": null,
   "id": "831c37e7",
   "metadata": {
    "ExecuteTime": {
     "end_time": "2021-12-07T08:38:03.006195Z",
     "start_time": "2021-12-07T08:38:02.987167Z"
    }
   },
   "outputs": [],
   "source": [
    "%magic"
   ]
  },
  {
   "cell_type": "code",
   "execution_count": null,
   "id": "1ba1b5c6",
   "metadata": {
    "ExecuteTime": {
     "end_time": "2021-11-11T21:09:05.652959Z",
     "start_time": "2021-11-11T21:09:05.639960Z"
    }
   },
   "outputs": [],
   "source": [
    "# %run seguido del nombre de un archivo Python, podemos ejecutarlo y utilizar sus funciones y objetos. \n",
    "%run funciones.ipynb\n",
    "\n",
    "factorial (3)"
   ]
  },
  {
   "cell_type": "code",
   "execution_count": null,
   "id": "51b8efa4",
   "metadata": {
    "ExecuteTime": {
     "end_time": "2021-12-06T22:22:58.794836Z",
     "start_time": "2021-12-06T22:22:58.770836Z"
    }
   },
   "outputs": [],
   "source": [
    "%run?"
   ]
  },
  {
   "cell_type": "code",
   "execution_count": null,
   "id": "8035f5f9",
   "metadata": {
    "ExecuteTime": {
     "end_time": "2021-12-07T08:38:28.682935Z",
     "start_time": "2021-12-07T08:38:28.667894Z"
    },
    "tags": []
   },
   "outputs": [],
   "source": [
    "# %pwd para recordar el directorio actual\n",
    "%pwd"
   ]
  },
  {
   "cell_type": "code",
   "execution_count": null,
   "id": "c8abf0c0",
   "metadata": {
    "ExecuteTime": {
     "end_time": "2021-12-07T08:39:47.222878Z",
     "start_time": "2021-12-07T08:39:45.508936Z"
    },
    "tags": []
   },
   "outputs": [],
   "source": [
    "# %timeit devuelve el tiempo de ejecución promedio de pequeños fragmentos de código\n",
    "%timeit S = [n ** 2 for n in range(1000)]"
   ]
  },
  {
   "cell_type": "code",
   "execution_count": null,
   "id": "14e1bec8",
   "metadata": {
    "ExecuteTime": {
     "end_time": "2021-11-12T12:51:28.371915Z",
     "start_time": "2021-11-12T12:51:28.363951Z"
    }
   },
   "outputs": [],
   "source": [
    "# %time Establece un estimativo del tiempo de ejecución.\n",
    "%time S = [n ** 2 for n in range(1000)]"
   ]
  },
  {
   "cell_type": "code",
   "execution_count": null,
   "id": "c61eb1f4",
   "metadata": {
    "ExecuteTime": {
     "end_time": "2021-12-07T08:42:01.230800Z",
     "start_time": "2021-12-07T08:41:53.208395Z"
    }
   },
   "outputs": [],
   "source": [
    "'''%whos genera una lista de todas las variables definidas en el notebook. Incluye información extra como el tipo,\n",
    "el tamaño, entre otros.'''\n",
    "%whos"
   ]
  },
  {
   "cell_type": "code",
   "execution_count": null,
   "id": "558a5090",
   "metadata": {
    "ExecuteTime": {
     "end_time": "2021-12-07T08:42:32.412372Z",
     "start_time": "2021-12-07T08:42:32.398372Z"
    }
   },
   "outputs": [],
   "source": [
    "# %who_ls solo lista las variables definidas en el notebook\n",
    "%who_ls"
   ]
  },
  {
   "cell_type": "markdown",
   "id": "c4884835",
   "metadata": {},
   "source": [
    "## Documentación de funciones\n",
    "\n",
    "Una función es un bloque de código organizado y reutilizable que se utiliza para realizar una tarea específica o un grupo de tareas relacionadas. A una función se le pide de entrada valores conocidos como parámetros o argumentos y devuelve,  en la mayoría de casos, objetos o valores como resultado.\n",
    "Una de la tareas más importantes en el trabajo con datos es la **documentación**, lo que debe hacerse también en el caso de las funciones. \n",
    "Debemos indicar lo que hace la función, los tipos y restricciones que deben tener los parámetros de entrada, y los valores devueltos.\n",
    "\n",
    "Para esto se sugiere seguir la suigiente esttructura:\n",
    "\n",
    ">```` \n",
    "def function(Parámetros)\n",
    "     '''\n",
    "     Descripción de lo que hace la función\n",
    "     Parameters\n",
    "     ----------\n",
    "     Parámetros 1: tipo\n",
    "                   Decripción\n",
    "     Parámetros 2: tipo\n",
    "                   Decripción\n",
    "     ...\n",
    "     Return\n",
    "     ------\n",
    "     Tipo\n",
    "         Desripción     \n",
    "     Precondiciones (o restricciones)\n",
    "     --------------\n",
    "     Desripción    \n",
    "     Example\n",
    "     -------\n",
    "     '>>>function(Parámetros)\n",
    "     Result\n",
    "     '''\n",
    "     Construcción de la función\n",
    "     return resultados(s))\n",
    "\n",
    "Ejemplo:               "
   ]
  },
  {
   "cell_type": "code",
   "execution_count": 12,
   "id": "983af7ef",
   "metadata": {
    "ExecuteTime": {
     "end_time": "2021-12-07T13:43:58.726543Z",
     "start_time": "2021-12-07T13:43:58.705543Z"
    }
   },
   "outputs": [
    {
     "name": "stdout",
     "output_type": "stream",
     "text": [
      "6\n",
      "Help on function sum_n_naturales in module __main__:\n",
      "\n",
      "sum_n_naturales(n)\n",
      "    Esta función suma los primeros n números naturales\n",
      "    Parameters\n",
      "    ----------\n",
      "    n : int\n",
      "    Corresponde al número natural n al que le debemos calcular la suma\n",
      "    \n",
      "    Return\n",
      "    ------\n",
      "    int\n",
      "    devuel la suma de los primeros n números naturales\n",
      "    \n",
      "    Precondition\n",
      "    ------------\n",
      "    n > 0\n",
      "    Example\n",
      "    -------\n",
      "    >>>sum_n_naturales(3)\n",
      "    6\n",
      "\n"
     ]
    }
   ],
   "source": [
    "def sum_n_naturales(n):\n",
    "    \"\"\"\n",
    "    Esta función suma los primeros n números naturales\n",
    "    Parameters\n",
    "    ----------\n",
    "    n : int\n",
    "    Corresponde al número natural n al que le debemos calcular la suma\n",
    "    \n",
    "    Return\n",
    "    ------\n",
    "    int\n",
    "    devuel la suma de los primeros n números naturales\n",
    "    \n",
    "    Precondition\n",
    "    ------------\n",
    "    n > 0\n",
    "    Example\n",
    "    -------\n",
    "    >>>sum_n_naturales(3)\n",
    "    6\n",
    "    \"\"\"\n",
    "    ntriag = (n * (n +1)) // 2\n",
    "    return ntriag\n",
    "\n",
    "sum_n_naturales(3)\n",
    "print(sum_n_naturales(3))\n",
    "help(sum_n_naturales)"
   ]
  },
  {
   "attachments": {
    "image.png": {
     "image/png": "[encoded data removed]"
    }
   },
   "cell_type": "markdown",
   "id": "4db1f065",
   "metadata": {},
   "source": [
    "## Algunas Extensiones para Jupyter\n",
    "\n",
    "\n",
    "Las extensiones a los notebooks de Jupyter (plug-ins-Nbextensions) nos ayudan a personalizar y a trabajar con mayor fluidez en esta herramienta. Con seguridad mejora nuestra experiencia en Jupyter. Lo mejor es instalarlas,junto con las extensiones, incluyendo el `Configurador de Nbextensions de Jupyter`. Esta instalación añadirá una pestaña, donde se pueden habilitar y deshabilitar las extensiones que se deseen. Enla web encontraremos nuevas extensiones que se irán instalando y añadiendo al conjunto disponible.\n",
    "\n",
    "![image.png](attachment:image.png)\n",
    "\n",
    "Para instalar `Nbextensions` se puede con Anaconda desde la línea de comandos con:\n",
    "\n",
    "```\n",
    "conda install -c conda-forge jupyter_contrib_nbextensions \n",
    "conda install -c conda-forge jupyter_nbextensions_configurator\n",
    "jupyter contrib nbextension install --user\n",
    "```\n",
    "O a través de `pip` con:\n",
    "```\n",
    "pip install jupyter_contrib_nbextensions\n",
    "pip install jupyter_nbextensions_configurator\n",
    "jupyter contrib nbextension install --user \n",
    "jupyter nbextensions_configurator enable --user\n",
    "```\n",
    "A continuación, se describen algunas extensiones que podrían llegar a ser útiles.\n",
    "\n",
    "Mayor información sobre la lista de extensiones disponibles en este [enlace](https://jupyter-contrib-nbextensions.readthedocs.io/en/latest/nbextensions.html)."
   ]
  },
  {
   "cell_type": "markdown",
   "id": "003a5095",
   "metadata": {},
   "source": [
    "### Execute time\n",
    "\n",
    "Esta extensión muestra una línea en la parte inferior de tu celda de código con la fecha y la hora de la última ejecución, u asu vez, el tiempo que tardó en ejecutarse. Esta opción es una alternativa al uso de la función mágica `%Time`."
   ]
  },
  {
   "cell_type": "markdown",
   "id": "c8552bb0",
   "metadata": {},
   "source": [
    "### Notify\n",
    "\n",
    "Extensión del cuaderno Jupyter para mostrar una notificación web que avise cuando el kernel queda inactivo. \n",
    "Inicialmente, se muestra en la barra de herramientas un botón [$\\checkmark$] para solicitar permisos de notificación. Una vez concedidos los permisos de notificación, este botón se sustituye por un menú desplegable con cinco opciones: Desactivado, 0, 5, 10 y 30 segundos. Se selecciona el tiempo mínimo necesario de ocupación del kernel para activar una notificación (por ejemplo, si selecciona 5, sólo se mostrará una notificación si el kernel estuvo ocupado durante más de 5 segundos). \n",
    "\n",
    "Ejemplo:\n",
    "```\n",
    "Si habilitamos 5 segundos para el código:\n",
    "S = [n ** 2 for n in range(10000)]\n",
    "```\n",
    "Tenemos un mensaje como este:\n",
    "\n"
   ]
  },
  {
   "cell_type": "code",
   "execution_count": 13,
   "id": "fec4fa4d",
   "metadata": {
    "ExecuteTime": {
     "end_time": "2021-12-01T08:41:57.541258Z",
     "start_time": "2021-12-01T08:41:57.510729Z"
    }
   },
   "outputs": [],
   "source": [
    "# Ejemplo de Execute Time y Notify\n",
    "S = [n ** 2 for n in range(10000)]"
   ]
  },
  {
   "attachments": {
    "image-2.png": {
     "image/png": "[encoded data removed]"
    }
   },
   "cell_type": "markdown",
   "id": "a6bbb88d",
   "metadata": {},
   "source": [
    "### Scratchpad \n",
    "\n",
    "Permite probar código por fuera de las celdas del notebook en el que se está trabajando. \n",
    "Una vez habilitado, el `Scratchpad` actúa como un cuaderno de notas donde se puede ejecutar código sin tener que modificar el notebook. Las celdas del Bloc de notas se ejecutan usando el ícono en la parte inferior derecha de la pantalla, o el atajo de teclado `Ctrl+B`.\n",
    "\n",
    " Ejemplo:\n",
    " \n",
    " El siguiente código se ha ejecutado desde el `Scratchpad`.\n",
    " \n",
    " ![image-2.png](attachment:image-2.png)\n",
    " \n",
    " Se ejecuta una serie de sentencias sin afectar el código de las celdas de los notebooks.\n",
    " "
   ]
  },
  {
   "cell_type": "markdown",
   "id": "39e33d45",
   "metadata": {},
   "source": [
    "### Tabla de contenido (Table of Contents (2))\n",
    "\n",
    "Esta extensión muestra el índice de las secciones y subsecciones en una ventana flotante, por lo general en la parte superior izquierda del notebook. La extensión incluye la opción de añadir una celda de tabla de contenido en la parte superior del cuaderno. Se puede utilizar la tabla de contenido para desplazarse por el notebook, ir a secciones específicas y contraer las secciones."
   ]
  },
  {
   "cell_type": "markdown",
   "id": "bde56b83",
   "metadata": {},
   "source": [
    "### RISE\n",
    "\n",
    "RISE permite convertir instantáneamente sus notebooks Jupyter en una presentación de diapositivas. La instalación se realiza con `pip install RISE`o `conda install -c conda-forge rise`. Más información en este [enlace](https://rise.readthedocs.io/en/stable/) o en este [enlace](https://www.blopig.com/blog/2020/10/from-jupyter-to-slides-using-rise/)."
   ]
  },
  {
   "cell_type": "markdown",
   "id": "5147bb05",
   "metadata": {
    "ExecuteTime": {
     "end_time": "2021-11-16T13:42:46.703031Z",
     "start_time": "2021-11-16T13:42:46.689988Z"
    }
   },
   "source": [
    "### Calico document tools\n",
    "\n",
    "Permite la inclusión de citas y referencias bibliográficas.  Para esto se puede habilitar la extensión con:\n",
    "\n",
    "```\n",
    "jupyter nbextension install https://bitbucket.org/ipre/calico/downloads/calico-document-tools-1.0.zip\n",
    "jupyter nbextension enable calico-document-tools\n",
    "```\n",
    "\n",
    "Se genera un boton de `Generate References`, que añadirá una sección de referencias al final del notebook, siempre que se hayan realizado las citas correspondientes. Se generarán enlaces que llevan de la cita a la Referencia y de la Referencia a la cita.\n",
    "\n",
    "Para citar se debe utlizar las siguiente estructura: Ej. `<a name=\"ref-1\"/>[(UNDEFINED)](#cite-nombreref)`. En donde `nombreref` es el nombre de la referencia en formato bibtex.\n",
    "\n",
    "Más información en este [enlace](https://jupyter.brynmawr.edu/services/public/dblank/jupyter.cs/Examples/Calico%20Document%20Tools%20and%20Bibtex.ipynb) o en este [enlace](https://jupyter.brynmawr.edu/services/public/dblank/Jupyter%20Notebook%20Users%20Manual.ipynb).\n",
    "\n",
    "Veamos como aparece la cita en este ejemplo <a name=\"ref-2\"/>[(P&eacute;rez and Granger, 2007)](#cite-PER-GRA:2007) o en este <a name=\"ref-3\"/>[(Kepps, 2002)](#cite-calicoww2:2).\n",
    "\n",
    "Las referencias en formato bibtex se debe incluir en alguna celda markdown del notebook. Para el ejemplo, la estructura es la siguiente:\n",
    "\n",
    "```\n",
    "<!--bibtex\n",
    "\n",
    "@Article{PER-GRA:2007,\n",
    "  Author    = {P\\'erez, Fernando and Granger, Brian E.},\n",
    "  Title     = {{IP}ython: a System for Interactive Scientific Computing},\n",
    "  Journal   = {Computing in Science and Engineering},\n",
    "  Volume    = {9},\n",
    "  Number    = {3},\n",
    "  Pages     = {21--29},\n",
    "  month     = may,\n",
    "  year      = 2007,\n",
    "  url       = \"http://ipython.org\",\n",
    "  ISSN      = \"1521-9615\",\n",
    "  doi       = {10.1109/MCSE.2007.53},\n",
    "  publisher = {IEEE Computer Society},\n",
    "}\n",
    "\n",
    "@book{calicoww2:2,\n",
    "    title = {Rebuilding Calico After Japanese Occupation},\n",
    "    author = {Kepps, Milo },\n",
    "    year = {2002},\n",
    "    publisher = {Python Books}\n",
    "}\n",
    "... Otras referencias Bibtex aquí.\n",
    "\n",
    "-->\n",
    "```"
   ]
  },
  {
   "cell_type": "markdown",
   "id": "ebc65832",
   "metadata": {},
   "source": [
    "<!--bibtex\n",
    "\n",
    "@Article{PER-GRA:2007,\n",
    "  Author    = {P\\'erez, Fernando and Granger, Brian E.},\n",
    "  Title     = {{IP}ython: a System for Interactive Scientific Computing},\n",
    "  Journal   = {Computing in Science and Engineering},\n",
    "  Volume    = {9},\n",
    "  Number    = {3},\n",
    "  Pages     = {21--29},\n",
    "  month     = may,\n",
    "  year      = 2007,\n",
    "  url       = \"http://ipython.org\",\n",
    "  ISSN      = \"1521-9615\",\n",
    "  doi       = {10.1109/MCSE.2007.53},\n",
    "  publisher = {IEEE Computer Society},\n",
    "}\n",
    "\n",
    "@book{calicoww2:2,\n",
    "    title = {Rebuilding Calico After Japanese Occupation},\n",
    "    author = {Kepps, Milo },\n",
    "    year = {2002},\n",
    "    publisher = {Python Books}\n",
    "}\n",
    "... Otras referencias Bibtex aquí.\n",
    "\n",
    "-->"
   ]
  },
  {
   "cell_type": "markdown",
   "id": "3d3b7560",
   "metadata": {},
   "source": [
    "### Autopep8-Black:\n",
    "\n",
    "Existen diferentes herramientas para ayudar a dar formato automático al código. Dos de ellas son `Autopep8` y `Black`. La primera se instala con `pip install autopep8` y la segunda con `pip install nb-black`.\n",
    "\n",
    "La primera genera una extensión que debe ser habilitada: \n",
    "\n",
    " [$\\checkmark$] Autopep8.    \n",
    "\n",
    "La segunda, se habilita con `%load_ext lab_black`. \n",
    "\n",
    " Ejemplo: (Formatear el siguiente código). \n",
    "\n",
    "```\n",
    "def foo():\n",
    " return 2021\n",
    " \n",
    "Diccionario= {\"brand\": \"Ford\", \"model\": \"Mustang\", \"year\": 1964, \"brand\": \"Bmw\", \"model\": \"M3\", \"year\": 1980} `\n",
    "    "
   ]
  },
  {
   "cell_type": "code",
   "execution_count": null,
   "id": "dcf2730d",
   "metadata": {
    "ExecuteTime": {
     "end_time": "2021-11-12T11:31:18.180311Z",
     "start_time": "2021-11-12T11:31:18.166315Z"
    }
   },
   "outputs": [],
   "source": [
    "'''\n",
    "%load_ext lab_black  \n",
    "\n",
    "def foo():\n",
    " return 2021\n",
    " \n",
    "Diccionario= {\"brand\": \"Ford\", \"model\": \"Mustang\", \"year\": 1964, \"brand\": \"Bmw\", \"model\": \"M3\", \"year\": 1980}\n",
    "'''"
   ]
  },
  {
   "cell_type": "markdown",
   "id": "f7e5254f",
   "metadata": {},
   "source": [
    "##  Algunas fuentes de datos (Datasets) dentro de las librerias de Python\n",
    "\n",
    "A continuación fuentes de datos disponibles en algunas de las principales librerias de Python y en una muestra de entidades con datasets de acceso abierto."
   ]
  },
  {
   "cell_type": "markdown",
   "id": "c5bc168d",
   "metadata": {
    "ExecuteTime": {
     "end_time": "2021-11-10T11:15:22.870387Z",
     "start_time": "2021-11-10T11:15:22.835391Z"
    }
   },
   "source": [
    "### Datasets en Librerias de Python"
   ]
  },
  {
   "cell_type": "markdown",
   "id": "dc4f5cfa",
   "metadata": {},
   "source": [
    "* En [PyDataset](https://github.com/iamaziz/PyDataset)"
   ]
  },
  {
   "cell_type": "code",
   "execution_count": null,
   "id": "3e2dc365",
   "metadata": {
    "ExecuteTime": {
     "end_time": "2021-12-07T13:53:41.279780Z",
     "start_time": "2021-12-07T13:53:41.214937Z"
    }
   },
   "outputs": [],
   "source": [
    "from pydataset import data\n",
    "import pandas as pd\n",
    "pd.options.display.max_rows = None\n",
    "data()\n",
    "#data('titanic', show_doc=True)"
   ]
  },
  {
   "cell_type": "markdown",
   "id": "de2c16c7",
   "metadata": {},
   "source": [
    "* En [Seaborn](https://github.com/mwaskom/seaborn-data)"
   ]
  },
  {
   "cell_type": "code",
   "execution_count": 16,
   "id": "0b52f5e0",
   "metadata": {
    "ExecuteTime": {
     "end_time": "2021-12-07T13:55:35.140232Z",
     "start_time": "2021-12-07T13:55:34.595747Z"
    }
   },
   "outputs": [
    {
     "name": "stdout",
     "output_type": "stream",
     "text": [
      "['anagrams', 'anscombe', 'attention', 'brain_networks', 'car_crashes', 'diamonds', 'dots', 'exercise', 'flights', 'fmri', 'gammas', 'geyser', 'iris', 'mpg', 'penguins', 'planets', 'taxis', 'tips', 'titanic']\n",
      "<class 'pandas.core.frame.DataFrame'>\n",
      "RangeIndex: 1035 entries, 0 to 1034\n",
      "Data columns (total 6 columns):\n",
      " #   Column          Non-Null Count  Dtype  \n",
      "---  ------          --------------  -----  \n",
      " 0   method          1035 non-null   object \n",
      " 1   number          1035 non-null   int64  \n",
      " 2   orbital_period  992 non-null    float64\n",
      " 3   mass            513 non-null    float64\n",
      " 4   distance        808 non-null    float64\n",
      " 5   year            1035 non-null   int64  \n",
      "dtypes: float64(3), int64(2), object(1)\n",
      "memory usage: 48.6+ KB\n"
     ]
    },
    {
     "data": {
      "text/html": [
       "<div>\n",
       "<style scoped>\n",
       "    .dataframe tbody tr th:only-of-type {\n",
       "        vertical-align: middle;\n",
       "    }\n",
       "\n",
       "    .dataframe tbody tr th {\n",
       "        vertical-align: top;\n",
       "    }\n",
       "\n",
       "    .dataframe thead th {\n",
       "        text-align: right;\n",
       "    }\n",
       "</style>\n",
       "<table border=\"1\" class=\"dataframe\">\n",
       "  <thead>\n",
       "    <tr style=\"text-align: right;\">\n",
       "      <th></th>\n",
       "      <th>method</th>\n",
       "      <th>number</th>\n",
       "      <th>orbital_period</th>\n",
       "      <th>mass</th>\n",
       "      <th>distance</th>\n",
       "      <th>year</th>\n",
       "    </tr>\n",
       "  </thead>\n",
       "  <tbody>\n",
       "    <tr>\n",
       "      <th>0</th>\n",
       "      <td>Radial Velocity</td>\n",
       "      <td>1</td>\n",
       "      <td>269.300</td>\n",
       "      <td>7.10</td>\n",
       "      <td>77.40</td>\n",
       "      <td>2006</td>\n",
       "    </tr>\n",
       "    <tr>\n",
       "      <th>1</th>\n",
       "      <td>Radial Velocity</td>\n",
       "      <td>1</td>\n",
       "      <td>874.774</td>\n",
       "      <td>2.21</td>\n",
       "      <td>56.95</td>\n",
       "      <td>2008</td>\n",
       "    </tr>\n",
       "    <tr>\n",
       "      <th>2</th>\n",
       "      <td>Radial Velocity</td>\n",
       "      <td>1</td>\n",
       "      <td>763.000</td>\n",
       "      <td>2.60</td>\n",
       "      <td>19.84</td>\n",
       "      <td>2011</td>\n",
       "    </tr>\n",
       "    <tr>\n",
       "      <th>3</th>\n",
       "      <td>Radial Velocity</td>\n",
       "      <td>1</td>\n",
       "      <td>326.030</td>\n",
       "      <td>19.40</td>\n",
       "      <td>110.62</td>\n",
       "      <td>2007</td>\n",
       "    </tr>\n",
       "    <tr>\n",
       "      <th>4</th>\n",
       "      <td>Radial Velocity</td>\n",
       "      <td>1</td>\n",
       "      <td>516.220</td>\n",
       "      <td>10.50</td>\n",
       "      <td>119.47</td>\n",
       "      <td>2009</td>\n",
       "    </tr>\n",
       "  </tbody>\n",
       "</table>\n",
       "</div>"
      ],
      "text/plain": [
       "            method  number  orbital_period   mass  distance  year\n",
       "0  Radial Velocity       1         269.300   7.10     77.40  2006\n",
       "1  Radial Velocity       1         874.774   2.21     56.95  2008\n",
       "2  Radial Velocity       1         763.000   2.60     19.84  2011\n",
       "3  Radial Velocity       1         326.030  19.40    110.62  2007\n",
       "4  Radial Velocity       1         516.220  10.50    119.47  2009"
      ]
     },
     "execution_count": 16,
     "metadata": {},
     "output_type": "execute_result"
    }
   ],
   "source": [
    "# Import seaborn\n",
    "import seaborn as sns\n",
    "# Check out available datasets\n",
    "print(sns.get_dataset_names())\n",
    "\n",
    "# Load as a dataframe\n",
    "df = sns.load_dataset('planets')\n",
    "df.info()\n",
    "df.head()"
   ]
  },
  {
   "cell_type": "markdown",
   "id": "bf75bed7",
   "metadata": {},
   "source": [
    "* En [Sklearn](https://scikit-learn.org/stable/datasets.html)"
   ]
  },
  {
   "cell_type": "code",
   "execution_count": 17,
   "id": "f5db6133",
   "metadata": {
    "ExecuteTime": {
     "end_time": "2021-12-07T06:03:43.041921Z",
     "start_time": "2021-12-07T06:03:42.795655Z"
    }
   },
   "outputs": [
    {
     "name": "stdout",
     "output_type": "stream",
     "text": [
      "<class 'pandas.core.frame.DataFrame'>\n",
      "RangeIndex: 20640 entries, 0 to 20639\n",
      "Data columns (total 9 columns):\n",
      " #   Column       Non-Null Count  Dtype  \n",
      "---  ------       --------------  -----  \n",
      " 0   MedInc       20640 non-null  float64\n",
      " 1   HouseAge     20640 non-null  float64\n",
      " 2   AveRooms     20640 non-null  float64\n",
      " 3   AveBedrms    20640 non-null  float64\n",
      " 4   Population   20640 non-null  float64\n",
      " 5   AveOccup     20640 non-null  float64\n",
      " 6   Latitude     20640 non-null  float64\n",
      " 7   Longitude    20640 non-null  float64\n",
      " 8   MedHouseVal  20640 non-null  float64\n",
      "dtypes: float64(9)\n",
      "memory usage: 1.4 MB\n"
     ]
    }
   ],
   "source": [
    "# Import package\n",
    "from sklearn.datasets import fetch_california_housing\n",
    "# Load data (will download the data if it's the first time loading)\n",
    "housing = fetch_california_housing(as_frame=True)\n",
    "# Create a dataframe\n",
    "df = housing['data'].join(housing['target'])\n",
    "df.info()"
   ]
  },
  {
   "cell_type": "code",
   "execution_count": 19,
   "id": "d60bae54",
   "metadata": {},
   "outputs": [
    {
     "name": "stdout",
     "output_type": "stream",
     "text": [
      ".. _california_housing_dataset:\n",
      "\n",
      "California Housing dataset\n",
      "--------------------------\n",
      "\n",
      "**Data Set Characteristics:**\n",
      "\n",
      "    :Number of Instances: 20640\n",
      "\n",
      "    :Number of Attributes: 8 numeric, predictive attributes and the target\n",
      "\n",
      "    :Attribute Information:\n",
      "        - MedInc        median income in block\n",
      "        - HouseAge      median house age in block\n",
      "        - AveRooms      average number of rooms\n",
      "        - AveBedrms     average number of bedrooms\n",
      "        - Population    block population\n",
      "        - AveOccup      average house occupancy\n",
      "        - Latitude      house block latitude\n",
      "        - Longitude     house block longitude\n",
      "\n",
      "    :Missing Attribute Values: None\n",
      "\n",
      "This dataset was obtained from the StatLib repository.\n",
      "http://lib.stat.cmu.edu/datasets/\n",
      "\n",
      "The target variable is the median house value for California districts.\n",
      "\n",
      "This dataset was derived from the 1990 U.S. census, using one row per census\n",
      "block group. A block group is the smallest geographical unit for which the U.S.\n",
      "Census Bureau publishes sample data (a block group typically has a population\n",
      "of 600 to 3,000 people).\n",
      "\n",
      "It can be downloaded/loaded using the\n",
      ":func:`sklearn.datasets.fetch_california_housing` function.\n",
      "\n",
      ".. topic:: References\n",
      "\n",
      "    - Pace, R. Kelley and Ronald Barry, Sparse Spatial Autoregressions,\n",
      "      Statistics and Probability Letters, 33 (1997) 291-297\n",
      "\n"
     ]
    }
   ],
   "source": [
    "print(housing.DESCR)"
   ]
  },
  {
   "cell_type": "markdown",
   "id": "b83b3df6",
   "metadata": {},
   "source": [
    "* En [Statmodels](https://www.statsmodels.org/devel/datasets/index.html)"
   ]
  },
  {
   "cell_type": "code",
   "execution_count": 21,
   "id": "70169445",
   "metadata": {
    "ExecuteTime": {
     "end_time": "2021-12-07T05:59:19.774472Z",
     "start_time": "2021-12-07T05:59:18.017053Z"
    }
   },
   "outputs": [
    {
     "name": "stdout",
     "output_type": "stream",
     "text": [
      "<class 'pandas.core.frame.DataFrame'>\n",
      "RangeIndex: 203 entries, 0 to 202\n",
      "Data columns (total 14 columns):\n",
      " #   Column    Non-Null Count  Dtype  \n",
      "---  ------    --------------  -----  \n",
      " 0   year      203 non-null    float64\n",
      " 1   quarter   203 non-null    float64\n",
      " 2   realgdp   203 non-null    float64\n",
      " 3   realcons  203 non-null    float64\n",
      " 4   realinv   203 non-null    float64\n",
      " 5   realgovt  203 non-null    float64\n",
      " 6   realdpi   203 non-null    float64\n",
      " 7   cpi       203 non-null    float64\n",
      " 8   m1        203 non-null    float64\n",
      " 9   tbilrate  203 non-null    float64\n",
      " 10  unemp     203 non-null    float64\n",
      " 11  pop       203 non-null    float64\n",
      " 12  infl      203 non-null    float64\n",
      " 13  realint   203 non-null    float64\n",
      "dtypes: float64(14)\n",
      "memory usage: 22.3 KB\n",
      "<class 'pandas.core.frame.DataFrame'>\n",
      "RangeIndex: 16 entries, 0 to 15\n",
      "Data columns (total 7 columns):\n",
      " #   Column   Non-Null Count  Dtype  \n",
      "---  ------   --------------  -----  \n",
      " 0   TOTEMP   16 non-null     float64\n",
      " 1   GNPDEFL  16 non-null     float64\n",
      " 2   GNP      16 non-null     float64\n",
      " 3   UNEMP    16 non-null     float64\n",
      " 4   ARMED    16 non-null     float64\n",
      " 5   POP      16 non-null     float64\n",
      " 6   YEAR     16 non-null     float64\n",
      "dtypes: float64(7)\n",
      "memory usage: 1.0 KB\n"
     ]
    }
   ],
   "source": [
    "# Import package\n",
    "import statsmodels.api as sm\n",
    "# Load data as a dataframe\n",
    "df = sm.datasets.macrodata.load_pandas()['data']\n",
    "df.info()\n",
    "df1 = sm.datasets.longley.load_pandas()['data']\n",
    "df1.info()"
   ]
  },
  {
   "cell_type": "markdown",
   "id": "a85a065b",
   "metadata": {},
   "source": [
    "### Fuentes de datos de acceso abierto\n",
    "\n",
    "A continuación otra pequeña muestra de fuentes de datos de acceso abierto: \n",
    "      \n",
    "+ [Kaggle](https://www.kaggle.com/datasets). Se creó para ayudar a las empresas a organizar concursos de ciencia de datos para resolver problemas complejos utilizando datos. \n",
    "+ [FiveThirtyEight](https://data.fivethirtyeight.com/). Datos de periodismo. Datos detras de las noticias de política, ciencia, cultura, deportes, entre otros. Principalmente contiene información de Estados Unidos.\n",
    "+ [Banco Mundial](https://datos.bancomundial.org/). Información de diferentes paises y aspectos que buscan ayudar a mejorar la calidad de vida a través de los datos.\n",
    "+ [Repositorio UCI ML](https://archive.ics.uci.edu/ml/datasets.php). El repositorio UCI Machine Learning alberga una colección de bases de datos y datasets que son utilizados por la comunidad para el análisis empírico de algoritmos de Machine Learning.Actualmente alberga más de 500 conjuntos de datos. Para citarlo: https://archive.ics.uci.edu/ml/citation_policy.html.\n",
    "+ [Datos abiertos del Ayuntamiento de Madrid](https://datos.madrid.es/portal/site/egob).  Portal de Datos Abiertos dedicado a promover el acceso a los datos del gobierno municipal e impulsar el desarrollo de herramientas creativas para atraer y servir a la ciudadanía de Madrid. Al menos 500 Datasets.\n",
    "+ [Datos abiertos del Gobierno de España](https://datos.gob.es/#slide-0). Mas de 50.000 conjuntos de datos de Gobernabilidad, Sector público, demografía, ciencia y tecnología, deportes, salud y bienestar, medio ambiente, legislación, entre otros. Busca promocionar la apertura de la información pública y el desarrollo de servicios avanzados basados en datos. Es promovida por el Ministerio de Asuntos Económicos y Transformación Digital y la Entidad Pública Empresarial Red.es.\n",
    "+ [Portal de Datos Abiertos de Esri España](https://opendata.esri.es/). Ofrece datos tratados por Esri España y también es una recopilación de los diferentes portales Open Data desarrollados con tecnología Esri existentes en la actualidad. La tecnología de Esri permite poner a disposición de los usuarios tecnología espacial basada en mapas interactivos que capacitan a los profesionales de información para la toma de decisiones estratégicas. Encuentras datasets de salud, ciencia, sociodemográficos, comercio, empresa y negocios, educación, economía, transporte, entre otros.\n",
    "+ [Repositorio de datos del Gobierno de Navarra](https://gobiernoabierto.navarra.es/es/open-data/que-es-open-data/open-data-espana). Presenta un repositorio de las diferentes entidades públicas que permiten el acceso abierto a datasets de ambito nacional, comunidades autonómicas, diputaciones y entidades locales."
   ]
  },
  {
   "cell_type": "markdown",
   "id": "e84b6b8e",
   "metadata": {},
   "source": [
    "---"
   ]
  },
  {
   "cell_type": "markdown",
   "id": "60126bd3",
   "metadata": {},
   "source": [
    "# References\n",
    "\n",
    "<a name=\"cite-PER-GRA:2007\"/><sup>[^](#ref-2) </sup>P&eacute;rez, Fernando and Granger, Brian E.. 2007. _IPython: a System for Interactive Scientific Computing_. [URL](http://ipython.org)\n",
    "\n",
    "<a name=\"cite-calicoww2:2\"/><sup>[^](#ref-3) </sup>Kepps, Milo . 2002. _Rebuilding Calico After Japanese Occupation_.\n",
    "\n"
   ]
  }
 ],
 "metadata": {
  "hide_input": false,
  "ipub": {
   "titlepage": {
    "affiliation": "UNIR, Spain",
    "author": "Miller Janny Ariza Garzón",
    "email": "millerjanny.ariza@unir.net",
    "institution": [
     "UNIR"
    ],
    "logo": "https://www.unir.net/wp-content/uploads/2019/11/Unir_2021_logo.svg",
    "subtitle": "Sub-Title",
    "tagline": "A tagline for the report.",
    "title": "Taller de Herramientas de Jupyter Notebook"
   }
  },
  "kernelspec": {
   "display_name": "Python 3 (ipykernel)",
   "language": "python",
   "name": "python3"
  },
  "language_info": {
   "codemirror_mode": {
    "name": "ipython",
    "version": 3
   },
   "file_extension": ".py",
   "mimetype": "text/x-python",
   "name": "python",
   "nbconvert_exporter": "python",
   "pygments_lexer": "ipython3",
   "version": "3.9.7"
  },
  "latex_envs": {
   "LaTeX_envs_menu_present": true,
   "autoclose": false,
   "autocomplete": true,
   "bibliofile": "bibliography.bib",
   "cite_by": "apalike",
   "current_citInitial": 1,
   "eqLabelWithNumbers": true,
   "eqNumInitial": 1,
   "hotkeys": {
    "equation": "Ctrl-E",
    "itemize": "Ctrl-I"
   },
   "labels_anchors": false,
   "latex_user_defs": false,
   "report_style_numbering": false,
   "user_envs_cfg": false
  },
  "latex_metadata": {
   "affiliation": "UNIR, Spain",
   "author": "Miller Janny Ariza Garzón",
   "title": "Taller de Herramientas de Jupyter Notebook"
  },
  "toc": {
   "base_numbering": 1,
   "nav_menu": {
    "height": "240px",
    "width": "208px"
   },
   "number_sections": true,
   "sideBar": true,
   "skip_h1_title": true,
   "title_cell": "Tabla de Contenido",
   "title_sidebar": "Contenido",
   "toc_cell": false,
   "toc_position": {
    "height": "148px",
    "left": "30px",
    "top": "135.2px",
    "width": "225.778px"
   },
   "toc_section_display": true,
   "toc_window_display": true
  }
 },
 "nbformat": 4,
 "nbformat_minor": 5
}
