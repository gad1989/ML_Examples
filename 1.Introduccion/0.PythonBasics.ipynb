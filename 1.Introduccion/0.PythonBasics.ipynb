{
 "cells": [
  {
   "cell_type": "markdown",
   "id": "775b9ec9",
   "metadata": {},
   "source": [
    "# EJEMPLOS DE VARIABLES GLOBALES Y LOCALES"
   ]
  },
  {
   "cell_type": "code",
   "execution_count": null,
   "id": "73609987",
   "metadata": {},
   "outputs": [],
   "source": [
    "x = 5"
   ]
  },
  {
   "cell_type": "code",
   "execution_count": null,
   "id": "9078bf6c",
   "metadata": {},
   "outputs": [],
   "source": [
    "def miFuncion1(a):\n",
    "    b=1\n",
    "    return a+b\n",
    "\n",
    "def miFuncion2(a):\n",
    "    x=2\n",
    "    return a+x\n",
    "\n",
    "def miFuncion3(a):\n",
    "    global y\n",
    "    y= 1\n",
    "    return a+y\n",
    "\n",
    "def miFuncion4(a):\n",
    "    global x\n",
    "    x=0\n",
    "    return a+x"
   ]
  },
  {
   "cell_type": "code",
   "execution_count": null,
   "id": "69b1ee00",
   "metadata": {},
   "outputs": [],
   "source": [
    "miFuncion1(1)"
   ]
  },
  {
   "cell_type": "code",
   "execution_count": null,
   "id": "2f946e9a",
   "metadata": {},
   "outputs": [],
   "source": [
    "miFuncion2(1)"
   ]
  },
  {
   "cell_type": "code",
   "execution_count": null,
   "id": "fb556d8f",
   "metadata": {},
   "outputs": [],
   "source": [
    "miFuncion3(1)"
   ]
  },
  {
   "cell_type": "code",
   "execution_count": null,
   "id": "f77f421d",
   "metadata": {},
   "outputs": [],
   "source": [
    "miFuncion4(1)"
   ]
  },
  {
   "cell_type": "code",
   "execution_count": null,
   "id": "bf32a61f",
   "metadata": {},
   "outputs": [],
   "source": [
    "#se modifico variable global\n",
    "x"
   ]
  },
  {
   "cell_type": "markdown",
   "id": "bf75881f",
   "metadata": {},
   "source": [
    "# Cadenas"
   ]
  },
  {
   "cell_type": "code",
   "execution_count": null,
   "id": "15fc1120",
   "metadata": {},
   "outputs": [],
   "source": [
    "x = \"Bienvenido a la asignatura IA\""
   ]
  },
  {
   "cell_type": "code",
   "execution_count": null,
   "id": "f46d931d",
   "metadata": {},
   "outputs": [],
   "source": [
    "print(x[0])"
   ]
  },
  {
   "cell_type": "code",
   "execution_count": null,
   "id": "908c806d",
   "metadata": {},
   "outputs": [],
   "source": [
    "print(x[2:6]) #va de la posicion 2 a la 6 sin considerar la ultima"
   ]
  },
  {
   "cell_type": "code",
   "execution_count": null,
   "id": "451ab669",
   "metadata": {},
   "outputs": [],
   "source": [
    "print(x[-6:-4]) # siempre posicion de la derecha exclusive"
   ]
  },
  {
   "cell_type": "code",
   "execution_count": null,
   "id": "29746cef",
   "metadata": {},
   "outputs": [],
   "source": [
    "x = \"  Bienvenido a la asignatura IA  \""
   ]
  },
  {
   "cell_type": "code",
   "execution_count": null,
   "id": "31831fb8",
   "metadata": {},
   "outputs": [],
   "source": [
    "print(x.strip())"
   ]
  },
  {
   "cell_type": "code",
   "execution_count": null,
   "id": "b50f7ddd",
   "metadata": {},
   "outputs": [],
   "source": [
    "print(x.lower())"
   ]
  },
  {
   "cell_type": "code",
   "execution_count": null,
   "id": "02000a72",
   "metadata": {},
   "outputs": [],
   "source": [
    "print(x.upper())"
   ]
  },
  {
   "cell_type": "code",
   "execution_count": null,
   "id": "a1a84b80",
   "metadata": {},
   "outputs": [],
   "source": [
    "print(x.replace(\"Bien\",\"Mal\"))"
   ]
  },
  {
   "cell_type": "code",
   "execution_count": null,
   "id": "eddb23e0",
   "metadata": {},
   "outputs": [],
   "source": [
    "print(x.split(\" \"))  #genera un array"
   ]
  },
  {
   "cell_type": "code",
   "execution_count": null,
   "id": "624a3048",
   "metadata": {},
   "outputs": [],
   "source": [
    "print(\"IA\" in x) #considera la cadena como si fuera un array de letras"
   ]
  },
  {
   "cell_type": "markdown",
   "id": "b01d0bca",
   "metadata": {},
   "source": [
    "# Ejemplo de referencia y valor"
   ]
  },
  {
   "cell_type": "code",
   "execution_count": null,
   "id": "be771a4f",
   "metadata": {},
   "outputs": [],
   "source": [
    "a = [\"perro\",\"gato\"]\n",
    "b = [\"perro\",\"gato\"]\n",
    "c = a"
   ]
  },
  {
   "cell_type": "code",
   "execution_count": null,
   "id": "65f48a31",
   "metadata": {},
   "outputs": [],
   "source": [
    "a == b #mismo valor"
   ]
  },
  {
   "cell_type": "code",
   "execution_count": null,
   "id": "4862ae28",
   "metadata": {},
   "outputs": [],
   "source": [
    "a is b #no son el mismo objeto"
   ]
  },
  {
   "cell_type": "code",
   "execution_count": null,
   "id": "d67ffada",
   "metadata": {},
   "outputs": [],
   "source": [
    "a is c #mismo valor"
   ]
  },
  {
   "cell_type": "code",
   "execution_count": null,
   "id": "114465d2",
   "metadata": {},
   "outputs": [],
   "source": [
    "c[0] = \"cuy\" #cambia el objeto e impacta a \"a\"\n",
    "a"
   ]
  },
  {
   "cell_type": "markdown",
   "id": "d20e4585",
   "metadata": {},
   "source": [
    "# Colecciones"
   ]
  },
  {
   "cell_type": "code",
   "execution_count": null,
   "id": "d63ab292",
   "metadata": {},
   "outputs": [],
   "source": [
    "######Listas############\n",
    "x = [\"perro\",2,3.56]"
   ]
  },
  {
   "cell_type": "code",
   "execution_count": null,
   "id": "129f4f1f",
   "metadata": {},
   "outputs": [],
   "source": [
    "x[2]"
   ]
  },
  {
   "cell_type": "code",
   "execution_count": null,
   "id": "2636b7a7",
   "metadata": {},
   "outputs": [],
   "source": [
    "for i in x:\n",
    "    print(i)"
   ]
  },
  {
   "cell_type": "code",
   "execution_count": null,
   "id": "7d881eaf",
   "metadata": {},
   "outputs": [],
   "source": [
    "#añade\n",
    "x.append(\"loro\")\n",
    "x"
   ]
  },
  {
   "cell_type": "code",
   "execution_count": null,
   "id": "db12b691",
   "metadata": {},
   "outputs": [],
   "source": [
    "#remueve\n",
    "x.remove(2)\n",
    "x"
   ]
  },
  {
   "cell_type": "code",
   "execution_count": null,
   "id": "6a098875",
   "metadata": {},
   "outputs": [],
   "source": [
    "x.pop() #elimina ultimo elemento\n",
    "x"
   ]
  },
  {
   "cell_type": "code",
   "execution_count": null,
   "id": "dd01d4ce",
   "metadata": {},
   "outputs": [],
   "source": [
    "del x #elimina lista entera"
   ]
  },
  {
   "cell_type": "code",
   "execution_count": null,
   "id": "537651c1",
   "metadata": {},
   "outputs": [],
   "source": [
    "######Tuplas############"
   ]
  },
  {
   "cell_type": "code",
   "execution_count": null,
   "id": "a5c2d29a",
   "metadata": {},
   "outputs": [],
   "source": [
    "x = (\"perro\",34,4.57)"
   ]
  },
  {
   "cell_type": "code",
   "execution_count": null,
   "id": "17dea797",
   "metadata": {},
   "outputs": [],
   "source": [
    "x[1]"
   ]
  },
  {
   "cell_type": "code",
   "execution_count": null,
   "id": "99c0ac5c",
   "metadata": {},
   "outputs": [],
   "source": [
    "x.add(\"gato\") #no permite añadir"
   ]
  },
  {
   "cell_type": "code",
   "execution_count": null,
   "id": "504aa874",
   "metadata": {},
   "outputs": [],
   "source": [
    "for i in x:  #se puede recorrer\n",
    "    print(i)"
   ]
  },
  {
   "cell_type": "code",
   "execution_count": null,
   "id": "48a76195",
   "metadata": {},
   "outputs": [],
   "source": [
    "x[1] = 55  #no se puede modificar"
   ]
  },
  {
   "cell_type": "code",
   "execution_count": null,
   "id": "e2be8d2c",
   "metadata": {},
   "outputs": [],
   "source": [
    "#############sets##################\n",
    "x = {\"perro\",45}"
   ]
  },
  {
   "cell_type": "code",
   "execution_count": null,
   "id": "b54aee47",
   "metadata": {},
   "outputs": [],
   "source": [
    "x[0]  # no se puede recorrer ya que no está ordenado"
   ]
  },
  {
   "cell_type": "code",
   "execution_count": null,
   "id": "fd97ae91",
   "metadata": {},
   "outputs": [],
   "source": [
    "print(\"perro\" in x)"
   ]
  },
  {
   "cell_type": "code",
   "execution_count": null,
   "id": "e64731b4",
   "metadata": {},
   "outputs": [],
   "source": [
    "x.add(\"\")  #si se puede añadir\n",
    "x"
   ]
  },
  {
   "cell_type": "code",
   "execution_count": null,
   "id": "96ac7b88",
   "metadata": {},
   "outputs": [],
   "source": [
    "x.remove(\"perro\")"
   ]
  },
  {
   "cell_type": "code",
   "execution_count": null,
   "id": "1946dc0d",
   "metadata": {},
   "outputs": [],
   "source": [
    "x"
   ]
  },
  {
   "cell_type": "code",
   "execution_count": null,
   "id": "11168e1d",
   "metadata": {},
   "outputs": [],
   "source": [
    "##############diccionarios##################\n"
   ]
  },
  {
   "cell_type": "code",
   "execution_count": null,
   "id": "fe7a8370",
   "metadata": {},
   "outputs": [],
   "source": [
    "x = {\n",
    "    \"nombre\":\"Gustavo\",\n",
    "    \"apellido\":\"Alvarado\",\n",
    "    \"edad\":32\n",
    "}"
   ]
  },
  {
   "cell_type": "code",
   "execution_count": null,
   "id": "1899dd5b",
   "metadata": {},
   "outputs": [],
   "source": [
    "print(x)"
   ]
  },
  {
   "cell_type": "code",
   "execution_count": null,
   "id": "ab9c6d9f",
   "metadata": {},
   "outputs": [],
   "source": [
    "x[\"edad\"]"
   ]
  },
  {
   "cell_type": "code",
   "execution_count": null,
   "id": "fcd292bf",
   "metadata": {},
   "outputs": [],
   "source": [
    "x.get(\"nombre\") #obtiene valor de una clave, es case sensitive"
   ]
  },
  {
   "cell_type": "code",
   "execution_count": null,
   "id": "fc63b8f9",
   "metadata": {},
   "outputs": [],
   "source": [
    "for i in x:   #tambien se pued usar x.values y x.items\n",
    "    print(x[i]) #valores"
   ]
  },
  {
   "cell_type": "code",
   "execution_count": null,
   "id": "17c08ddb",
   "metadata": {},
   "outputs": [],
   "source": [
    "x[\"pais\"] = \"Perú\""
   ]
  },
  {
   "cell_type": "code",
   "execution_count": null,
   "id": "bd31a0e3",
   "metadata": {},
   "outputs": [],
   "source": [
    "x"
   ]
  },
  {
   "cell_type": "markdown",
   "id": "2262605d",
   "metadata": {},
   "source": [
    "# Archivo Storage Riesgos"
   ]
  },
  {
   "cell_type": "code",
   "execution_count": 1,
   "id": "64fdb4d7",
   "metadata": {},
   "outputs": [
    {
     "name": "stdout",
     "output_type": "stream",
     "text": [
      "C:\\Users\\gaad0\\AnacondaNotebooks\n"
     ]
    }
   ],
   "source": [
    "import os\n",
    "os.chdir(\"C:/Users/gaad0/AnacondaNotebooks\")\n",
    "print(os.getcwd())"
   ]
  },
  {
   "cell_type": "code",
   "execution_count": 2,
   "id": "e8bc0602",
   "metadata": {},
   "outputs": [],
   "source": [
    "#############CON PANDAS##################\n",
    "import pandas\n",
    "filename = \"risksbox.txt\"\n",
    "df = pandas.read_csv(filename,header=None,names=[\"RawData\"])"
   ]
  },
  {
   "cell_type": "code",
   "execution_count": 3,
   "id": "d2853dab",
   "metadata": {},
   "outputs": [],
   "source": [
    "pandas.set_option(\"display.max_colwidth\",None)"
   ]
  },
  {
   "cell_type": "code",
   "execution_count": null,
   "id": "1c73c6e5",
   "metadata": {},
   "outputs": [],
   "source": [
    "df.tail(10)"
   ]
  },
  {
   "cell_type": "code",
   "execution_count": 5,
   "id": "c8e05d43",
   "metadata": {},
   "outputs": [],
   "source": [
    "df[[\"Co1\",\"Ruta\"]] = df[\"RawData\"].str.split(\"\\d{4}-\\d{2}-\\d{2} \\d{2}:\\d{2}\",expand=True)"
   ]
  },
  {
   "cell_type": "code",
   "execution_count": 40,
   "id": "cf4e440c",
   "metadata": {},
   "outputs": [
    {
     "name": "stdout",
     "output_type": "stream",
     "text": [
      "<class 'pandas.core.frame.DataFrame'>\n",
      "RangeIndex: 5464534 entries, 0 to 5464533\n",
      "Data columns (total 22 columns):\n",
      " #   Column      Dtype \n",
      "---  ------      ----- \n",
      " 0   Ruta        object\n",
      " 1   Peso_Bytes  object\n",
      " 2   C1          object\n",
      " 3   C2          object\n",
      " 4   C3          object\n",
      " 5   C4          object\n",
      " 6   C5          object\n",
      " 7   C6          object\n",
      " 8   C7          object\n",
      " 9   C8          object\n",
      " 10  C9          object\n",
      " 11  C10         object\n",
      " 12  C11         object\n",
      " 13  C12         object\n",
      " 14  C13         object\n",
      " 15  C14         object\n",
      " 16  C15         object\n",
      " 17  C16         object\n",
      " 18  C17         object\n",
      " 19  C18         object\n",
      " 20  C19         object\n",
      " 21  C20         object\n",
      "dtypes: object(22)\n",
      "memory usage: 917.2+ MB\n"
     ]
    }
   ],
   "source": [
    "df.info()"
   ]
  },
  {
   "cell_type": "code",
   "execution_count": null,
   "id": "ca32971c",
   "metadata": {},
   "outputs": [],
   "source": [
    "df.groupby(\"Ruta\").agg(\"sum\")"
   ]
  },
  {
   "cell_type": "code",
   "execution_count": 15,
   "id": "6631fae0",
   "metadata": {},
   "outputs": [],
   "source": [
    "df[[\"Datos\",\"Peso_Bytes\"]] = df[\"Co1\"].str.split(\"wheel \",expand=True)"
   ]
  },
  {
   "cell_type": "code",
   "execution_count": 34,
   "id": "a771253b",
   "metadata": {},
   "outputs": [],
   "source": [
    "column = [\"C1\",\"C2\",\"C3\",\"C4\",\"C5\",\"C6\",\"C7\",\"C8\",\"C9\",\"C10\",\"C11\",\"C12\",\"C13\",\"C14\",\"C15\",\"C16\",\"C17\",\"C18\",\"C19\",\"C20\"]\n",
    "df[column] = df[\"Ruta\"].str.split(\"/\",expand=True)"
   ]
  },
  {
   "cell_type": "code",
   "execution_count": 39,
   "id": "5a668ec1",
   "metadata": {},
   "outputs": [],
   "source": [
    "del df[\"RawData\"]\n",
    "del df[\"Co1\"]\n",
    "del df[\"Datos\"]"
   ]
  },
  {
   "cell_type": "code",
   "execution_count": 42,
   "id": "ce9dd8fe",
   "metadata": {},
   "outputs": [
    {
     "data": {
      "text/html": [
       "<div>\n",
       "<style scoped>\n",
       "    .dataframe tbody tr th:only-of-type {\n",
       "        vertical-align: middle;\n",
       "    }\n",
       "\n",
       "    .dataframe tbody tr th {\n",
       "        vertical-align: top;\n",
       "    }\n",
       "\n",
       "    .dataframe thead th {\n",
       "        text-align: right;\n",
       "    }\n",
       "</style>\n",
       "<table border=\"1\" class=\"dataframe\">\n",
       "  <thead>\n",
       "    <tr style=\"text-align: right;\">\n",
       "      <th></th>\n",
       "      <th>Ruta</th>\n",
       "      <th>Peso_Bytes</th>\n",
       "      <th>C1</th>\n",
       "      <th>C2</th>\n",
       "      <th>C3</th>\n",
       "      <th>C4</th>\n",
       "      <th>C5</th>\n",
       "      <th>C6</th>\n",
       "      <th>C7</th>\n",
       "      <th>C8</th>\n",
       "      <th>...</th>\n",
       "      <th>C11</th>\n",
       "      <th>C12</th>\n",
       "      <th>C13</th>\n",
       "      <th>C14</th>\n",
       "      <th>C15</th>\n",
       "      <th>C16</th>\n",
       "      <th>C17</th>\n",
       "      <th>C18</th>\n",
       "      <th>C19</th>\n",
       "      <th>C20</th>\n",
       "    </tr>\n",
       "  </thead>\n",
       "  <tbody>\n",
       "    <tr>\n",
       "      <th>0</th>\n",
       "      <td>/data/sandboxes/risk/data/00 (copy).Projects</td>\n",
       "      <td>0</td>\n",
       "      <td></td>\n",
       "      <td>data</td>\n",
       "      <td>sandboxes</td>\n",
       "      <td>risk</td>\n",
       "      <td>data</td>\n",
       "      <td>00 (copy).Projects</td>\n",
       "      <td>None</td>\n",
       "      <td>None</td>\n",
       "      <td>...</td>\n",
       "      <td>None</td>\n",
       "      <td>None</td>\n",
       "      <td>None</td>\n",
       "      <td>None</td>\n",
       "      <td>None</td>\n",
       "      <td>None</td>\n",
       "      <td>None</td>\n",
       "      <td>None</td>\n",
       "      <td>None</td>\n",
       "      <td>None</td>\n",
       "    </tr>\n",
       "    <tr>\n",
       "      <th>1</th>\n",
       "      <td>/data/sandboxes/risk/data/00 (copy).Projects/NDOD</td>\n",
       "      <td>0</td>\n",
       "      <td></td>\n",
       "      <td>data</td>\n",
       "      <td>sandboxes</td>\n",
       "      <td>risk</td>\n",
       "      <td>data</td>\n",
       "      <td>00 (copy).Projects</td>\n",
       "      <td>NDOD</td>\n",
       "      <td>None</td>\n",
       "      <td>...</td>\n",
       "      <td>None</td>\n",
       "      <td>None</td>\n",
       "      <td>None</td>\n",
       "      <td>None</td>\n",
       "      <td>None</td>\n",
       "      <td>None</td>\n",
       "      <td>None</td>\n",
       "      <td>None</td>\n",
       "      <td>None</td>\n",
       "      <td>None</td>\n",
       "    </tr>\n",
       "    <tr>\n",
       "      <th>2</th>\n",
       "      <td>/data/sandboxes/risk/data/00 (copy).Projects/NDOD/bryan</td>\n",
       "      <td>0</td>\n",
       "      <td></td>\n",
       "      <td>data</td>\n",
       "      <td>sandboxes</td>\n",
       "      <td>risk</td>\n",
       "      <td>data</td>\n",
       "      <td>00 (copy).Projects</td>\n",
       "      <td>NDOD</td>\n",
       "      <td>bryan</td>\n",
       "      <td>...</td>\n",
       "      <td>None</td>\n",
       "      <td>None</td>\n",
       "      <td>None</td>\n",
       "      <td>None</td>\n",
       "      <td>None</td>\n",
       "      <td>None</td>\n",
       "      <td>None</td>\n",
       "      <td>None</td>\n",
       "      <td>None</td>\n",
       "      <td>None</td>\n",
       "    </tr>\n",
       "    <tr>\n",
       "      <th>3</th>\n",
       "      <td>/data/sandboxes/risk/data/00 (copy).Projects/NDOD/bryan/JAR</td>\n",
       "      <td>0</td>\n",
       "      <td></td>\n",
       "      <td>data</td>\n",
       "      <td>sandboxes</td>\n",
       "      <td>risk</td>\n",
       "      <td>data</td>\n",
       "      <td>00 (copy).Projects</td>\n",
       "      <td>NDOD</td>\n",
       "      <td>bryan</td>\n",
       "      <td>...</td>\n",
       "      <td>None</td>\n",
       "      <td>None</td>\n",
       "      <td>None</td>\n",
       "      <td>None</td>\n",
       "      <td>None</td>\n",
       "      <td>None</td>\n",
       "      <td>None</td>\n",
       "      <td>None</td>\n",
       "      <td>None</td>\n",
       "      <td>None</td>\n",
       "    </tr>\n",
       "    <tr>\n",
       "      <th>4</th>\n",
       "      <td>/data/sandboxes/risk/data/00 (copy).Projects/NDOD/bryan/JAR/pila</td>\n",
       "      <td>0</td>\n",
       "      <td></td>\n",
       "      <td>data</td>\n",
       "      <td>sandboxes</td>\n",
       "      <td>risk</td>\n",
       "      <td>data</td>\n",
       "      <td>00 (copy).Projects</td>\n",
       "      <td>NDOD</td>\n",
       "      <td>bryan</td>\n",
       "      <td>...</td>\n",
       "      <td>None</td>\n",
       "      <td>None</td>\n",
       "      <td>None</td>\n",
       "      <td>None</td>\n",
       "      <td>None</td>\n",
       "      <td>None</td>\n",
       "      <td>None</td>\n",
       "      <td>None</td>\n",
       "      <td>None</td>\n",
       "      <td>None</td>\n",
       "    </tr>\n",
       "    <tr>\n",
       "      <th>5</th>\n",
       "      <td>/data/sandboxes/risk/data/00 (copy).Projects/NDOD/bryan/JAR/pila/t_pctk_monthly_trans_rcd_stack</td>\n",
       "      <td>0</td>\n",
       "      <td></td>\n",
       "      <td>data</td>\n",
       "      <td>sandboxes</td>\n",
       "      <td>risk</td>\n",
       "      <td>data</td>\n",
       "      <td>00 (copy).Projects</td>\n",
       "      <td>NDOD</td>\n",
       "      <td>bryan</td>\n",
       "      <td>...</td>\n",
       "      <td>t_pctk_monthly_trans_rcd_stack</td>\n",
       "      <td>None</td>\n",
       "      <td>None</td>\n",
       "      <td>None</td>\n",
       "      <td>None</td>\n",
       "      <td>None</td>\n",
       "      <td>None</td>\n",
       "      <td>None</td>\n",
       "      <td>None</td>\n",
       "      <td>None</td>\n",
       "    </tr>\n",
       "    <tr>\n",
       "      <th>6</th>\n",
       "      <td>/data/sandboxes/risk/data/00 (copy).Projects/NDOD/bryan/JAR/pila/t_pctk_monthly_trans_rcd_stack/_SUCCESS</td>\n",
       "      <td>0</td>\n",
       "      <td></td>\n",
       "      <td>data</td>\n",
       "      <td>sandboxes</td>\n",
       "      <td>risk</td>\n",
       "      <td>data</td>\n",
       "      <td>00 (copy).Projects</td>\n",
       "      <td>NDOD</td>\n",
       "      <td>bryan</td>\n",
       "      <td>...</td>\n",
       "      <td>t_pctk_monthly_trans_rcd_stack</td>\n",
       "      <td>_SUCCESS</td>\n",
       "      <td>None</td>\n",
       "      <td>None</td>\n",
       "      <td>None</td>\n",
       "      <td>None</td>\n",
       "      <td>None</td>\n",
       "      <td>None</td>\n",
       "      <td>None</td>\n",
       "      <td>None</td>\n",
       "    </tr>\n",
       "    <tr>\n",
       "      <th>7</th>\n",
       "      <td>/data/sandboxes/risk/data/00 (copy).Projects/NDOD/bryan/JAR/pila/t_pctk_monthly_trans_rcd_stack/cutoff_date=2019-08-29</td>\n",
       "      <td>0</td>\n",
       "      <td></td>\n",
       "      <td>data</td>\n",
       "      <td>sandboxes</td>\n",
       "      <td>risk</td>\n",
       "      <td>data</td>\n",
       "      <td>00 (copy).Projects</td>\n",
       "      <td>NDOD</td>\n",
       "      <td>bryan</td>\n",
       "      <td>...</td>\n",
       "      <td>t_pctk_monthly_trans_rcd_stack</td>\n",
       "      <td>cutoff_date=2019-08-29</td>\n",
       "      <td>None</td>\n",
       "      <td>None</td>\n",
       "      <td>None</td>\n",
       "      <td>None</td>\n",
       "      <td>None</td>\n",
       "      <td>None</td>\n",
       "      <td>None</td>\n",
       "      <td>None</td>\n",
       "    </tr>\n",
       "    <tr>\n",
       "      <th>8</th>\n",
       "      <td>/data/sandboxes/risk/data/00 (copy).Projects/NDOD/bryan/JAR/pila/t_pctk_monthly_trans_rcd_stack/cutoff_date=2019-08-29/part-00002-afbe0b0e-f781-4ed5-9dd9-c28d92429bac.c000.snappy.parquet</td>\n",
       "      <td>1290445</td>\n",
       "      <td></td>\n",
       "      <td>data</td>\n",
       "      <td>sandboxes</td>\n",
       "      <td>risk</td>\n",
       "      <td>data</td>\n",
       "      <td>00 (copy).Projects</td>\n",
       "      <td>NDOD</td>\n",
       "      <td>bryan</td>\n",
       "      <td>...</td>\n",
       "      <td>t_pctk_monthly_trans_rcd_stack</td>\n",
       "      <td>cutoff_date=2019-08-29</td>\n",
       "      <td>part-00002-afbe0b0e-f781-4ed5-9dd9-c28d92429bac.c000.snappy.parquet</td>\n",
       "      <td>None</td>\n",
       "      <td>None</td>\n",
       "      <td>None</td>\n",
       "      <td>None</td>\n",
       "      <td>None</td>\n",
       "      <td>None</td>\n",
       "      <td>None</td>\n",
       "    </tr>\n",
       "    <tr>\n",
       "      <th>9</th>\n",
       "      <td>/data/sandboxes/risk/data/00 (copy).Projects/NDOD/bryan/JAR/pila/t_pctk_monthly_trans_rcd_stack/cutoff_date=2019-08-29/part-00005-afbe0b0e-f781-4ed5-9dd9-c28d92429bac.c000.snappy.parquet</td>\n",
       "      <td>582512</td>\n",
       "      <td></td>\n",
       "      <td>data</td>\n",
       "      <td>sandboxes</td>\n",
       "      <td>risk</td>\n",
       "      <td>data</td>\n",
       "      <td>00 (copy).Projects</td>\n",
       "      <td>NDOD</td>\n",
       "      <td>bryan</td>\n",
       "      <td>...</td>\n",
       "      <td>t_pctk_monthly_trans_rcd_stack</td>\n",
       "      <td>cutoff_date=2019-08-29</td>\n",
       "      <td>part-00005-afbe0b0e-f781-4ed5-9dd9-c28d92429bac.c000.snappy.parquet</td>\n",
       "      <td>None</td>\n",
       "      <td>None</td>\n",
       "      <td>None</td>\n",
       "      <td>None</td>\n",
       "      <td>None</td>\n",
       "      <td>None</td>\n",
       "      <td>None</td>\n",
       "    </tr>\n",
       "    <tr>\n",
       "      <th>10</th>\n",
       "      <td>/data/sandboxes/risk/data/00 (copy).Projects/NDOD/bryan/JAR/pila/t_pctk_monthly_trans_rcd_stack/cutoff_date=2019-08-29/part-00006-afbe0b0e-f781-4ed5-9dd9-c28d92429bac.c000.snappy.parquet</td>\n",
       "      <td>1090092</td>\n",
       "      <td></td>\n",
       "      <td>data</td>\n",
       "      <td>sandboxes</td>\n",
       "      <td>risk</td>\n",
       "      <td>data</td>\n",
       "      <td>00 (copy).Projects</td>\n",
       "      <td>NDOD</td>\n",
       "      <td>bryan</td>\n",
       "      <td>...</td>\n",
       "      <td>t_pctk_monthly_trans_rcd_stack</td>\n",
       "      <td>cutoff_date=2019-08-29</td>\n",
       "      <td>part-00006-afbe0b0e-f781-4ed5-9dd9-c28d92429bac.c000.snappy.parquet</td>\n",
       "      <td>None</td>\n",
       "      <td>None</td>\n",
       "      <td>None</td>\n",
       "      <td>None</td>\n",
       "      <td>None</td>\n",
       "      <td>None</td>\n",
       "      <td>None</td>\n",
       "    </tr>\n",
       "    <tr>\n",
       "      <th>11</th>\n",
       "      <td>/data/sandboxes/risk/data/00 (copy).Projects/NDOD/bryan/JAR/pila/t_pctk_monthly_trans_rcd_stack/cutoff_date=2019-08-29/part-00007-afbe0b0e-f781-4ed5-9dd9-c28d92429bac.c000.snappy.parquet</td>\n",
       "      <td>1605788</td>\n",
       "      <td></td>\n",
       "      <td>data</td>\n",
       "      <td>sandboxes</td>\n",
       "      <td>risk</td>\n",
       "      <td>data</td>\n",
       "      <td>00 (copy).Projects</td>\n",
       "      <td>NDOD</td>\n",
       "      <td>bryan</td>\n",
       "      <td>...</td>\n",
       "      <td>t_pctk_monthly_trans_rcd_stack</td>\n",
       "      <td>cutoff_date=2019-08-29</td>\n",
       "      <td>part-00007-afbe0b0e-f781-4ed5-9dd9-c28d92429bac.c000.snappy.parquet</td>\n",
       "      <td>None</td>\n",
       "      <td>None</td>\n",
       "      <td>None</td>\n",
       "      <td>None</td>\n",
       "      <td>None</td>\n",
       "      <td>None</td>\n",
       "      <td>None</td>\n",
       "    </tr>\n",
       "    <tr>\n",
       "      <th>12</th>\n",
       "      <td>/data/sandboxes/risk/data/00 (copy).Projects/NDOD/bryan/JAR/pila/t_pctk_monthly_trans_rcd_stack/cutoff_date=2019-08-29/part-00008-afbe0b0e-f781-4ed5-9dd9-c28d92429bac.c000.snappy.parquet</td>\n",
       "      <td>522750</td>\n",
       "      <td></td>\n",
       "      <td>data</td>\n",
       "      <td>sandboxes</td>\n",
       "      <td>risk</td>\n",
       "      <td>data</td>\n",
       "      <td>00 (copy).Projects</td>\n",
       "      <td>NDOD</td>\n",
       "      <td>bryan</td>\n",
       "      <td>...</td>\n",
       "      <td>t_pctk_monthly_trans_rcd_stack</td>\n",
       "      <td>cutoff_date=2019-08-29</td>\n",
       "      <td>part-00008-afbe0b0e-f781-4ed5-9dd9-c28d92429bac.c000.snappy.parquet</td>\n",
       "      <td>None</td>\n",
       "      <td>None</td>\n",
       "      <td>None</td>\n",
       "      <td>None</td>\n",
       "      <td>None</td>\n",
       "      <td>None</td>\n",
       "      <td>None</td>\n",
       "    </tr>\n",
       "    <tr>\n",
       "      <th>13</th>\n",
       "      <td>/data/sandboxes/risk/data/00 (copy).Projects/NDOD/bryan/JAR/pila/t_pctk_monthly_trans_rcd_stack/cutoff_date=2019-08-29/part-00009-afbe0b0e-f781-4ed5-9dd9-c28d92429bac.c000.snappy.parquet</td>\n",
       "      <td>1004514</td>\n",
       "      <td></td>\n",
       "      <td>data</td>\n",
       "      <td>sandboxes</td>\n",
       "      <td>risk</td>\n",
       "      <td>data</td>\n",
       "      <td>00 (copy).Projects</td>\n",
       "      <td>NDOD</td>\n",
       "      <td>bryan</td>\n",
       "      <td>...</td>\n",
       "      <td>t_pctk_monthly_trans_rcd_stack</td>\n",
       "      <td>cutoff_date=2019-08-29</td>\n",
       "      <td>part-00009-afbe0b0e-f781-4ed5-9dd9-c28d92429bac.c000.snappy.parquet</td>\n",
       "      <td>None</td>\n",
       "      <td>None</td>\n",
       "      <td>None</td>\n",
       "      <td>None</td>\n",
       "      <td>None</td>\n",
       "      <td>None</td>\n",
       "      <td>None</td>\n",
       "    </tr>\n",
       "    <tr>\n",
       "      <th>14</th>\n",
       "      <td>/data/sandboxes/risk/data/00 (copy).Projects/NDOD/bryan/JAR/pila/t_pctk_monthly_trans_rcd_stack/cutoff_date=2019-08-29/part-00010-afbe0b0e-f781-4ed5-9dd9-c28d92429bac.c000.snappy.parquet</td>\n",
       "      <td>1003447</td>\n",
       "      <td></td>\n",
       "      <td>data</td>\n",
       "      <td>sandboxes</td>\n",
       "      <td>risk</td>\n",
       "      <td>data</td>\n",
       "      <td>00 (copy).Projects</td>\n",
       "      <td>NDOD</td>\n",
       "      <td>bryan</td>\n",
       "      <td>...</td>\n",
       "      <td>t_pctk_monthly_trans_rcd_stack</td>\n",
       "      <td>cutoff_date=2019-08-29</td>\n",
       "      <td>part-00010-afbe0b0e-f781-4ed5-9dd9-c28d92429bac.c000.snappy.parquet</td>\n",
       "      <td>None</td>\n",
       "      <td>None</td>\n",
       "      <td>None</td>\n",
       "      <td>None</td>\n",
       "      <td>None</td>\n",
       "      <td>None</td>\n",
       "      <td>None</td>\n",
       "    </tr>\n",
       "    <tr>\n",
       "      <th>15</th>\n",
       "      <td>/data/sandboxes/risk/data/00 (copy).Projects/NDOD/bryan/JAR/pila/t_pctk_monthly_trans_rcd_stack/cutoff_date=2019-08-29/part-00011-afbe0b0e-f781-4ed5-9dd9-c28d92429bac.c000.snappy.parquet</td>\n",
       "      <td>1447048</td>\n",
       "      <td></td>\n",
       "      <td>data</td>\n",
       "      <td>sandboxes</td>\n",
       "      <td>risk</td>\n",
       "      <td>data</td>\n",
       "      <td>00 (copy).Projects</td>\n",
       "      <td>NDOD</td>\n",
       "      <td>bryan</td>\n",
       "      <td>...</td>\n",
       "      <td>t_pctk_monthly_trans_rcd_stack</td>\n",
       "      <td>cutoff_date=2019-08-29</td>\n",
       "      <td>part-00011-afbe0b0e-f781-4ed5-9dd9-c28d92429bac.c000.snappy.parquet</td>\n",
       "      <td>None</td>\n",
       "      <td>None</td>\n",
       "      <td>None</td>\n",
       "      <td>None</td>\n",
       "      <td>None</td>\n",
       "      <td>None</td>\n",
       "      <td>None</td>\n",
       "    </tr>\n",
       "    <tr>\n",
       "      <th>16</th>\n",
       "      <td>/data/sandboxes/risk/data/00 (copy).Projects/NDOD/bryan/JAR/pila/t_pctk_monthly_trans_rcd_stack/cutoff_date=2019-08-29/part-00012-afbe0b0e-f781-4ed5-9dd9-c28d92429bac.c000.snappy.parquet</td>\n",
       "      <td>481019</td>\n",
       "      <td></td>\n",
       "      <td>data</td>\n",
       "      <td>sandboxes</td>\n",
       "      <td>risk</td>\n",
       "      <td>data</td>\n",
       "      <td>00 (copy).Projects</td>\n",
       "      <td>NDOD</td>\n",
       "      <td>bryan</td>\n",
       "      <td>...</td>\n",
       "      <td>t_pctk_monthly_trans_rcd_stack</td>\n",
       "      <td>cutoff_date=2019-08-29</td>\n",
       "      <td>part-00012-afbe0b0e-f781-4ed5-9dd9-c28d92429bac.c000.snappy.parquet</td>\n",
       "      <td>None</td>\n",
       "      <td>None</td>\n",
       "      <td>None</td>\n",
       "      <td>None</td>\n",
       "      <td>None</td>\n",
       "      <td>None</td>\n",
       "      <td>None</td>\n",
       "    </tr>\n",
       "    <tr>\n",
       "      <th>17</th>\n",
       "      <td>/data/sandboxes/risk/data/00 (copy).Projects/NDOD/bryan/JAR/pila/t_pctk_monthly_trans_rcd_stack/cutoff_date=2019-08-29/part-00015-afbe0b0e-f781-4ed5-9dd9-c28d92429bac.c000.snappy.parquet</td>\n",
       "      <td>1772530</td>\n",
       "      <td></td>\n",
       "      <td>data</td>\n",
       "      <td>sandboxes</td>\n",
       "      <td>risk</td>\n",
       "      <td>data</td>\n",
       "      <td>00 (copy).Projects</td>\n",
       "      <td>NDOD</td>\n",
       "      <td>bryan</td>\n",
       "      <td>...</td>\n",
       "      <td>t_pctk_monthly_trans_rcd_stack</td>\n",
       "      <td>cutoff_date=2019-08-29</td>\n",
       "      <td>part-00015-afbe0b0e-f781-4ed5-9dd9-c28d92429bac.c000.snappy.parquet</td>\n",
       "      <td>None</td>\n",
       "      <td>None</td>\n",
       "      <td>None</td>\n",
       "      <td>None</td>\n",
       "      <td>None</td>\n",
       "      <td>None</td>\n",
       "      <td>None</td>\n",
       "    </tr>\n",
       "    <tr>\n",
       "      <th>18</th>\n",
       "      <td>/data/sandboxes/risk/data/00 (copy).Projects/NDOD/bryan/JAR/pila/t_pctk_monthly_trans_rcd_stack/cutoff_date=2019-08-29/part-00017-afbe0b0e-f781-4ed5-9dd9-c28d92429bac.c000.snappy.parquet</td>\n",
       "      <td>432119</td>\n",
       "      <td></td>\n",
       "      <td>data</td>\n",
       "      <td>sandboxes</td>\n",
       "      <td>risk</td>\n",
       "      <td>data</td>\n",
       "      <td>00 (copy).Projects</td>\n",
       "      <td>NDOD</td>\n",
       "      <td>bryan</td>\n",
       "      <td>...</td>\n",
       "      <td>t_pctk_monthly_trans_rcd_stack</td>\n",
       "      <td>cutoff_date=2019-08-29</td>\n",
       "      <td>part-00017-afbe0b0e-f781-4ed5-9dd9-c28d92429bac.c000.snappy.parquet</td>\n",
       "      <td>None</td>\n",
       "      <td>None</td>\n",
       "      <td>None</td>\n",
       "      <td>None</td>\n",
       "      <td>None</td>\n",
       "      <td>None</td>\n",
       "      <td>None</td>\n",
       "    </tr>\n",
       "    <tr>\n",
       "      <th>19</th>\n",
       "      <td>/data/sandboxes/risk/data/00 (copy).Projects/NDOD/bryan/JAR/pila/t_pctk_monthly_trans_rcd_stack/cutoff_date=2019-08-29/part-00018-afbe0b0e-f781-4ed5-9dd9-c28d92429bac.c000.snappy.parquet</td>\n",
       "      <td>416873</td>\n",
       "      <td></td>\n",
       "      <td>data</td>\n",
       "      <td>sandboxes</td>\n",
       "      <td>risk</td>\n",
       "      <td>data</td>\n",
       "      <td>00 (copy).Projects</td>\n",
       "      <td>NDOD</td>\n",
       "      <td>bryan</td>\n",
       "      <td>...</td>\n",
       "      <td>t_pctk_monthly_trans_rcd_stack</td>\n",
       "      <td>cutoff_date=2019-08-29</td>\n",
       "      <td>part-00018-afbe0b0e-f781-4ed5-9dd9-c28d92429bac.c000.snappy.parquet</td>\n",
       "      <td>None</td>\n",
       "      <td>None</td>\n",
       "      <td>None</td>\n",
       "      <td>None</td>\n",
       "      <td>None</td>\n",
       "      <td>None</td>\n",
       "      <td>None</td>\n",
       "    </tr>\n",
       "  </tbody>\n",
       "</table>\n",
       "<p>20 rows × 22 columns</p>\n",
       "</div>"
      ],
      "text/plain": [
       "                                                                                                                                                                                           Ruta  \\\n",
       "0                                                                                                                                                  /data/sandboxes/risk/data/00 (copy).Projects   \n",
       "1                                                                                                                                             /data/sandboxes/risk/data/00 (copy).Projects/NDOD   \n",
       "2                                                                                                                                       /data/sandboxes/risk/data/00 (copy).Projects/NDOD/bryan   \n",
       "3                                                                                                                                   /data/sandboxes/risk/data/00 (copy).Projects/NDOD/bryan/JAR   \n",
       "4                                                                                                                              /data/sandboxes/risk/data/00 (copy).Projects/NDOD/bryan/JAR/pila   \n",
       "5                                                                                               /data/sandboxes/risk/data/00 (copy).Projects/NDOD/bryan/JAR/pila/t_pctk_monthly_trans_rcd_stack   \n",
       "6                                                                                      /data/sandboxes/risk/data/00 (copy).Projects/NDOD/bryan/JAR/pila/t_pctk_monthly_trans_rcd_stack/_SUCCESS   \n",
       "7                                                                        /data/sandboxes/risk/data/00 (copy).Projects/NDOD/bryan/JAR/pila/t_pctk_monthly_trans_rcd_stack/cutoff_date=2019-08-29   \n",
       "8    /data/sandboxes/risk/data/00 (copy).Projects/NDOD/bryan/JAR/pila/t_pctk_monthly_trans_rcd_stack/cutoff_date=2019-08-29/part-00002-afbe0b0e-f781-4ed5-9dd9-c28d92429bac.c000.snappy.parquet   \n",
       "9    /data/sandboxes/risk/data/00 (copy).Projects/NDOD/bryan/JAR/pila/t_pctk_monthly_trans_rcd_stack/cutoff_date=2019-08-29/part-00005-afbe0b0e-f781-4ed5-9dd9-c28d92429bac.c000.snappy.parquet   \n",
       "10   /data/sandboxes/risk/data/00 (copy).Projects/NDOD/bryan/JAR/pila/t_pctk_monthly_trans_rcd_stack/cutoff_date=2019-08-29/part-00006-afbe0b0e-f781-4ed5-9dd9-c28d92429bac.c000.snappy.parquet   \n",
       "11   /data/sandboxes/risk/data/00 (copy).Projects/NDOD/bryan/JAR/pila/t_pctk_monthly_trans_rcd_stack/cutoff_date=2019-08-29/part-00007-afbe0b0e-f781-4ed5-9dd9-c28d92429bac.c000.snappy.parquet   \n",
       "12   /data/sandboxes/risk/data/00 (copy).Projects/NDOD/bryan/JAR/pila/t_pctk_monthly_trans_rcd_stack/cutoff_date=2019-08-29/part-00008-afbe0b0e-f781-4ed5-9dd9-c28d92429bac.c000.snappy.parquet   \n",
       "13   /data/sandboxes/risk/data/00 (copy).Projects/NDOD/bryan/JAR/pila/t_pctk_monthly_trans_rcd_stack/cutoff_date=2019-08-29/part-00009-afbe0b0e-f781-4ed5-9dd9-c28d92429bac.c000.snappy.parquet   \n",
       "14   /data/sandboxes/risk/data/00 (copy).Projects/NDOD/bryan/JAR/pila/t_pctk_monthly_trans_rcd_stack/cutoff_date=2019-08-29/part-00010-afbe0b0e-f781-4ed5-9dd9-c28d92429bac.c000.snappy.parquet   \n",
       "15   /data/sandboxes/risk/data/00 (copy).Projects/NDOD/bryan/JAR/pila/t_pctk_monthly_trans_rcd_stack/cutoff_date=2019-08-29/part-00011-afbe0b0e-f781-4ed5-9dd9-c28d92429bac.c000.snappy.parquet   \n",
       "16   /data/sandboxes/risk/data/00 (copy).Projects/NDOD/bryan/JAR/pila/t_pctk_monthly_trans_rcd_stack/cutoff_date=2019-08-29/part-00012-afbe0b0e-f781-4ed5-9dd9-c28d92429bac.c000.snappy.parquet   \n",
       "17   /data/sandboxes/risk/data/00 (copy).Projects/NDOD/bryan/JAR/pila/t_pctk_monthly_trans_rcd_stack/cutoff_date=2019-08-29/part-00015-afbe0b0e-f781-4ed5-9dd9-c28d92429bac.c000.snappy.parquet   \n",
       "18   /data/sandboxes/risk/data/00 (copy).Projects/NDOD/bryan/JAR/pila/t_pctk_monthly_trans_rcd_stack/cutoff_date=2019-08-29/part-00017-afbe0b0e-f781-4ed5-9dd9-c28d92429bac.c000.snappy.parquet   \n",
       "19   /data/sandboxes/risk/data/00 (copy).Projects/NDOD/bryan/JAR/pila/t_pctk_monthly_trans_rcd_stack/cutoff_date=2019-08-29/part-00018-afbe0b0e-f781-4ed5-9dd9-c28d92429bac.c000.snappy.parquet   \n",
       "\n",
       "      Peso_Bytes C1    C2         C3    C4    C5                  C6    C7  \\\n",
       "0             0      data  sandboxes  risk  data  00 (copy).Projects  None   \n",
       "1             0      data  sandboxes  risk  data  00 (copy).Projects  NDOD   \n",
       "2             0      data  sandboxes  risk  data  00 (copy).Projects  NDOD   \n",
       "3             0      data  sandboxes  risk  data  00 (copy).Projects  NDOD   \n",
       "4             0      data  sandboxes  risk  data  00 (copy).Projects  NDOD   \n",
       "5             0      data  sandboxes  risk  data  00 (copy).Projects  NDOD   \n",
       "6             0      data  sandboxes  risk  data  00 (copy).Projects  NDOD   \n",
       "7             0      data  sandboxes  risk  data  00 (copy).Projects  NDOD   \n",
       "8       1290445      data  sandboxes  risk  data  00 (copy).Projects  NDOD   \n",
       "9        582512      data  sandboxes  risk  data  00 (copy).Projects  NDOD   \n",
       "10      1090092      data  sandboxes  risk  data  00 (copy).Projects  NDOD   \n",
       "11      1605788      data  sandboxes  risk  data  00 (copy).Projects  NDOD   \n",
       "12       522750      data  sandboxes  risk  data  00 (copy).Projects  NDOD   \n",
       "13      1004514      data  sandboxes  risk  data  00 (copy).Projects  NDOD   \n",
       "14      1003447      data  sandboxes  risk  data  00 (copy).Projects  NDOD   \n",
       "15      1447048      data  sandboxes  risk  data  00 (copy).Projects  NDOD   \n",
       "16       481019      data  sandboxes  risk  data  00 (copy).Projects  NDOD   \n",
       "17      1772530      data  sandboxes  risk  data  00 (copy).Projects  NDOD   \n",
       "18       432119      data  sandboxes  risk  data  00 (copy).Projects  NDOD   \n",
       "19       416873      data  sandboxes  risk  data  00 (copy).Projects  NDOD   \n",
       "\n",
       "       C8  ...                             C11                     C12  \\\n",
       "0    None  ...                            None                    None   \n",
       "1    None  ...                            None                    None   \n",
       "2   bryan  ...                            None                    None   \n",
       "3   bryan  ...                            None                    None   \n",
       "4   bryan  ...                            None                    None   \n",
       "5   bryan  ...  t_pctk_monthly_trans_rcd_stack                    None   \n",
       "6   bryan  ...  t_pctk_monthly_trans_rcd_stack                _SUCCESS   \n",
       "7   bryan  ...  t_pctk_monthly_trans_rcd_stack  cutoff_date=2019-08-29   \n",
       "8   bryan  ...  t_pctk_monthly_trans_rcd_stack  cutoff_date=2019-08-29   \n",
       "9   bryan  ...  t_pctk_monthly_trans_rcd_stack  cutoff_date=2019-08-29   \n",
       "10  bryan  ...  t_pctk_monthly_trans_rcd_stack  cutoff_date=2019-08-29   \n",
       "11  bryan  ...  t_pctk_monthly_trans_rcd_stack  cutoff_date=2019-08-29   \n",
       "12  bryan  ...  t_pctk_monthly_trans_rcd_stack  cutoff_date=2019-08-29   \n",
       "13  bryan  ...  t_pctk_monthly_trans_rcd_stack  cutoff_date=2019-08-29   \n",
       "14  bryan  ...  t_pctk_monthly_trans_rcd_stack  cutoff_date=2019-08-29   \n",
       "15  bryan  ...  t_pctk_monthly_trans_rcd_stack  cutoff_date=2019-08-29   \n",
       "16  bryan  ...  t_pctk_monthly_trans_rcd_stack  cutoff_date=2019-08-29   \n",
       "17  bryan  ...  t_pctk_monthly_trans_rcd_stack  cutoff_date=2019-08-29   \n",
       "18  bryan  ...  t_pctk_monthly_trans_rcd_stack  cutoff_date=2019-08-29   \n",
       "19  bryan  ...  t_pctk_monthly_trans_rcd_stack  cutoff_date=2019-08-29   \n",
       "\n",
       "                                                                    C13   C14  \\\n",
       "0                                                                  None  None   \n",
       "1                                                                  None  None   \n",
       "2                                                                  None  None   \n",
       "3                                                                  None  None   \n",
       "4                                                                  None  None   \n",
       "5                                                                  None  None   \n",
       "6                                                                  None  None   \n",
       "7                                                                  None  None   \n",
       "8   part-00002-afbe0b0e-f781-4ed5-9dd9-c28d92429bac.c000.snappy.parquet  None   \n",
       "9   part-00005-afbe0b0e-f781-4ed5-9dd9-c28d92429bac.c000.snappy.parquet  None   \n",
       "10  part-00006-afbe0b0e-f781-4ed5-9dd9-c28d92429bac.c000.snappy.parquet  None   \n",
       "11  part-00007-afbe0b0e-f781-4ed5-9dd9-c28d92429bac.c000.snappy.parquet  None   \n",
       "12  part-00008-afbe0b0e-f781-4ed5-9dd9-c28d92429bac.c000.snappy.parquet  None   \n",
       "13  part-00009-afbe0b0e-f781-4ed5-9dd9-c28d92429bac.c000.snappy.parquet  None   \n",
       "14  part-00010-afbe0b0e-f781-4ed5-9dd9-c28d92429bac.c000.snappy.parquet  None   \n",
       "15  part-00011-afbe0b0e-f781-4ed5-9dd9-c28d92429bac.c000.snappy.parquet  None   \n",
       "16  part-00012-afbe0b0e-f781-4ed5-9dd9-c28d92429bac.c000.snappy.parquet  None   \n",
       "17  part-00015-afbe0b0e-f781-4ed5-9dd9-c28d92429bac.c000.snappy.parquet  None   \n",
       "18  part-00017-afbe0b0e-f781-4ed5-9dd9-c28d92429bac.c000.snappy.parquet  None   \n",
       "19  part-00018-afbe0b0e-f781-4ed5-9dd9-c28d92429bac.c000.snappy.parquet  None   \n",
       "\n",
       "     C15   C16   C17   C18   C19   C20  \n",
       "0   None  None  None  None  None  None  \n",
       "1   None  None  None  None  None  None  \n",
       "2   None  None  None  None  None  None  \n",
       "3   None  None  None  None  None  None  \n",
       "4   None  None  None  None  None  None  \n",
       "5   None  None  None  None  None  None  \n",
       "6   None  None  None  None  None  None  \n",
       "7   None  None  None  None  None  None  \n",
       "8   None  None  None  None  None  None  \n",
       "9   None  None  None  None  None  None  \n",
       "10  None  None  None  None  None  None  \n",
       "11  None  None  None  None  None  None  \n",
       "12  None  None  None  None  None  None  \n",
       "13  None  None  None  None  None  None  \n",
       "14  None  None  None  None  None  None  \n",
       "15  None  None  None  None  None  None  \n",
       "16  None  None  None  None  None  None  \n",
       "17  None  None  None  None  None  None  \n",
       "18  None  None  None  None  None  None  \n",
       "19  None  None  None  None  None  None  \n",
       "\n",
       "[20 rows x 22 columns]"
      ]
     },
     "execution_count": 42,
     "metadata": {},
     "output_type": "execute_result"
    }
   ],
   "source": [
    "df.head(20)"
   ]
  },
  {
   "cell_type": "code",
   "execution_count": null,
   "id": "8be77e64",
   "metadata": {},
   "outputs": [],
   "source": [
    "df.groupby('C2')['Peso_Bytes'].agg(['sum'])"
   ]
  },
  {
   "cell_type": "code",
   "execution_count": null,
   "id": "799dca49",
   "metadata": {},
   "outputs": [],
   "source": []
  },
  {
   "cell_type": "code",
   "execution_count": null,
   "id": "24d90d50",
   "metadata": {},
   "outputs": [],
   "source": []
  },
  {
   "cell_type": "code",
   "execution_count": null,
   "id": "3151bbab",
   "metadata": {},
   "outputs": [],
   "source": []
  },
  {
   "cell_type": "code",
   "execution_count": null,
   "id": "e059ce2c",
   "metadata": {},
   "outputs": [],
   "source": []
  },
  {
   "cell_type": "code",
   "execution_count": null,
   "id": "5b7602ce",
   "metadata": {},
   "outputs": [],
   "source": []
  },
  {
   "cell_type": "code",
   "execution_count": null,
   "id": "98181d95",
   "metadata": {},
   "outputs": [],
   "source": []
  },
  {
   "cell_type": "code",
   "execution_count": null,
   "id": "97b550c7",
   "metadata": {},
   "outputs": [],
   "source": []
  },
  {
   "cell_type": "code",
   "execution_count": null,
   "id": "99c37dc1",
   "metadata": {},
   "outputs": [],
   "source": []
  },
  {
   "cell_type": "code",
   "execution_count": null,
   "id": "101c91a4",
   "metadata": {},
   "outputs": [],
   "source": []
  },
  {
   "cell_type": "code",
   "execution_count": null,
   "id": "652580e3",
   "metadata": {},
   "outputs": [],
   "source": []
  },
  {
   "cell_type": "code",
   "execution_count": null,
   "id": "a5e931fe",
   "metadata": {},
   "outputs": [],
   "source": []
  },
  {
   "cell_type": "code",
   "execution_count": null,
   "id": "95d2ceeb",
   "metadata": {},
   "outputs": [],
   "source": []
  },
  {
   "cell_type": "code",
   "execution_count": null,
   "id": "2872fa11",
   "metadata": {},
   "outputs": [],
   "source": []
  },
  {
   "cell_type": "code",
   "execution_count": null,
   "id": "5aedbd2e",
   "metadata": {},
   "outputs": [],
   "source": []
  },
  {
   "cell_type": "code",
   "execution_count": null,
   "id": "8f3e780b",
   "metadata": {},
   "outputs": [],
   "source": []
  },
  {
   "cell_type": "code",
   "execution_count": null,
   "id": "9548f0da",
   "metadata": {},
   "outputs": [],
   "source": []
  },
  {
   "cell_type": "code",
   "execution_count": null,
   "id": "004d6816",
   "metadata": {},
   "outputs": [],
   "source": []
  },
  {
   "cell_type": "code",
   "execution_count": null,
   "id": "fdeba726",
   "metadata": {},
   "outputs": [],
   "source": []
  },
  {
   "cell_type": "code",
   "execution_count": null,
   "id": "1dfd53eb",
   "metadata": {},
   "outputs": [],
   "source": []
  },
  {
   "cell_type": "code",
   "execution_count": null,
   "id": "d763bb7c",
   "metadata": {},
   "outputs": [],
   "source": []
  },
  {
   "cell_type": "code",
   "execution_count": null,
   "id": "d24b6bba",
   "metadata": {},
   "outputs": [],
   "source": []
  },
  {
   "cell_type": "code",
   "execution_count": null,
   "id": "106d5fb6",
   "metadata": {},
   "outputs": [],
   "source": []
  },
  {
   "cell_type": "code",
   "execution_count": null,
   "id": "984eec93",
   "metadata": {},
   "outputs": [],
   "source": []
  },
  {
   "cell_type": "code",
   "execution_count": null,
   "id": "8641b1a1",
   "metadata": {},
   "outputs": [],
   "source": []
  },
  {
   "cell_type": "code",
   "execution_count": null,
   "id": "70742849",
   "metadata": {},
   "outputs": [],
   "source": [
    "arrayRutas = [\"C1\",\"C2\",\"C3\",\"C4\",\"C5\",\"C6\",\"C7\",\"C8\",\"C9\",\"C10\",\"C11\",\"C12\",\"C13\",\"C14\",\"C15\",\"C16\",\"C17\",\"C18\",\"C19\",\"C20\"]\n",
    "df[arrayRutas] = df[\"B\"].str.split(\"/\",expand=True)"
   ]
  },
  {
   "cell_type": "code",
   "execution_count": null,
   "id": "2ad8a403",
   "metadata": {},
   "outputs": [],
   "source": [
    "df[\"C8\"]"
   ]
  },
  {
   "cell_type": "code",
   "execution_count": null,
   "id": "b5d30300",
   "metadata": {},
   "outputs": [],
   "source": [
    "import re\n",
    "X1 = \"0 2020-10-14 16:37 /data/sandboxes/risk/data/00 (copy).Projects\"\n",
    "print(re.findall(\"\\d{4}-\\d{2}-\\d{2}\",X1))"
   ]
  },
  {
   "cell_type": "code",
   "execution_count": null,
   "id": "2c416e1d",
   "metadata": {},
   "outputs": [],
   "source": []
  },
  {
   "cell_type": "code",
   "execution_count": null,
   "id": "ff53f5cd",
   "metadata": {},
   "outputs": [],
   "source": []
  },
  {
   "cell_type": "code",
   "execution_count": null,
   "id": "52a5a981",
   "metadata": {},
   "outputs": [],
   "source": []
  },
  {
   "cell_type": "code",
   "execution_count": null,
   "id": "c7bc78c8",
   "metadata": {},
   "outputs": [],
   "source": [
    "R"
   ]
  },
  {
   "cell_type": "code",
   "execution_count": null,
   "id": "bbb4cf59",
   "metadata": {},
   "outputs": [],
   "source": []
  },
  {
   "cell_type": "code",
   "execution_count": null,
   "id": "84eb98a2",
   "metadata": {},
   "outputs": [],
   "source": []
  },
  {
   "cell_type": "code",
   "execution_count": null,
   "id": "fbce7136",
   "metadata": {},
   "outputs": [],
   "source": []
  },
  {
   "cell_type": "code",
   "execution_count": null,
   "id": "97f82f2c",
   "metadata": {},
   "outputs": [],
   "source": []
  },
  {
   "cell_type": "code",
   "execution_count": null,
   "id": "a413d006",
   "metadata": {},
   "outputs": [],
   "source": []
  },
  {
   "cell_type": "code",
   "execution_count": null,
   "id": "cfdbaef4",
   "metadata": {},
   "outputs": [],
   "source": []
  },
  {
   "cell_type": "code",
   "execution_count": null,
   "id": "c9c4b171",
   "metadata": {},
   "outputs": [],
   "source": []
  },
  {
   "cell_type": "code",
   "execution_count": null,
   "id": "58eada7c",
   "metadata": {},
   "outputs": [],
   "source": []
  },
  {
   "cell_type": "code",
   "execution_count": null,
   "id": "41b65434",
   "metadata": {},
   "outputs": [],
   "source": []
  },
  {
   "cell_type": "code",
   "execution_count": null,
   "id": "171e3ee5",
   "metadata": {},
   "outputs": [],
   "source": []
  },
  {
   "cell_type": "code",
   "execution_count": null,
   "id": "ee6d6240",
   "metadata": {},
   "outputs": [],
   "source": []
  },
  {
   "cell_type": "code",
   "execution_count": null,
   "id": "aa45cf03",
   "metadata": {},
   "outputs": [],
   "source": []
  },
  {
   "cell_type": "code",
   "execution_count": null,
   "id": "d2a64466",
   "metadata": {},
   "outputs": [],
   "source": []
  },
  {
   "cell_type": "code",
   "execution_count": null,
   "id": "d7a3b9d0",
   "metadata": {},
   "outputs": [],
   "source": []
  },
  {
   "cell_type": "code",
   "execution_count": null,
   "id": "eaffc53a",
   "metadata": {},
   "outputs": [],
   "source": []
  },
  {
   "cell_type": "code",
   "execution_count": null,
   "id": "270adfbf",
   "metadata": {},
   "outputs": [],
   "source": []
  },
  {
   "cell_type": "code",
   "execution_count": null,
   "id": "d48aa75e",
   "metadata": {},
   "outputs": [],
   "source": []
  },
  {
   "cell_type": "code",
   "execution_count": null,
   "id": "e2ee73e0",
   "metadata": {},
   "outputs": [],
   "source": []
  },
  {
   "cell_type": "code",
   "execution_count": null,
   "id": "36bb504e",
   "metadata": {},
   "outputs": [],
   "source": []
  }
 ],
 "metadata": {
  "kernelspec": {
   "display_name": "Python 3 (ipykernel)",
   "language": "python",
   "name": "python3"
  },
  "language_info": {
   "codemirror_mode": {
    "name": "ipython",
    "version": 3
   },
   "file_extension": ".py",
   "mimetype": "text/x-python",
   "name": "python",
   "nbconvert_exporter": "python",
   "pygments_lexer": "ipython3",
   "version": "3.9.7"
  }
 },
 "nbformat": 4,
 "nbformat_minor": 5
}
