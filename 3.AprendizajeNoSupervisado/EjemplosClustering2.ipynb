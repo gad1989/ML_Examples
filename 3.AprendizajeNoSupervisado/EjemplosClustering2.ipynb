{
 "cells": [
  {
   "cell_type": "markdown",
   "id": "2517d788",
   "metadata": {},
   "source": [
    "<img src=\"https://www.unir.net/wp-content/uploads/2019/11/Unir_2021_logo.svg\" width=\"240\" height=\"240\" align=\"right\"/>\n"
   ]
  },
  {
   "cell_type": "markdown",
   "id": "74901825",
   "metadata": {
    "ExecuteTime": {
     "end_time": "2022-02-15T12:54:41.307149Z",
     "start_time": "2022-02-15T12:54:41.295147Z"
    }
   },
   "source": [
    "<center><h1> Sesión 8. Clustering.</header1></centre>"
   ]
  },
  {
   "cell_type": "markdown",
   "id": "1e018355",
   "metadata": {
    "ExecuteTime": {
     "end_time": "2022-02-15T12:55:53.810732Z",
     "start_time": "2022-02-15T12:55:53.789519Z"
    }
   },
   "source": [
    "Miller Janny Ariza Garzón. \\\n",
    "Febrero de 2022"
   ]
  },
  {
   "cell_type": "code",
   "execution_count": null,
   "id": "c5c07239",
   "metadata": {
    "ExecuteTime": {
     "end_time": "2022-02-15T13:01:32.694020Z",
     "start_time": "2022-02-15T13:01:32.688987Z"
    }
   },
   "outputs": [],
   "source": [
    "import opendatasets as od\n",
    "od.download('https://www.kaggle.com/vjchoudhary7/customer-segmentation-tutorial-in-python/')"
   ]
  },
  {
   "cell_type": "markdown",
   "id": "6431ff41",
   "metadata": {
    "tags": []
   },
   "source": [
    "## Descripción problema\n",
    "\n",
    "Tenemos un dataset compuesto por 200 datos de clientes de centros comerciales. El marco de datos incluye el customerID, el género, la edad, los ingresos anuales y una puntuación de gasto de cada cliente. La puntuación de gasto es una puntuación en función de varios criterios, entre los que se incluyen, por ejemplo, el número de veces por semana que acuden al centro comercial y el dinero que han gastado en un año. Esta puntuación oscila entre 1 y 100. Así que nuestro objetivo es encontrar algunos clusters para perfilar los tipos de clientes."
   ]
  },
  {
   "cell_type": "code",
   "execution_count": 1,
   "id": "748c51ae",
   "metadata": {
    "ExecuteTime": {
     "end_time": "2022-02-18T15:13:49.924174Z",
     "start_time": "2022-02-18T15:13:48.836157Z"
    }
   },
   "outputs": [
    {
     "data": {
      "text/html": [
       "<div>\n",
       "<style scoped>\n",
       "    .dataframe tbody tr th:only-of-type {\n",
       "        vertical-align: middle;\n",
       "    }\n",
       "\n",
       "    .dataframe tbody tr th {\n",
       "        vertical-align: top;\n",
       "    }\n",
       "\n",
       "    .dataframe thead th {\n",
       "        text-align: right;\n",
       "    }\n",
       "</style>\n",
       "<table border=\"1\" class=\"dataframe\">\n",
       "  <thead>\n",
       "    <tr style=\"text-align: right;\">\n",
       "      <th></th>\n",
       "      <th>CustomerID</th>\n",
       "      <th>Gender</th>\n",
       "      <th>Age</th>\n",
       "      <th>Annual Income (k$)</th>\n",
       "      <th>Spending Score (1-100)</th>\n",
       "    </tr>\n",
       "  </thead>\n",
       "  <tbody>\n",
       "    <tr>\n",
       "      <th>0</th>\n",
       "      <td>1</td>\n",
       "      <td>Male</td>\n",
       "      <td>19</td>\n",
       "      <td>15</td>\n",
       "      <td>39</td>\n",
       "    </tr>\n",
       "    <tr>\n",
       "      <th>1</th>\n",
       "      <td>2</td>\n",
       "      <td>Male</td>\n",
       "      <td>21</td>\n",
       "      <td>15</td>\n",
       "      <td>81</td>\n",
       "    </tr>\n",
       "    <tr>\n",
       "      <th>2</th>\n",
       "      <td>3</td>\n",
       "      <td>Female</td>\n",
       "      <td>20</td>\n",
       "      <td>16</td>\n",
       "      <td>6</td>\n",
       "    </tr>\n",
       "    <tr>\n",
       "      <th>3</th>\n",
       "      <td>4</td>\n",
       "      <td>Female</td>\n",
       "      <td>23</td>\n",
       "      <td>16</td>\n",
       "      <td>77</td>\n",
       "    </tr>\n",
       "    <tr>\n",
       "      <th>4</th>\n",
       "      <td>5</td>\n",
       "      <td>Female</td>\n",
       "      <td>31</td>\n",
       "      <td>17</td>\n",
       "      <td>40</td>\n",
       "    </tr>\n",
       "  </tbody>\n",
       "</table>\n",
       "</div>"
      ],
      "text/plain": [
       "   CustomerID  Gender  Age  Annual Income (k$)  Spending Score (1-100)\n",
       "0           1    Male   19                  15                      39\n",
       "1           2    Male   21                  15                      81\n",
       "2           3  Female   20                  16                       6\n",
       "3           4  Female   23                  16                      77\n",
       "4           5  Female   31                  17                      40"
      ]
     },
     "execution_count": 1,
     "metadata": {},
     "output_type": "execute_result"
    }
   ],
   "source": [
    "import pandas as pd\n",
    "df_starup = pd.read_csv('C:/Users/gaad0/Tecnicas IA/MaterialAdicional_TIA/Mall_Customers.csv')\n",
    "df_starup.head()"
   ]
  },
  {
   "cell_type": "markdown",
   "id": "8c235fb4",
   "metadata": {},
   "source": [
    "## Descripción del Dataset"
   ]
  },
  {
   "cell_type": "code",
   "execution_count": 2,
   "id": "f896c6d7",
   "metadata": {
    "ExecuteTime": {
     "end_time": "2022-02-18T15:13:53.126278Z",
     "start_time": "2022-02-18T15:13:53.102278Z"
    }
   },
   "outputs": [
    {
     "name": "stdout",
     "output_type": "stream",
     "text": [
      "<class 'pandas.core.frame.DataFrame'>\n",
      "RangeIndex: 200 entries, 0 to 199\n",
      "Data columns (total 5 columns):\n",
      " #   Column                  Non-Null Count  Dtype \n",
      "---  ------                  --------------  ----- \n",
      " 0   CustomerID              200 non-null    int64 \n",
      " 1   Gender                  200 non-null    object\n",
      " 2   Age                     200 non-null    int64 \n",
      " 3   Annual Income (k$)      200 non-null    int64 \n",
      " 4   Spending Score (1-100)  200 non-null    int64 \n",
      "dtypes: int64(4), object(1)\n",
      "memory usage: 7.9+ KB\n"
     ]
    }
   ],
   "source": [
    "df_starup.info()"
   ]
  },
  {
   "cell_type": "code",
   "execution_count": 3,
   "id": "72e49aa1",
   "metadata": {
    "ExecuteTime": {
     "end_time": "2022-02-18T15:13:56.827975Z",
     "start_time": "2022-02-18T15:13:56.807979Z"
    }
   },
   "outputs": [],
   "source": [
    "df_starup['Gender'] = df_starup['Gender'].astype('category')\n",
    "df_starup = df_starup.set_index('CustomerID')"
   ]
  },
  {
   "cell_type": "code",
   "execution_count": 4,
   "id": "9511dc43",
   "metadata": {
    "ExecuteTime": {
     "end_time": "2022-02-18T15:14:04.677187Z",
     "start_time": "2022-02-18T15:14:04.658393Z"
    }
   },
   "outputs": [
    {
     "name": "stdout",
     "output_type": "stream",
     "text": [
      "<class 'pandas.core.frame.DataFrame'>\n",
      "Int64Index: 200 entries, 1 to 200\n",
      "Data columns (total 4 columns):\n",
      " #   Column                  Non-Null Count  Dtype   \n",
      "---  ------                  --------------  -----   \n",
      " 0   Gender                  200 non-null    category\n",
      " 1   Age                     200 non-null    int64   \n",
      " 2   Annual Income (k$)      200 non-null    int64   \n",
      " 3   Spending Score (1-100)  200 non-null    int64   \n",
      "dtypes: category(1), int64(3)\n",
      "memory usage: 6.6 KB\n"
     ]
    }
   ],
   "source": [
    "df_starup.info()"
   ]
  },
  {
   "cell_type": "code",
   "execution_count": 5,
   "id": "7405760f",
   "metadata": {
    "ExecuteTime": {
     "end_time": "2022-02-18T15:14:08.024074Z",
     "start_time": "2022-02-18T15:14:07.984082Z"
    }
   },
   "outputs": [
    {
     "data": {
      "text/html": [
       "<div>\n",
       "<style scoped>\n",
       "    .dataframe tbody tr th:only-of-type {\n",
       "        vertical-align: middle;\n",
       "    }\n",
       "\n",
       "    .dataframe tbody tr th {\n",
       "        vertical-align: top;\n",
       "    }\n",
       "\n",
       "    .dataframe thead th {\n",
       "        text-align: right;\n",
       "    }\n",
       "</style>\n",
       "<table border=\"1\" class=\"dataframe\">\n",
       "  <thead>\n",
       "    <tr style=\"text-align: right;\">\n",
       "      <th></th>\n",
       "      <th>Age</th>\n",
       "      <th>Annual Income (k$)</th>\n",
       "      <th>Spending Score (1-100)</th>\n",
       "    </tr>\n",
       "  </thead>\n",
       "  <tbody>\n",
       "    <tr>\n",
       "      <th>count</th>\n",
       "      <td>200.000000</td>\n",
       "      <td>200.000000</td>\n",
       "      <td>200.000000</td>\n",
       "    </tr>\n",
       "    <tr>\n",
       "      <th>mean</th>\n",
       "      <td>38.850000</td>\n",
       "      <td>60.560000</td>\n",
       "      <td>50.200000</td>\n",
       "    </tr>\n",
       "    <tr>\n",
       "      <th>std</th>\n",
       "      <td>13.969007</td>\n",
       "      <td>26.264721</td>\n",
       "      <td>25.823522</td>\n",
       "    </tr>\n",
       "    <tr>\n",
       "      <th>min</th>\n",
       "      <td>18.000000</td>\n",
       "      <td>15.000000</td>\n",
       "      <td>1.000000</td>\n",
       "    </tr>\n",
       "    <tr>\n",
       "      <th>25%</th>\n",
       "      <td>28.750000</td>\n",
       "      <td>41.500000</td>\n",
       "      <td>34.750000</td>\n",
       "    </tr>\n",
       "    <tr>\n",
       "      <th>50%</th>\n",
       "      <td>36.000000</td>\n",
       "      <td>61.500000</td>\n",
       "      <td>50.000000</td>\n",
       "    </tr>\n",
       "    <tr>\n",
       "      <th>75%</th>\n",
       "      <td>49.000000</td>\n",
       "      <td>78.000000</td>\n",
       "      <td>73.000000</td>\n",
       "    </tr>\n",
       "    <tr>\n",
       "      <th>max</th>\n",
       "      <td>70.000000</td>\n",
       "      <td>137.000000</td>\n",
       "      <td>99.000000</td>\n",
       "    </tr>\n",
       "  </tbody>\n",
       "</table>\n",
       "</div>"
      ],
      "text/plain": [
       "              Age  Annual Income (k$)  Spending Score (1-100)\n",
       "count  200.000000          200.000000              200.000000\n",
       "mean    38.850000           60.560000               50.200000\n",
       "std     13.969007           26.264721               25.823522\n",
       "min     18.000000           15.000000                1.000000\n",
       "25%     28.750000           41.500000               34.750000\n",
       "50%     36.000000           61.500000               50.000000\n",
       "75%     49.000000           78.000000               73.000000\n",
       "max     70.000000          137.000000               99.000000"
      ]
     },
     "execution_count": 5,
     "metadata": {},
     "output_type": "execute_result"
    }
   ],
   "source": [
    " df_starup.describe()"
   ]
  },
  {
   "cell_type": "code",
   "execution_count": 6,
   "id": "92834aab-a81c-4606-b2c9-3982a4683352",
   "metadata": {},
   "outputs": [
    {
     "data": {
      "text/html": [
       "<div>\n",
       "<style scoped>\n",
       "    .dataframe tbody tr th:only-of-type {\n",
       "        vertical-align: middle;\n",
       "    }\n",
       "\n",
       "    .dataframe tbody tr th {\n",
       "        vertical-align: top;\n",
       "    }\n",
       "\n",
       "    .dataframe thead th {\n",
       "        text-align: right;\n",
       "    }\n",
       "</style>\n",
       "<table border=\"1\" class=\"dataframe\">\n",
       "  <thead>\n",
       "    <tr style=\"text-align: right;\">\n",
       "      <th></th>\n",
       "      <th>Gender</th>\n",
       "      <th>Age</th>\n",
       "      <th>Annual Income (k$)</th>\n",
       "      <th>Spending Score (1-100)</th>\n",
       "    </tr>\n",
       "    <tr>\n",
       "      <th>CustomerID</th>\n",
       "      <th></th>\n",
       "      <th></th>\n",
       "      <th></th>\n",
       "      <th></th>\n",
       "    </tr>\n",
       "  </thead>\n",
       "  <tbody>\n",
       "    <tr>\n",
       "      <th>1</th>\n",
       "      <td>Male</td>\n",
       "      <td>19</td>\n",
       "      <td>15</td>\n",
       "      <td>39</td>\n",
       "    </tr>\n",
       "    <tr>\n",
       "      <th>2</th>\n",
       "      <td>Male</td>\n",
       "      <td>21</td>\n",
       "      <td>15</td>\n",
       "      <td>81</td>\n",
       "    </tr>\n",
       "    <tr>\n",
       "      <th>3</th>\n",
       "      <td>Female</td>\n",
       "      <td>20</td>\n",
       "      <td>16</td>\n",
       "      <td>6</td>\n",
       "    </tr>\n",
       "    <tr>\n",
       "      <th>4</th>\n",
       "      <td>Female</td>\n",
       "      <td>23</td>\n",
       "      <td>16</td>\n",
       "      <td>77</td>\n",
       "    </tr>\n",
       "    <tr>\n",
       "      <th>5</th>\n",
       "      <td>Female</td>\n",
       "      <td>31</td>\n",
       "      <td>17</td>\n",
       "      <td>40</td>\n",
       "    </tr>\n",
       "  </tbody>\n",
       "</table>\n",
       "</div>"
      ],
      "text/plain": [
       "            Gender  Age  Annual Income (k$)  Spending Score (1-100)\n",
       "CustomerID                                                         \n",
       "1             Male   19                  15                      39\n",
       "2             Male   21                  15                      81\n",
       "3           Female   20                  16                       6\n",
       "4           Female   23                  16                      77\n",
       "5           Female   31                  17                      40"
      ]
     },
     "execution_count": 6,
     "metadata": {},
     "output_type": "execute_result"
    }
   ],
   "source": [
    "df_starup.head()"
   ]
  },
  {
   "cell_type": "markdown",
   "id": "d6813967",
   "metadata": {},
   "source": [
    "# Aplicación de K-Means con dos variables"
   ]
  },
  {
   "cell_type": "code",
   "execution_count": 7,
   "id": "98931f3b",
   "metadata": {
    "ExecuteTime": {
     "end_time": "2022-02-18T15:14:11.471207Z",
     "start_time": "2022-02-18T15:14:11.458210Z"
    }
   },
   "outputs": [
    {
     "data": {
      "text/html": [
       "<div>\n",
       "<style scoped>\n",
       "    .dataframe tbody tr th:only-of-type {\n",
       "        vertical-align: middle;\n",
       "    }\n",
       "\n",
       "    .dataframe tbody tr th {\n",
       "        vertical-align: top;\n",
       "    }\n",
       "\n",
       "    .dataframe thead th {\n",
       "        text-align: right;\n",
       "    }\n",
       "</style>\n",
       "<table border=\"1\" class=\"dataframe\">\n",
       "  <thead>\n",
       "    <tr style=\"text-align: right;\">\n",
       "      <th></th>\n",
       "      <th>Annual Income (k$)</th>\n",
       "      <th>Spending Score (1-100)</th>\n",
       "    </tr>\n",
       "    <tr>\n",
       "      <th>CustomerID</th>\n",
       "      <th></th>\n",
       "      <th></th>\n",
       "    </tr>\n",
       "  </thead>\n",
       "  <tbody>\n",
       "    <tr>\n",
       "      <th>1</th>\n",
       "      <td>15</td>\n",
       "      <td>39</td>\n",
       "    </tr>\n",
       "    <tr>\n",
       "      <th>2</th>\n",
       "      <td>15</td>\n",
       "      <td>81</td>\n",
       "    </tr>\n",
       "    <tr>\n",
       "      <th>3</th>\n",
       "      <td>16</td>\n",
       "      <td>6</td>\n",
       "    </tr>\n",
       "    <tr>\n",
       "      <th>4</th>\n",
       "      <td>16</td>\n",
       "      <td>77</td>\n",
       "    </tr>\n",
       "    <tr>\n",
       "      <th>5</th>\n",
       "      <td>17</td>\n",
       "      <td>40</td>\n",
       "    </tr>\n",
       "  </tbody>\n",
       "</table>\n",
       "</div>"
      ],
      "text/plain": [
       "            Annual Income (k$)  Spending Score (1-100)\n",
       "CustomerID                                            \n",
       "1                           15                      39\n",
       "2                           15                      81\n",
       "3                           16                       6\n",
       "4                           16                      77\n",
       "5                           17                      40"
      ]
     },
     "execution_count": 7,
     "metadata": {},
     "output_type": "execute_result"
    }
   ],
   "source": [
    "data = df_starup[['Annual Income (k$)','Spending Score (1-100)']]\n",
    "#data.reset_index(drop=True, inplace=True)\n",
    "data.head()"
   ]
  },
  {
   "cell_type": "markdown",
   "id": "c6f34e7c",
   "metadata": {
    "ExecuteTime": {
     "end_time": "2022-02-18T09:03:59.502035Z",
     "start_time": "2022-02-18T09:03:59.472633Z"
    }
   },
   "source": [
    "## ¿Cuántos clusters? (Elbow Method)"
   ]
  },
  {
   "cell_type": "code",
   "execution_count": 8,
   "id": "0f7e1e40",
   "metadata": {
    "ExecuteTime": {
     "end_time": "2022-02-18T15:14:18.764595Z",
     "start_time": "2022-02-18T15:14:16.836830Z"
    }
   },
   "outputs": [],
   "source": [
    "# Encontrar el número de clusters\n",
    "from sklearn.cluster import KMeans\n",
    "wcss = []\n",
    "for i in range(2, 11):\n",
    "    kmeans = KMeans(n_clusters = i, init = 'k-means++', random_state = 12)\n",
    "    kmeans.fit(data)\n",
    "    wcss.append(kmeans.inertia_)"
   ]
  },
  {
   "cell_type": "code",
   "execution_count": 9,
   "id": "5a3a8377",
   "metadata": {
    "ExecuteTime": {
     "end_time": "2022-02-18T15:14:25.488595Z",
     "start_time": "2022-02-18T15:14:24.274279Z"
    }
   },
   "outputs": [
    {
     "data": {
      "image/png": "[encoded data removed]",
      "text/plain": [
       "<Figure size 432x288 with 1 Axes>"
      ]
     },
     "metadata": {
      "needs_background": "light"
     },
     "output_type": "display_data"
    }
   ],
   "source": [
    "import matplotlib.pyplot as plt\n",
    "plt.plot(range(2, 11), wcss)\n",
    "plt.title('The Elbow Method')\n",
    "plt.xlabel('Number of clusters')\n",
    "plt.ylabel('WCSS')\n",
    "plt.show()"
   ]
  },
  {
   "cell_type": "markdown",
   "id": "f4504c54",
   "metadata": {
    "ExecuteTime": {
     "end_time": "2022-02-18T09:06:07.215124Z",
     "start_time": "2022-02-18T09:06:07.201124Z"
    }
   },
   "source": [
    "## Definición de clusters k-means"
   ]
  },
  {
   "cell_type": "code",
   "execution_count": 10,
   "id": "af6a8729",
   "metadata": {
    "ExecuteTime": {
     "end_time": "2022-02-18T15:14:32.229294Z",
     "start_time": "2022-02-18T15:14:32.143297Z"
    }
   },
   "outputs": [
    {
     "data": {
      "text/html": [
       "<div>\n",
       "<style scoped>\n",
       "    .dataframe tbody tr th:only-of-type {\n",
       "        vertical-align: middle;\n",
       "    }\n",
       "\n",
       "    .dataframe tbody tr th {\n",
       "        vertical-align: top;\n",
       "    }\n",
       "\n",
       "    .dataframe thead th {\n",
       "        text-align: right;\n",
       "    }\n",
       "</style>\n",
       "<table border=\"1\" class=\"dataframe\">\n",
       "  <thead>\n",
       "    <tr style=\"text-align: right;\">\n",
       "      <th></th>\n",
       "      <th>Annual Income (k$)</th>\n",
       "      <th>Spending Score (1-100)</th>\n",
       "      <th>cluster</th>\n",
       "    </tr>\n",
       "    <tr>\n",
       "      <th>CustomerID</th>\n",
       "      <th></th>\n",
       "      <th></th>\n",
       "      <th></th>\n",
       "    </tr>\n",
       "  </thead>\n",
       "  <tbody>\n",
       "    <tr>\n",
       "      <th>1</th>\n",
       "      <td>15</td>\n",
       "      <td>39</td>\n",
       "      <td>2</td>\n",
       "    </tr>\n",
       "    <tr>\n",
       "      <th>2</th>\n",
       "      <td>15</td>\n",
       "      <td>81</td>\n",
       "      <td>3</td>\n",
       "    </tr>\n",
       "    <tr>\n",
       "      <th>3</th>\n",
       "      <td>16</td>\n",
       "      <td>6</td>\n",
       "      <td>2</td>\n",
       "    </tr>\n",
       "    <tr>\n",
       "      <th>4</th>\n",
       "      <td>16</td>\n",
       "      <td>77</td>\n",
       "      <td>3</td>\n",
       "    </tr>\n",
       "    <tr>\n",
       "      <th>5</th>\n",
       "      <td>17</td>\n",
       "      <td>40</td>\n",
       "      <td>2</td>\n",
       "    </tr>\n",
       "  </tbody>\n",
       "</table>\n",
       "</div>"
      ],
      "text/plain": [
       "            Annual Income (k$)  Spending Score (1-100)  cluster\n",
       "CustomerID                                                     \n",
       "1                           15                      39        2\n",
       "2                           15                      81        3\n",
       "3                           16                       6        2\n",
       "4                           16                      77        3\n",
       "5                           17                      40        2"
      ]
     },
     "execution_count": 10,
     "metadata": {},
     "output_type": "execute_result"
    }
   ],
   "source": [
    "import warnings\n",
    "warnings.filterwarnings('ignore')\n",
    "kmeans = KMeans(n_clusters = 5, init = \"k-means++\", random_state = 42).fit(data)\n",
    "data['cluster'] = kmeans.labels_\n",
    "data.head()"
   ]
  },
  {
   "cell_type": "code",
   "execution_count": 11,
   "id": "a7ee8203",
   "metadata": {
    "ExecuteTime": {
     "end_time": "2022-02-18T15:14:35.310354Z",
     "start_time": "2022-02-18T15:14:35.283356Z"
    }
   },
   "outputs": [
    {
     "name": "stdout",
     "output_type": "stream",
     "text": [
      "   Annual Income (k$)  Spending Score (1-100)  freq  freq_r\n",
      "0           55.296296               49.518519    81   0.405\n",
      "1           88.200000               17.114286    35   0.175\n",
      "2           26.304348               20.913043    23   0.115\n",
      "3           25.727273               79.363636    22   0.110\n",
      "4           86.538462               82.128205    39   0.195\n"
     ]
    }
   ],
   "source": [
    "centers = pd.DataFrame(kmeans.cluster_centers_, columns=['Annual Income (k$)', 'Spending Score (1-100)'])\n",
    "centers['freq']=data['cluster'].value_counts()\n",
    "centers['freq_r']=data['cluster'].value_counts(normalize=True)\n",
    "print(centers)"
   ]
  },
  {
   "cell_type": "code",
   "execution_count": 12,
   "id": "8b93e96d-8e87-4351-b384-75f610cb037d",
   "metadata": {},
   "outputs": [],
   "source": [
    "cluster_map = pd.DataFrame()\n",
    "cluster_map['customer_id'] = data.index.values\n",
    "cluster_map['cluster'] = kmeans.labels_"
   ]
  },
  {
   "cell_type": "code",
   "execution_count": null,
   "id": "2e013306-ead6-41ef-afb4-d474363a903f",
   "metadata": {},
   "outputs": [],
   "source": [
    "cluster_map[cluster_map.cluster == 2]"
   ]
  },
  {
   "cell_type": "code",
   "execution_count": 14,
   "id": "5f48f3f2-613e-472b-9226-45a69816b0ce",
   "metadata": {},
   "outputs": [
    {
     "name": "stdout",
     "output_type": "stream",
     "text": [
      "0.5552365209836292\n"
     ]
    }
   ],
   "source": [
    "from sklearn.metrics import silhouette_samples, silhouette_score\n",
    "data['S_S'] = silhouette_samples(data,data['cluster'])\n",
    "silhouette_score_mean = silhouette_score(data,data['cluster'])\n",
    "print(silhouette_score_mean)"
   ]
  },
  {
   "cell_type": "code",
   "execution_count": 15,
   "id": "272aa507-f625-4606-99dd-6b73a136228c",
   "metadata": {},
   "outputs": [
    {
     "data": {
      "text/html": [
       "<div>\n",
       "<style scoped>\n",
       "    .dataframe tbody tr th:only-of-type {\n",
       "        vertical-align: middle;\n",
       "    }\n",
       "\n",
       "    .dataframe tbody tr th {\n",
       "        vertical-align: top;\n",
       "    }\n",
       "\n",
       "    .dataframe thead th {\n",
       "        text-align: right;\n",
       "    }\n",
       "</style>\n",
       "<table border=\"1\" class=\"dataframe\">\n",
       "  <thead>\n",
       "    <tr style=\"text-align: right;\">\n",
       "      <th></th>\n",
       "      <th>Annual Income (k$)</th>\n",
       "      <th>Spending Score (1-100)</th>\n",
       "      <th>S_S</th>\n",
       "      <th>freq</th>\n",
       "      <th>freq_r</th>\n",
       "    </tr>\n",
       "    <tr>\n",
       "      <th>cluster</th>\n",
       "      <th></th>\n",
       "      <th></th>\n",
       "      <th></th>\n",
       "      <th></th>\n",
       "      <th></th>\n",
       "    </tr>\n",
       "  </thead>\n",
       "  <tbody>\n",
       "    <tr>\n",
       "      <th>0</th>\n",
       "      <td>55.296296</td>\n",
       "      <td>49.518519</td>\n",
       "      <td>0.598064</td>\n",
       "      <td>81</td>\n",
       "      <td>0.405</td>\n",
       "    </tr>\n",
       "    <tr>\n",
       "      <th>1</th>\n",
       "      <td>88.200000</td>\n",
       "      <td>17.114286</td>\n",
       "      <td>0.504175</td>\n",
       "      <td>35</td>\n",
       "      <td>0.175</td>\n",
       "    </tr>\n",
       "    <tr>\n",
       "      <th>2</th>\n",
       "      <td>26.304348</td>\n",
       "      <td>20.913043</td>\n",
       "      <td>0.513139</td>\n",
       "      <td>23</td>\n",
       "      <td>0.115</td>\n",
       "    </tr>\n",
       "    <tr>\n",
       "      <th>3</th>\n",
       "      <td>25.727273</td>\n",
       "      <td>79.363636</td>\n",
       "      <td>0.600465</td>\n",
       "      <td>22</td>\n",
       "      <td>0.110</td>\n",
       "    </tr>\n",
       "    <tr>\n",
       "      <th>4</th>\n",
       "      <td>86.538462</td>\n",
       "      <td>82.128205</td>\n",
       "      <td>0.511514</td>\n",
       "      <td>39</td>\n",
       "      <td>0.195</td>\n",
       "    </tr>\n",
       "  </tbody>\n",
       "</table>\n",
       "</div>"
      ],
      "text/plain": [
       "         Annual Income (k$)  Spending Score (1-100)       S_S  freq  freq_r\n",
       "cluster                                                                    \n",
       "0                 55.296296               49.518519  0.598064    81   0.405\n",
       "1                 88.200000               17.114286  0.504175    35   0.175\n",
       "2                 26.304348               20.913043  0.513139    23   0.115\n",
       "3                 25.727273               79.363636  0.600465    22   0.110\n",
       "4                 86.538462               82.128205  0.511514    39   0.195"
      ]
     },
     "execution_count": 15,
     "metadata": {},
     "output_type": "execute_result"
    }
   ],
   "source": [
    "#data['cluster']=data_sd['cluster']\n",
    "Centers_mean=data.groupby('cluster').mean()\n",
    "Centers_mean['freq']=data['cluster'].value_counts()\n",
    "Centers_mean['freq_r']=data['cluster'].value_counts(normalize=True)\n",
    "Centers_mean"
   ]
  },
  {
   "cell_type": "markdown",
   "id": "23f09abe",
   "metadata": {},
   "source": [
    "## Visualización clusters con dos variables"
   ]
  },
  {
   "cell_type": "code",
   "execution_count": null,
   "id": "30da602d",
   "metadata": {
    "ExecuteTime": {
     "end_time": "2022-02-18T15:14:40.428470Z",
     "start_time": "2022-02-18T15:14:39.996422Z"
    }
   },
   "outputs": [],
   "source": [
    "import seaborn as sns \n",
    "fig, ax = plt.subplots(figsize=(8, 8))\n",
    "ax = sns.scatterplot(x='Annual Income (k$)', y='Spending Score (1-100)', hue='cluster', style='cluster', \n",
    "                     ax=ax, data=data)\n",
    "ax.set_xlim(10, 150)\n",
    "ax.set_ylim(1, 100)\n",
    "centers.plot.scatter(x='Annual Income (k$)', y='Spending Score (1-100)', ax=ax, s=50, color='black')\n",
    "plt.tight_layout()\n",
    "plt.show()"
   ]
  },
  {
   "cell_type": "code",
   "execution_count": null,
   "id": "9a76cb49",
   "metadata": {
    "ExecuteTime": {
     "end_time": "2022-02-18T15:14:43.739627Z",
     "start_time": "2022-02-18T15:14:43.464471Z"
    }
   },
   "outputs": [],
   "source": [
    "import matplotlib.pyplot as plt\n",
    "plt.scatter(data[data['cluster']==0]['Annual Income (k$)'], data[data['cluster']==0]['Spending Score (1-100)'], s = 60, c = 'blue', label = 'Cluster1')\n",
    "plt.scatter(data[data['cluster']==1]['Annual Income (k$)'], data[data['cluster']==1]['Spending Score (1-100)'], s = 60, c = 'violet', label = 'Cluster2')\n",
    "plt.scatter(data[data['cluster']==2]['Annual Income (k$)'], data[data['cluster']==2]['Spending Score (1-100)'], s = 60, c = 'yellow', label = 'Cluster3')\n",
    "plt.scatter(data[data['cluster']==3]['Annual Income (k$)'], data[data['cluster']==3]['Spending Score (1-100)'], s = 60, c = 'red', label = 'Cluster4')\n",
    "plt.scatter(data[data['cluster']==4]['Annual Income (k$)'], data[data['cluster']==4]['Spending Score (1-100)'], s = 60, c = 'green', label = 'Cluster5') \n",
    "plt.scatter(centers['Annual Income (k$)'], centers['Spending Score (1-100)'], s = 100, c = 'black', label = 'Centroids')\n",
    "plt.xlabel('Annual Income (k$)') \n",
    "plt.ylabel('Spending Score (1-100)') \n",
    "plt.legend()             \n",
    "plt.show()"
   ]
  },
  {
   "cell_type": "markdown",
   "id": "426b61a5",
   "metadata": {},
   "source": [
    "## Caracterización de los clusters\n",
    "\n",
    "Debemos caracterizar los clusters:\n",
    "\n",
    "+ Cluster 1:Cliente estándar.\n",
    "+ Cluster 2:Cliente cuidadoso-cliente potencial.\n",
    "+ Cluster 3:Cliente sensible-de cuidado.\n",
    "+ Cluster 4:Cliente descuidado-riesgoso.\n",
    "+ Cluster 5:Cliente objetivo."
   ]
  },
  {
   "cell_type": "markdown",
   "id": "54f711d7",
   "metadata": {},
   "source": [
    "# K-means con todas las variables"
   ]
  },
  {
   "cell_type": "code",
   "execution_count": 16,
   "id": "1a9e8146",
   "metadata": {
    "ExecuteTime": {
     "end_time": "2022-02-18T15:14:49.146862Z",
     "start_time": "2022-02-18T15:14:49.126869Z"
    }
   },
   "outputs": [],
   "source": [
    "# preprocessing\n",
    "data1 = df_starup[['Annual Income (k$)','Spending Score (1-100)', 'Age']]\n",
    "data1['Gender_M'] = (df_starup['Gender'] == 'Male')*1.0\n",
    "data1.reset_index(drop=True, inplace=True)"
   ]
  },
  {
   "cell_type": "code",
   "execution_count": 17,
   "id": "0217188a-43ec-479d-8fef-079fa5baa4c4",
   "metadata": {},
   "outputs": [
    {
     "data": {
      "text/html": [
       "<div>\n",
       "<style scoped>\n",
       "    .dataframe tbody tr th:only-of-type {\n",
       "        vertical-align: middle;\n",
       "    }\n",
       "\n",
       "    .dataframe tbody tr th {\n",
       "        vertical-align: top;\n",
       "    }\n",
       "\n",
       "    .dataframe thead th {\n",
       "        text-align: right;\n",
       "    }\n",
       "</style>\n",
       "<table border=\"1\" class=\"dataframe\">\n",
       "  <thead>\n",
       "    <tr style=\"text-align: right;\">\n",
       "      <th></th>\n",
       "      <th>Annual Income (k$)</th>\n",
       "      <th>Spending Score (1-100)</th>\n",
       "      <th>Age</th>\n",
       "      <th>Gender_M</th>\n",
       "    </tr>\n",
       "  </thead>\n",
       "  <tbody>\n",
       "    <tr>\n",
       "      <th>0</th>\n",
       "      <td>15</td>\n",
       "      <td>39</td>\n",
       "      <td>19</td>\n",
       "      <td>1.0</td>\n",
       "    </tr>\n",
       "    <tr>\n",
       "      <th>1</th>\n",
       "      <td>15</td>\n",
       "      <td>81</td>\n",
       "      <td>21</td>\n",
       "      <td>1.0</td>\n",
       "    </tr>\n",
       "    <tr>\n",
       "      <th>2</th>\n",
       "      <td>16</td>\n",
       "      <td>6</td>\n",
       "      <td>20</td>\n",
       "      <td>0.0</td>\n",
       "    </tr>\n",
       "    <tr>\n",
       "      <th>3</th>\n",
       "      <td>16</td>\n",
       "      <td>77</td>\n",
       "      <td>23</td>\n",
       "      <td>0.0</td>\n",
       "    </tr>\n",
       "    <tr>\n",
       "      <th>4</th>\n",
       "      <td>17</td>\n",
       "      <td>40</td>\n",
       "      <td>31</td>\n",
       "      <td>0.0</td>\n",
       "    </tr>\n",
       "  </tbody>\n",
       "</table>\n",
       "</div>"
      ],
      "text/plain": [
       "   Annual Income (k$)  Spending Score (1-100)  Age  Gender_M\n",
       "0                  15                      39   19       1.0\n",
       "1                  15                      81   21       1.0\n",
       "2                  16                       6   20       0.0\n",
       "3                  16                      77   23       0.0\n",
       "4                  17                      40   31       0.0"
      ]
     },
     "execution_count": 17,
     "metadata": {},
     "output_type": "execute_result"
    }
   ],
   "source": [
    "data1.head()"
   ]
  },
  {
   "cell_type": "markdown",
   "id": "5f8e68e9",
   "metadata": {
    "ExecuteTime": {
     "end_time": "2022-02-18T09:12:26.823381Z",
     "start_time": "2022-02-18T09:12:26.808386Z"
    }
   },
   "source": [
    "## Elbow Method"
   ]
  },
  {
   "cell_type": "code",
   "execution_count": 18,
   "id": "df489d91",
   "metadata": {
    "ExecuteTime": {
     "end_time": "2022-02-18T15:14:58.275080Z",
     "start_time": "2022-02-18T15:14:57.607084Z"
    }
   },
   "outputs": [
    {
     "data": {
      "image/png": "[encoded data removed]",
      "text/plain": [
       "<Figure size 432x288 with 1 Axes>"
      ]
     },
     "metadata": {
      "needs_background": "light"
     },
     "output_type": "display_data"
    }
   ],
   "source": [
    "from sklearn.cluster import KMeans\n",
    "\n",
    "wcss = []\n",
    "for i in range(2, 11):\n",
    "    kmeans = KMeans(n_clusters = i, init = 'k-means++', random_state = 12)\n",
    "    kmeans.fit(data1)\n",
    "    wcss.append(kmeans.inertia_)\n",
    "\n",
    "\n",
    "    \n",
    "import matplotlib.pyplot as plt\n",
    "plt.plot(range(2, 11), wcss)\n",
    "plt.title('The Elbow Method')\n",
    "plt.xlabel('Number of clusters')\n",
    "plt.ylabel('WCSS')\n",
    "plt.show()"
   ]
  },
  {
   "cell_type": "markdown",
   "id": "9d322e94",
   "metadata": {},
   "source": [
    "## Definición de clusters"
   ]
  },
  {
   "cell_type": "code",
   "execution_count": 19,
   "id": "f1f2b8d5",
   "metadata": {
    "ExecuteTime": {
     "end_time": "2022-02-18T15:16:58.399562Z",
     "start_time": "2022-02-18T15:16:58.300562Z"
    }
   },
   "outputs": [
    {
     "data": {
      "text/html": [
       "<div>\n",
       "<style scoped>\n",
       "    .dataframe tbody tr th:only-of-type {\n",
       "        vertical-align: middle;\n",
       "    }\n",
       "\n",
       "    .dataframe tbody tr th {\n",
       "        vertical-align: top;\n",
       "    }\n",
       "\n",
       "    .dataframe thead th {\n",
       "        text-align: right;\n",
       "    }\n",
       "</style>\n",
       "<table border=\"1\" class=\"dataframe\">\n",
       "  <thead>\n",
       "    <tr style=\"text-align: right;\">\n",
       "      <th></th>\n",
       "      <th>Annual Income (k$)</th>\n",
       "      <th>Spending Score (1-100)</th>\n",
       "      <th>Age</th>\n",
       "      <th>Gender_M</th>\n",
       "      <th>freq</th>\n",
       "      <th>freq_r</th>\n",
       "    </tr>\n",
       "  </thead>\n",
       "  <tbody>\n",
       "    <tr>\n",
       "      <th>0</th>\n",
       "      <td>86.538462</td>\n",
       "      <td>82.128205</td>\n",
       "      <td>32.692308</td>\n",
       "      <td>0.461538</td>\n",
       "      <td>39</td>\n",
       "      <td>0.195</td>\n",
       "    </tr>\n",
       "    <tr>\n",
       "      <th>1</th>\n",
       "      <td>53.377778</td>\n",
       "      <td>49.088889</td>\n",
       "      <td>56.155556</td>\n",
       "      <td>0.444444</td>\n",
       "      <td>45</td>\n",
       "      <td>0.225</td>\n",
       "    </tr>\n",
       "    <tr>\n",
       "      <th>2</th>\n",
       "      <td>25.727273</td>\n",
       "      <td>79.363636</td>\n",
       "      <td>25.272727</td>\n",
       "      <td>0.409091</td>\n",
       "      <td>22</td>\n",
       "      <td>0.110</td>\n",
       "    </tr>\n",
       "    <tr>\n",
       "      <th>3</th>\n",
       "      <td>88.228571</td>\n",
       "      <td>17.285714</td>\n",
       "      <td>41.685714</td>\n",
       "      <td>0.571429</td>\n",
       "      <td>35</td>\n",
       "      <td>0.175</td>\n",
       "    </tr>\n",
       "    <tr>\n",
       "      <th>4</th>\n",
       "      <td>56.657895</td>\n",
       "      <td>49.131579</td>\n",
       "      <td>27.000000</td>\n",
       "      <td>0.342105</td>\n",
       "      <td>38</td>\n",
       "      <td>0.190</td>\n",
       "    </tr>\n",
       "    <tr>\n",
       "      <th>5</th>\n",
       "      <td>25.142857</td>\n",
       "      <td>19.523810</td>\n",
       "      <td>44.142857</td>\n",
       "      <td>0.380952</td>\n",
       "      <td>21</td>\n",
       "      <td>0.105</td>\n",
       "    </tr>\n",
       "  </tbody>\n",
       "</table>\n",
       "</div>"
      ],
      "text/plain": [
       "   Annual Income (k$)  Spending Score (1-100)        Age  Gender_M  freq  \\\n",
       "0           86.538462               82.128205  32.692308  0.461538    39   \n",
       "1           53.377778               49.088889  56.155556  0.444444    45   \n",
       "2           25.727273               79.363636  25.272727  0.409091    22   \n",
       "3           88.228571               17.285714  41.685714  0.571429    35   \n",
       "4           56.657895               49.131579  27.000000  0.342105    38   \n",
       "5           25.142857               19.523810  44.142857  0.380952    21   \n",
       "\n",
       "   freq_r  \n",
       "0   0.195  \n",
       "1   0.225  \n",
       "2   0.110  \n",
       "3   0.175  \n",
       "4   0.190  \n",
       "5   0.105  "
      ]
     },
     "execution_count": 19,
     "metadata": {},
     "output_type": "execute_result"
    }
   ],
   "source": [
    "import warnings\n",
    "warnings.filterwarnings('ignore')\n",
    "kmeans1 = KMeans(n_clusters = 6, init = \"k-means++\", random_state = 42).fit(data1)\n",
    "data1['cluster'] = kmeans1.labels_\n",
    "\n",
    "centers1 = pd.DataFrame(kmeans1.cluster_centers_, columns=['Annual Income (k$)', 'Spending Score (1-100)', 'Age', 'Gender_M'])\n",
    "\n",
    "centers1['freq']=data1['cluster'].value_counts()\n",
    "centers1['freq_r']=data1['cluster'].value_counts(normalize=True)\n",
    "centers1"
   ]
  },
  {
   "cell_type": "markdown",
   "id": "8ca33c5c",
   "metadata": {
    "ExecuteTime": {
     "end_time": "2022-02-18T09:16:18.086181Z",
     "start_time": "2022-02-18T09:16:18.081180Z"
    }
   },
   "source": [
    "## Clusters con data transformada (StandardScale)\n",
    "## K-means"
   ]
  },
  {
   "cell_type": "code",
   "execution_count": 20,
   "id": "0d2479dd",
   "metadata": {
    "ExecuteTime": {
     "end_time": "2022-02-18T15:17:08.968424Z",
     "start_time": "2022-02-18T15:17:08.945425Z"
    }
   },
   "outputs": [
    {
     "data": {
      "text/html": [
       "<div>\n",
       "<style scoped>\n",
       "    .dataframe tbody tr th:only-of-type {\n",
       "        vertical-align: middle;\n",
       "    }\n",
       "\n",
       "    .dataframe tbody tr th {\n",
       "        vertical-align: top;\n",
       "    }\n",
       "\n",
       "    .dataframe thead th {\n",
       "        text-align: right;\n",
       "    }\n",
       "</style>\n",
       "<table border=\"1\" class=\"dataframe\">\n",
       "  <thead>\n",
       "    <tr style=\"text-align: right;\">\n",
       "      <th></th>\n",
       "      <th>Annual Income (k$)_s</th>\n",
       "      <th>Spending Score (1-100)_s</th>\n",
       "      <th>Age_s</th>\n",
       "      <th>Gender_M_s</th>\n",
       "    </tr>\n",
       "  </thead>\n",
       "  <tbody>\n",
       "    <tr>\n",
       "      <th>0</th>\n",
       "      <td>-1.738999</td>\n",
       "      <td>-0.434801</td>\n",
       "      <td>-1.424569</td>\n",
       "      <td>1.128152</td>\n",
       "    </tr>\n",
       "    <tr>\n",
       "      <th>1</th>\n",
       "      <td>-1.738999</td>\n",
       "      <td>1.195704</td>\n",
       "      <td>-1.281035</td>\n",
       "      <td>1.128152</td>\n",
       "    </tr>\n",
       "    <tr>\n",
       "      <th>2</th>\n",
       "      <td>-1.700830</td>\n",
       "      <td>-1.715913</td>\n",
       "      <td>-1.352802</td>\n",
       "      <td>-0.886405</td>\n",
       "    </tr>\n",
       "    <tr>\n",
       "      <th>3</th>\n",
       "      <td>-1.700830</td>\n",
       "      <td>1.040418</td>\n",
       "      <td>-1.137502</td>\n",
       "      <td>-0.886405</td>\n",
       "    </tr>\n",
       "    <tr>\n",
       "      <th>4</th>\n",
       "      <td>-1.662660</td>\n",
       "      <td>-0.395980</td>\n",
       "      <td>-0.563369</td>\n",
       "      <td>-0.886405</td>\n",
       "    </tr>\n",
       "  </tbody>\n",
       "</table>\n",
       "</div>"
      ],
      "text/plain": [
       "   Annual Income (k$)_s  Spending Score (1-100)_s     Age_s  Gender_M_s\n",
       "0             -1.738999                 -0.434801 -1.424569    1.128152\n",
       "1             -1.738999                  1.195704 -1.281035    1.128152\n",
       "2             -1.700830                 -1.715913 -1.352802   -0.886405\n",
       "3             -1.700830                  1.040418 -1.137502   -0.886405\n",
       "4             -1.662660                 -0.395980 -0.563369   -0.886405"
      ]
     },
     "execution_count": 20,
     "metadata": {},
     "output_type": "execute_result"
    }
   ],
   "source": [
    "from sklearn import preprocessing\n",
    "data1.pop(\"cluster\")\n",
    "data_sd = preprocessing.scale(data1)\n",
    "data_sd = pd.DataFrame(data_sd, columns = ['Annual Income (k$)_s', 'Spending Score (1-100)_s', 'Age_s', 'Gender_M_s'])\n",
    "data_sd.head()"
   ]
  },
  {
   "cell_type": "markdown",
   "id": "a499089e",
   "metadata": {},
   "source": [
    "## Elbow Method"
   ]
  },
  {
   "cell_type": "code",
   "execution_count": 21,
   "id": "67d04737",
   "metadata": {
    "ExecuteTime": {
     "end_time": "2022-02-18T15:17:12.914552Z",
     "start_time": "2022-02-18T15:17:12.147555Z"
    }
   },
   "outputs": [
    {
     "data": {
      "image/png": "[encoded data removed]",
      "text/plain": [
       "<Figure size 432x288 with 1 Axes>"
      ]
     },
     "metadata": {
      "needs_background": "light"
     },
     "output_type": "display_data"
    }
   ],
   "source": [
    "wcss = []\n",
    "for i in range(2, 11):\n",
    "    kmeans = KMeans(n_clusters = i, init = 'k-means++', random_state = 12)\n",
    "    kmeans.fit(data_sd)\n",
    "    wcss.append(kmeans.inertia_)\n",
    "\n",
    "\n",
    "    \n",
    "import matplotlib.pyplot as plt\n",
    "plt.plot(range(2, 11), wcss)\n",
    "plt.title('The Elbow Method')\n",
    "plt.xlabel('Number of clusters')\n",
    "plt.ylabel('WCSS')\n",
    "plt.show()"
   ]
  },
  {
   "cell_type": "markdown",
   "id": "d8f8369f",
   "metadata": {},
   "source": [
    "## Definición de clusters data escalada"
   ]
  },
  {
   "cell_type": "code",
   "execution_count": 22,
   "id": "9ddfa5a0",
   "metadata": {
    "ExecuteTime": {
     "end_time": "2022-02-18T15:17:18.605745Z",
     "start_time": "2022-02-18T15:17:18.501746Z"
    }
   },
   "outputs": [
    {
     "name": "stdout",
     "output_type": "stream",
     "text": [
      "   Annual Income (k$)_s  Spending Score (1-100)_s     Age_s  Gender_M_s  freq  \\\n",
      "0             -0.493545                 -0.440553  1.376990    1.128152    27   \n",
      "1              0.943271                  1.179823 -0.452456   -0.886405    22   \n",
      "2             -0.737052                  0.416038 -0.976027    1.128152    24   \n",
      "3              0.997749                 -0.960834  0.157887   -0.886405    20   \n",
      "4              0.967012                 -1.397168 -0.027007    1.128152    19   \n",
      "5             -0.528180                 -0.367942  0.891900   -0.886405    36   \n",
      "6             -0.802726                  0.361041 -0.922202   -0.886405    34   \n",
      "7              1.013441                  1.260407 -0.399900    1.128152    18   \n",
      "\n",
      "   freq_r  \n",
      "0   0.135  \n",
      "1   0.110  \n",
      "2   0.120  \n",
      "3   0.100  \n",
      "4   0.095  \n",
      "5   0.180  \n",
      "6   0.170  \n",
      "7   0.090  \n"
     ]
    }
   ],
   "source": [
    "import warnings\n",
    "warnings.filterwarnings('ignore')\n",
    "kmeans = KMeans(n_clusters = 8, init = \"k-means++\", random_state = 42).fit(data_sd)\n",
    "data_sd['cluster'] = kmeans.labels_\n",
    "\n",
    "centers2 = pd.DataFrame(kmeans.cluster_centers_, columns=['Annual Income (k$)_s', 'Spending Score (1-100)_s', 'Age_s', 'Gender_M_s'])\n",
    "centers2['freq']=data_sd['cluster'].value_counts()\n",
    "centers2['freq_r']=data_sd['cluster'].value_counts(normalize=True)\n",
    "print(centers2)"
   ]
  },
  {
   "cell_type": "markdown",
   "id": "f185746f",
   "metadata": {},
   "source": [
    "## Definición de clusters con data en unidades reales"
   ]
  },
  {
   "cell_type": "code",
   "execution_count": 23,
   "id": "a255e1d6",
   "metadata": {
    "ExecuteTime": {
     "end_time": "2022-02-18T15:27:21.975765Z",
     "start_time": "2022-02-18T15:27:21.935717Z"
    }
   },
   "outputs": [
    {
     "data": {
      "text/html": [
       "<div>\n",
       "<style scoped>\n",
       "    .dataframe tbody tr th:only-of-type {\n",
       "        vertical-align: middle;\n",
       "    }\n",
       "\n",
       "    .dataframe tbody tr th {\n",
       "        vertical-align: top;\n",
       "    }\n",
       "\n",
       "    .dataframe thead th {\n",
       "        text-align: right;\n",
       "    }\n",
       "</style>\n",
       "<table border=\"1\" class=\"dataframe\">\n",
       "  <thead>\n",
       "    <tr style=\"text-align: right;\">\n",
       "      <th></th>\n",
       "      <th>Annual Income (k$)</th>\n",
       "      <th>Spending Score (1-100)</th>\n",
       "      <th>Age</th>\n",
       "      <th>Gender_M</th>\n",
       "      <th>freq</th>\n",
       "    </tr>\n",
       "  </thead>\n",
       "  <tbody>\n",
       "    <tr>\n",
       "      <th>0</th>\n",
       "      <td>47.597182</td>\n",
       "      <td>38.823375</td>\n",
       "      <td>58.085185</td>\n",
       "      <td>1.001405</td>\n",
       "      <td>27</td>\n",
       "    </tr>\n",
       "    <tr>\n",
       "      <th>1</th>\n",
       "      <td>85.334742</td>\n",
       "      <td>80.667172</td>\n",
       "      <td>32.529634</td>\n",
       "      <td>-0.001104</td>\n",
       "      <td>22</td>\n",
       "    </tr>\n",
       "    <tr>\n",
       "      <th>2</th>\n",
       "      <td>41.201543</td>\n",
       "      <td>60.943559</td>\n",
       "      <td>25.215872</td>\n",
       "      <td>1.001405</td>\n",
       "      <td>24</td>\n",
       "    </tr>\n",
       "    <tr>\n",
       "      <th>3</th>\n",
       "      <td>86.765596</td>\n",
       "      <td>25.387892</td>\n",
       "      <td>41.055521</td>\n",
       "      <td>-0.001104</td>\n",
       "      <td>20</td>\n",
       "    </tr>\n",
       "    <tr>\n",
       "      <th>4</th>\n",
       "      <td>85.958312</td>\n",
       "      <td>14.120214</td>\n",
       "      <td>38.472740</td>\n",
       "      <td>1.001405</td>\n",
       "      <td>19</td>\n",
       "    </tr>\n",
       "    <tr>\n",
       "      <th>5</th>\n",
       "      <td>46.687498</td>\n",
       "      <td>40.698439</td>\n",
       "      <td>51.308964</td>\n",
       "      <td>-0.001104</td>\n",
       "      <td>36</td>\n",
       "    </tr>\n",
       "    <tr>\n",
       "      <th>6</th>\n",
       "      <td>39.476637</td>\n",
       "      <td>59.523338</td>\n",
       "      <td>25.967754</td>\n",
       "      <td>-0.001104</td>\n",
       "      <td>34</td>\n",
       "    </tr>\n",
       "    <tr>\n",
       "      <th>7</th>\n",
       "      <td>87.177739</td>\n",
       "      <td>82.748139</td>\n",
       "      <td>33.263795</td>\n",
       "      <td>1.001405</td>\n",
       "      <td>18</td>\n",
       "    </tr>\n",
       "  </tbody>\n",
       "</table>\n",
       "</div>"
      ],
      "text/plain": [
       "   Annual Income (k$)  Spending Score (1-100)        Age  Gender_M  freq\n",
       "0           47.597182               38.823375  58.085185  1.001405    27\n",
       "1           85.334742               80.667172  32.529634 -0.001104    22\n",
       "2           41.201543               60.943559  25.215872  1.001405    24\n",
       "3           86.765596               25.387892  41.055521 -0.001104    20\n",
       "4           85.958312               14.120214  38.472740  1.001405    19\n",
       "5           46.687498               40.698439  51.308964 -0.001104    36\n",
       "6           39.476637               59.523338  25.967754 -0.001104    34\n",
       "7           87.177739               82.748139  33.263795  1.001405    18"
      ]
     },
     "execution_count": 23,
     "metadata": {},
     "output_type": "execute_result"
    }
   ],
   "source": [
    "mu =data1.mean()\n",
    "sd=data1.std()\n",
    "centers_inv=pd.DataFrame(index=centers2.index)\n",
    "centers_inv['Annual Income (k$)']=centers2['Annual Income (k$)_s']*sd['Annual Income (k$)']+mu['Annual Income (k$)']\n",
    "centers_inv['Spending Score (1-100)']=centers2['Spending Score (1-100)_s']*sd['Spending Score (1-100)']+mu['Spending Score (1-100)']\n",
    "centers_inv['Age']=centers2['Age_s']*sd['Age']+mu['Age']\n",
    "centers_inv['Gender_M']=centers2['Gender_M_s']*sd['Gender_M']+mu['Gender_M']\n",
    "centers_inv['freq']=centers2['freq']\n",
    "centers_inv"
   ]
  },
  {
   "cell_type": "markdown",
   "id": "fdb0d421",
   "metadata": {},
   "source": [
    "## Evaluación. Silhouette score"
   ]
  },
  {
   "cell_type": "code",
   "execution_count": 25,
   "id": "3ccd34e3",
   "metadata": {
    "ExecuteTime": {
     "end_time": "2022-02-18T15:22:52.864340Z",
     "start_time": "2022-02-18T15:22:52.844341Z"
    }
   },
   "outputs": [
    {
     "name": "stdout",
     "output_type": "stream",
     "text": [
      "0.5453547636797776\n"
     ]
    }
   ],
   "source": [
    "from sklearn.metrics import silhouette_samples, silhouette_score\n",
    "import matplotlib.pyplot as plt\n",
    "data1['S_S'] = silhouette_samples(data_sd,data_sd['cluster'])\n",
    "silhouette_score_mean = silhouette_score(data_sd,data_sd['cluster'])\n",
    "print(silhouette_score_mean)"
   ]
  },
  {
   "cell_type": "code",
   "execution_count": 26,
   "id": "d0423131",
   "metadata": {
    "ExecuteTime": {
     "end_time": "2022-02-18T15:22:57.352937Z",
     "start_time": "2022-02-18T15:22:57.318938Z"
    }
   },
   "outputs": [
    {
     "data": {
      "text/html": [
       "<div>\n",
       "<style scoped>\n",
       "    .dataframe tbody tr th:only-of-type {\n",
       "        vertical-align: middle;\n",
       "    }\n",
       "\n",
       "    .dataframe tbody tr th {\n",
       "        vertical-align: top;\n",
       "    }\n",
       "\n",
       "    .dataframe thead th {\n",
       "        text-align: right;\n",
       "    }\n",
       "</style>\n",
       "<table border=\"1\" class=\"dataframe\">\n",
       "  <thead>\n",
       "    <tr style=\"text-align: right;\">\n",
       "      <th></th>\n",
       "      <th>Annual Income (k$)</th>\n",
       "      <th>Spending Score (1-100)</th>\n",
       "      <th>Age</th>\n",
       "      <th>Gender_M</th>\n",
       "      <th>S_S</th>\n",
       "      <th>freq</th>\n",
       "      <th>freq_r</th>\n",
       "    </tr>\n",
       "    <tr>\n",
       "      <th>cluster</th>\n",
       "      <th></th>\n",
       "      <th></th>\n",
       "      <th></th>\n",
       "      <th></th>\n",
       "      <th></th>\n",
       "      <th></th>\n",
       "      <th></th>\n",
       "    </tr>\n",
       "  </thead>\n",
       "  <tbody>\n",
       "    <tr>\n",
       "      <th>0</th>\n",
       "      <td>47.629630</td>\n",
       "      <td>38.851852</td>\n",
       "      <td>58.037037</td>\n",
       "      <td>1.0</td>\n",
       "      <td>0.586699</td>\n",
       "      <td>27</td>\n",
       "      <td>0.135</td>\n",
       "    </tr>\n",
       "    <tr>\n",
       "      <th>1</th>\n",
       "      <td>85.272727</td>\n",
       "      <td>80.590909</td>\n",
       "      <td>32.545455</td>\n",
       "      <td>0.0</td>\n",
       "      <td>0.711400</td>\n",
       "      <td>22</td>\n",
       "      <td>0.110</td>\n",
       "    </tr>\n",
       "    <tr>\n",
       "      <th>2</th>\n",
       "      <td>41.250000</td>\n",
       "      <td>60.916667</td>\n",
       "      <td>25.250000</td>\n",
       "      <td>1.0</td>\n",
       "      <td>0.563596</td>\n",
       "      <td>24</td>\n",
       "      <td>0.120</td>\n",
       "    </tr>\n",
       "    <tr>\n",
       "      <th>3</th>\n",
       "      <td>86.700000</td>\n",
       "      <td>25.450000</td>\n",
       "      <td>41.050000</td>\n",
       "      <td>0.0</td>\n",
       "      <td>0.484337</td>\n",
       "      <td>20</td>\n",
       "      <td>0.100</td>\n",
       "    </tr>\n",
       "    <tr>\n",
       "      <th>4</th>\n",
       "      <td>85.894737</td>\n",
       "      <td>14.210526</td>\n",
       "      <td>38.473684</td>\n",
       "      <td>1.0</td>\n",
       "      <td>0.477416</td>\n",
       "      <td>19</td>\n",
       "      <td>0.095</td>\n",
       "    </tr>\n",
       "    <tr>\n",
       "      <th>5</th>\n",
       "      <td>46.722222</td>\n",
       "      <td>40.722222</td>\n",
       "      <td>51.277778</td>\n",
       "      <td>0.0</td>\n",
       "      <td>0.490390</td>\n",
       "      <td>36</td>\n",
       "      <td>0.180</td>\n",
       "    </tr>\n",
       "    <tr>\n",
       "      <th>6</th>\n",
       "      <td>39.529412</td>\n",
       "      <td>59.500000</td>\n",
       "      <td>26.000000</td>\n",
       "      <td>0.0</td>\n",
       "      <td>0.461917</td>\n",
       "      <td>34</td>\n",
       "      <td>0.170</td>\n",
       "    </tr>\n",
       "    <tr>\n",
       "      <th>7</th>\n",
       "      <td>87.111111</td>\n",
       "      <td>82.666667</td>\n",
       "      <td>33.277778</td>\n",
       "      <td>1.0</td>\n",
       "      <td>0.663117</td>\n",
       "      <td>18</td>\n",
       "      <td>0.090</td>\n",
       "    </tr>\n",
       "  </tbody>\n",
       "</table>\n",
       "</div>"
      ],
      "text/plain": [
       "         Annual Income (k$)  Spending Score (1-100)        Age  Gender_M  \\\n",
       "cluster                                                                    \n",
       "0                 47.629630               38.851852  58.037037       1.0   \n",
       "1                 85.272727               80.590909  32.545455       0.0   \n",
       "2                 41.250000               60.916667  25.250000       1.0   \n",
       "3                 86.700000               25.450000  41.050000       0.0   \n",
       "4                 85.894737               14.210526  38.473684       1.0   \n",
       "5                 46.722222               40.722222  51.277778       0.0   \n",
       "6                 39.529412               59.500000  26.000000       0.0   \n",
       "7                 87.111111               82.666667  33.277778       1.0   \n",
       "\n",
       "              S_S  freq  freq_r  \n",
       "cluster                          \n",
       "0        0.586699    27   0.135  \n",
       "1        0.711400    22   0.110  \n",
       "2        0.563596    24   0.120  \n",
       "3        0.484337    20   0.100  \n",
       "4        0.477416    19   0.095  \n",
       "5        0.490390    36   0.180  \n",
       "6        0.461917    34   0.170  \n",
       "7        0.663117    18   0.090  "
      ]
     },
     "execution_count": 26,
     "metadata": {},
     "output_type": "execute_result"
    }
   ],
   "source": [
    "data1['cluster']=data_sd['cluster']\n",
    "Centers_mean=data1.groupby('cluster').mean()\n",
    "Centers_mean['freq']=data1['cluster'].value_counts()\n",
    "Centers_mean['freq_r']=data1['cluster'].value_counts(normalize=True)\n",
    "Centers_mean"
   ]
  },
  {
   "cell_type": "markdown",
   "id": "7ac01c7a",
   "metadata": {},
   "source": [
    "# Cluster Jerárquico"
   ]
  },
  {
   "cell_type": "code",
   "execution_count": null,
   "id": "3782f60d",
   "metadata": {
    "ExecuteTime": {
     "end_time": "2022-02-18T15:23:05.046127Z",
     "start_time": "2022-02-18T15:23:00.799101Z"
    }
   },
   "outputs": [],
   "source": [
    "from matplotlib import pyplot as plt\n",
    "import scipy.cluster.hierarchy as sch\n",
    "\n",
    "dendrogram = sch.dendrogram(sch.linkage(data_sd, method  = \"ward\"))\n",
    "plt.title('Dendrogram')\n",
    "plt.xlabel('Customers')\n",
    "plt.ylabel('distances')\n",
    "plt.show()"
   ]
  },
  {
   "cell_type": "markdown",
   "id": "318072c7",
   "metadata": {},
   "source": [
    "## Definición de clusters y evaluación"
   ]
  },
  {
   "cell_type": "code",
   "execution_count": null,
   "id": "258b77c2",
   "metadata": {
    "ExecuteTime": {
     "end_time": "2022-02-18T15:23:12.191819Z",
     "start_time": "2022-02-18T15:23:12.161820Z"
    }
   },
   "outputs": [],
   "source": [
    "#https://scikit-learn.org/stable/modules/generated/sklearn.cluster.AgglomerativeClustering.html\n",
    "from sklearn.cluster import AgglomerativeClustering \n",
    "hc = AgglomerativeClustering(n_clusters = 6, affinity = 'euclidean', linkage ='ward')\n",
    "y_hc=hc.fit_predict(data_sd)\n",
    "data1['cluster_hc']=y_hc\n",
    "data_sd['cluster_hc']=y_hc\n",
    "data1['S_S_hc'] = silhouette_samples(data_sd,data_sd['cluster_hc'])\n",
    "silhouette_score_mean_hc = silhouette_score(data_sd,data_sd['cluster_hc'])\n",
    "print(silhouette_score_mean_hc)\n"
   ]
  },
  {
   "cell_type": "code",
   "execution_count": null,
   "id": "5aa6eda3-89ad-4e7e-94b5-ee648baa418c",
   "metadata": {},
   "outputs": [],
   "source": [
    "data1"
   ]
  },
  {
   "cell_type": "code",
   "execution_count": null,
   "id": "e11cacf7",
   "metadata": {
    "ExecuteTime": {
     "end_time": "2022-02-18T15:23:14.925308Z",
     "start_time": "2022-02-18T15:23:14.889312Z"
    }
   },
   "outputs": [],
   "source": [
    "Centers_mean_hc=data1.groupby('cluster_hc').mean()\n",
    "Centers_mean_hc['freq_hc']=data1['cluster_hc'].value_counts()\n",
    "Centers_mean_hc['freq_r_hc']=data1['cluster_hc'].value_counts(normalize=True)\n",
    "Centers_mean_hc=Centers_mean_hc.drop(['cluster','S_S'], axis=1)\n",
    "Centers_mean_hc"
   ]
  },
  {
   "cell_type": "markdown",
   "id": "4e8acb1f",
   "metadata": {},
   "source": [
    "# DBSCAN\n",
    "## Definición de clusters y evaluación"
   ]
  },
  {
   "cell_type": "code",
   "execution_count": 27,
   "id": "a1958380",
   "metadata": {
    "ExecuteTime": {
     "end_time": "2022-02-18T15:23:38.806244Z",
     "start_time": "2022-02-18T15:23:38.774248Z"
    }
   },
   "outputs": [
    {
     "data": {
      "text/plain": [
       "0.4953530580907256"
      ]
     },
     "execution_count": 27,
     "metadata": {},
     "output_type": "execute_result"
    }
   ],
   "source": [
    "#https://scikit-learn.org/stable/modules/generated/sklearn.cluster.DBSCAN.html\n",
    "#pip install hdbscan\n",
    "from sklearn.cluster import DBSCAN\n",
    "\n",
    "dbscan = DBSCAN(eps=1.5, min_samples=15)\n",
    "y_dbs = dbscan.fit_predict(data_sd)\n",
    "silhouette_score(data_sd, y_dbs)"
   ]
  },
  {
   "cell_type": "code",
   "execution_count": 28,
   "id": "ea6932a0",
   "metadata": {
    "ExecuteTime": {
     "end_time": "2022-02-18T15:23:47.449229Z",
     "start_time": "2022-02-18T15:23:47.408801Z"
    }
   },
   "outputs": [
    {
     "ename": "KeyError",
     "evalue": "\"['cluster_hc' 'S_S_hc'] not found in axis\"",
     "output_type": "error",
     "traceback": [
      "\u001b[1;31m---------------------------------------------------------------------------\u001b[0m",
      "\u001b[1;31mKeyError\u001b[0m                                  Traceback (most recent call last)",
      "\u001b[1;32m~\\AppData\\Local\\Temp/ipykernel_23772/924896275.py\u001b[0m in \u001b[0;36m<module>\u001b[1;34m\u001b[0m\n\u001b[0;32m      6\u001b[0m \u001b[0mCenters_mean_dbs\u001b[0m\u001b[1;33m[\u001b[0m\u001b[1;34m'freq_dbs'\u001b[0m\u001b[1;33m]\u001b[0m\u001b[1;33m=\u001b[0m\u001b[0mdata1\u001b[0m\u001b[1;33m[\u001b[0m\u001b[1;34m'cluster_dbs'\u001b[0m\u001b[1;33m]\u001b[0m\u001b[1;33m.\u001b[0m\u001b[0mvalue_counts\u001b[0m\u001b[1;33m(\u001b[0m\u001b[1;33m)\u001b[0m\u001b[1;33m\u001b[0m\u001b[1;33m\u001b[0m\u001b[0m\n\u001b[0;32m      7\u001b[0m \u001b[0mCenters_mean_dbs\u001b[0m\u001b[1;33m[\u001b[0m\u001b[1;34m'freq_r_dbs'\u001b[0m\u001b[1;33m]\u001b[0m\u001b[1;33m=\u001b[0m\u001b[0mdata1\u001b[0m\u001b[1;33m[\u001b[0m\u001b[1;34m'cluster_dbs'\u001b[0m\u001b[1;33m]\u001b[0m\u001b[1;33m.\u001b[0m\u001b[0mvalue_counts\u001b[0m\u001b[1;33m(\u001b[0m\u001b[0mnormalize\u001b[0m\u001b[1;33m=\u001b[0m\u001b[1;32mTrue\u001b[0m\u001b[1;33m)\u001b[0m\u001b[1;33m\u001b[0m\u001b[1;33m\u001b[0m\u001b[0m\n\u001b[1;32m----> 8\u001b[1;33m \u001b[0mCenters_mean_dbs\u001b[0m\u001b[1;33m=\u001b[0m\u001b[0mCenters_mean_dbs\u001b[0m\u001b[1;33m.\u001b[0m\u001b[0mdrop\u001b[0m\u001b[1;33m(\u001b[0m\u001b[1;33m[\u001b[0m\u001b[1;34m'cluster'\u001b[0m\u001b[1;33m,\u001b[0m\u001b[1;34m'S_S'\u001b[0m\u001b[1;33m,\u001b[0m\u001b[1;34m'cluster_hc'\u001b[0m\u001b[1;33m,\u001b[0m\u001b[1;34m'S_S_hc'\u001b[0m\u001b[1;33m]\u001b[0m\u001b[1;33m,\u001b[0m \u001b[0maxis\u001b[0m\u001b[1;33m=\u001b[0m\u001b[1;36m1\u001b[0m\u001b[1;33m)\u001b[0m\u001b[1;33m\u001b[0m\u001b[1;33m\u001b[0m\u001b[0m\n\u001b[0m\u001b[0;32m      9\u001b[0m \u001b[0mCenters_mean_dbs\u001b[0m\u001b[1;33m\u001b[0m\u001b[1;33m\u001b[0m\u001b[0m\n",
      "\u001b[1;32mD:\\Programas\\Anaconda\\lib\\site-packages\\pandas\\util\\_decorators.py\u001b[0m in \u001b[0;36mwrapper\u001b[1;34m(*args, **kwargs)\u001b[0m\n\u001b[0;32m    309\u001b[0m                     \u001b[0mstacklevel\u001b[0m\u001b[1;33m=\u001b[0m\u001b[0mstacklevel\u001b[0m\u001b[1;33m,\u001b[0m\u001b[1;33m\u001b[0m\u001b[1;33m\u001b[0m\u001b[0m\n\u001b[0;32m    310\u001b[0m                 )\n\u001b[1;32m--> 311\u001b[1;33m             \u001b[1;32mreturn\u001b[0m \u001b[0mfunc\u001b[0m\u001b[1;33m(\u001b[0m\u001b[1;33m*\u001b[0m\u001b[0margs\u001b[0m\u001b[1;33m,\u001b[0m \u001b[1;33m**\u001b[0m\u001b[0mkwargs\u001b[0m\u001b[1;33m)\u001b[0m\u001b[1;33m\u001b[0m\u001b[1;33m\u001b[0m\u001b[0m\n\u001b[0m\u001b[0;32m    312\u001b[0m \u001b[1;33m\u001b[0m\u001b[0m\n\u001b[0;32m    313\u001b[0m         \u001b[1;32mreturn\u001b[0m \u001b[0mwrapper\u001b[0m\u001b[1;33m\u001b[0m\u001b[1;33m\u001b[0m\u001b[0m\n",
      "\u001b[1;32mD:\\Programas\\Anaconda\\lib\\site-packages\\pandas\\core\\frame.py\u001b[0m in \u001b[0;36mdrop\u001b[1;34m(self, labels, axis, index, columns, level, inplace, errors)\u001b[0m\n\u001b[0;32m   4904\u001b[0m                 \u001b[0mweight\u001b[0m  \u001b[1;36m1.0\u001b[0m     \u001b[1;36m0.8\u001b[0m\u001b[1;33m\u001b[0m\u001b[1;33m\u001b[0m\u001b[0m\n\u001b[0;32m   4905\u001b[0m         \"\"\"\n\u001b[1;32m-> 4906\u001b[1;33m         return super().drop(\n\u001b[0m\u001b[0;32m   4907\u001b[0m             \u001b[0mlabels\u001b[0m\u001b[1;33m=\u001b[0m\u001b[0mlabels\u001b[0m\u001b[1;33m,\u001b[0m\u001b[1;33m\u001b[0m\u001b[1;33m\u001b[0m\u001b[0m\n\u001b[0;32m   4908\u001b[0m             \u001b[0maxis\u001b[0m\u001b[1;33m=\u001b[0m\u001b[0maxis\u001b[0m\u001b[1;33m,\u001b[0m\u001b[1;33m\u001b[0m\u001b[1;33m\u001b[0m\u001b[0m\n",
      "\u001b[1;32mD:\\Programas\\Anaconda\\lib\\site-packages\\pandas\\core\\generic.py\u001b[0m in \u001b[0;36mdrop\u001b[1;34m(self, labels, axis, index, columns, level, inplace, errors)\u001b[0m\n\u001b[0;32m   4148\u001b[0m         \u001b[1;32mfor\u001b[0m \u001b[0maxis\u001b[0m\u001b[1;33m,\u001b[0m \u001b[0mlabels\u001b[0m \u001b[1;32min\u001b[0m \u001b[0maxes\u001b[0m\u001b[1;33m.\u001b[0m\u001b[0mitems\u001b[0m\u001b[1;33m(\u001b[0m\u001b[1;33m)\u001b[0m\u001b[1;33m:\u001b[0m\u001b[1;33m\u001b[0m\u001b[1;33m\u001b[0m\u001b[0m\n\u001b[0;32m   4149\u001b[0m             \u001b[1;32mif\u001b[0m \u001b[0mlabels\u001b[0m \u001b[1;32mis\u001b[0m \u001b[1;32mnot\u001b[0m \u001b[1;32mNone\u001b[0m\u001b[1;33m:\u001b[0m\u001b[1;33m\u001b[0m\u001b[1;33m\u001b[0m\u001b[0m\n\u001b[1;32m-> 4150\u001b[1;33m                 \u001b[0mobj\u001b[0m \u001b[1;33m=\u001b[0m \u001b[0mobj\u001b[0m\u001b[1;33m.\u001b[0m\u001b[0m_drop_axis\u001b[0m\u001b[1;33m(\u001b[0m\u001b[0mlabels\u001b[0m\u001b[1;33m,\u001b[0m \u001b[0maxis\u001b[0m\u001b[1;33m,\u001b[0m \u001b[0mlevel\u001b[0m\u001b[1;33m=\u001b[0m\u001b[0mlevel\u001b[0m\u001b[1;33m,\u001b[0m \u001b[0merrors\u001b[0m\u001b[1;33m=\u001b[0m\u001b[0merrors\u001b[0m\u001b[1;33m)\u001b[0m\u001b[1;33m\u001b[0m\u001b[1;33m\u001b[0m\u001b[0m\n\u001b[0m\u001b[0;32m   4151\u001b[0m \u001b[1;33m\u001b[0m\u001b[0m\n\u001b[0;32m   4152\u001b[0m         \u001b[1;32mif\u001b[0m \u001b[0minplace\u001b[0m\u001b[1;33m:\u001b[0m\u001b[1;33m\u001b[0m\u001b[1;33m\u001b[0m\u001b[0m\n",
      "\u001b[1;32mD:\\Programas\\Anaconda\\lib\\site-packages\\pandas\\core\\generic.py\u001b[0m in \u001b[0;36m_drop_axis\u001b[1;34m(self, labels, axis, level, errors)\u001b[0m\n\u001b[0;32m   4183\u001b[0m                 \u001b[0mnew_axis\u001b[0m \u001b[1;33m=\u001b[0m \u001b[0maxis\u001b[0m\u001b[1;33m.\u001b[0m\u001b[0mdrop\u001b[0m\u001b[1;33m(\u001b[0m\u001b[0mlabels\u001b[0m\u001b[1;33m,\u001b[0m \u001b[0mlevel\u001b[0m\u001b[1;33m=\u001b[0m\u001b[0mlevel\u001b[0m\u001b[1;33m,\u001b[0m \u001b[0merrors\u001b[0m\u001b[1;33m=\u001b[0m\u001b[0merrors\u001b[0m\u001b[1;33m)\u001b[0m\u001b[1;33m\u001b[0m\u001b[1;33m\u001b[0m\u001b[0m\n\u001b[0;32m   4184\u001b[0m             \u001b[1;32melse\u001b[0m\u001b[1;33m:\u001b[0m\u001b[1;33m\u001b[0m\u001b[1;33m\u001b[0m\u001b[0m\n\u001b[1;32m-> 4185\u001b[1;33m                 \u001b[0mnew_axis\u001b[0m \u001b[1;33m=\u001b[0m \u001b[0maxis\u001b[0m\u001b[1;33m.\u001b[0m\u001b[0mdrop\u001b[0m\u001b[1;33m(\u001b[0m\u001b[0mlabels\u001b[0m\u001b[1;33m,\u001b[0m \u001b[0merrors\u001b[0m\u001b[1;33m=\u001b[0m\u001b[0merrors\u001b[0m\u001b[1;33m)\u001b[0m\u001b[1;33m\u001b[0m\u001b[1;33m\u001b[0m\u001b[0m\n\u001b[0m\u001b[0;32m   4186\u001b[0m             \u001b[0mresult\u001b[0m \u001b[1;33m=\u001b[0m \u001b[0mself\u001b[0m\u001b[1;33m.\u001b[0m\u001b[0mreindex\u001b[0m\u001b[1;33m(\u001b[0m\u001b[1;33m**\u001b[0m\u001b[1;33m{\u001b[0m\u001b[0maxis_name\u001b[0m\u001b[1;33m:\u001b[0m \u001b[0mnew_axis\u001b[0m\u001b[1;33m}\u001b[0m\u001b[1;33m)\u001b[0m\u001b[1;33m\u001b[0m\u001b[1;33m\u001b[0m\u001b[0m\n\u001b[0;32m   4187\u001b[0m \u001b[1;33m\u001b[0m\u001b[0m\n",
      "\u001b[1;32mD:\\Programas\\Anaconda\\lib\\site-packages\\pandas\\core\\indexes\\base.py\u001b[0m in \u001b[0;36mdrop\u001b[1;34m(self, labels, errors)\u001b[0m\n\u001b[0;32m   6015\u001b[0m         \u001b[1;32mif\u001b[0m \u001b[0mmask\u001b[0m\u001b[1;33m.\u001b[0m\u001b[0many\u001b[0m\u001b[1;33m(\u001b[0m\u001b[1;33m)\u001b[0m\u001b[1;33m:\u001b[0m\u001b[1;33m\u001b[0m\u001b[1;33m\u001b[0m\u001b[0m\n\u001b[0;32m   6016\u001b[0m             \u001b[1;32mif\u001b[0m \u001b[0merrors\u001b[0m \u001b[1;33m!=\u001b[0m \u001b[1;34m\"ignore\"\u001b[0m\u001b[1;33m:\u001b[0m\u001b[1;33m\u001b[0m\u001b[1;33m\u001b[0m\u001b[0m\n\u001b[1;32m-> 6017\u001b[1;33m                 \u001b[1;32mraise\u001b[0m \u001b[0mKeyError\u001b[0m\u001b[1;33m(\u001b[0m\u001b[1;34mf\"{labels[mask]} not found in axis\"\u001b[0m\u001b[1;33m)\u001b[0m\u001b[1;33m\u001b[0m\u001b[1;33m\u001b[0m\u001b[0m\n\u001b[0m\u001b[0;32m   6018\u001b[0m             \u001b[0mindexer\u001b[0m \u001b[1;33m=\u001b[0m \u001b[0mindexer\u001b[0m\u001b[1;33m[\u001b[0m\u001b[1;33m~\u001b[0m\u001b[0mmask\u001b[0m\u001b[1;33m]\u001b[0m\u001b[1;33m\u001b[0m\u001b[1;33m\u001b[0m\u001b[0m\n\u001b[0;32m   6019\u001b[0m         \u001b[1;32mreturn\u001b[0m \u001b[0mself\u001b[0m\u001b[1;33m.\u001b[0m\u001b[0mdelete\u001b[0m\u001b[1;33m(\u001b[0m\u001b[0mindexer\u001b[0m\u001b[1;33m)\u001b[0m\u001b[1;33m\u001b[0m\u001b[1;33m\u001b[0m\u001b[0m\n",
      "\u001b[1;31mKeyError\u001b[0m: \"['cluster_hc' 'S_S_hc'] not found in axis\""
     ]
    }
   ],
   "source": [
    "data1['cluster_dbs']=y_dbs\n",
    "data_sd['cluster_dbs']=y_dbs\n",
    "data1['S_S_dbs'] = silhouette_samples(data_sd,data_sd['cluster_dbs'])\n",
    "silhouette_score_mean_hc = silhouette_score(data_sd,data_sd['cluster_dbs'])\n",
    "Centers_mean_dbs=data1.groupby('cluster_dbs').mean()\n",
    "Centers_mean_dbs['freq_dbs']=data1['cluster_dbs'].value_counts()\n",
    "Centers_mean_dbs['freq_r_dbs']=data1['cluster_dbs'].value_counts(normalize=True)\n",
    "Centers_mean_dbs=Centers_mean_dbs.drop(['cluster','S_S','cluster_hc','S_S_hc'], axis=1)\n",
    "Centers_mean_dbs"
   ]
  },
  {
   "cell_type": "code",
   "execution_count": null,
   "id": "04ffcac0-4315-4532-a645-e23b6882894b",
   "metadata": {},
   "outputs": [],
   "source": []
  }
 ],
 "metadata": {
  "kernelspec": {
   "display_name": "Python 3 (ipykernel)",
   "language": "python",
   "name": "python3"
  },
  "language_info": {
   "codemirror_mode": {
    "name": "ipython",
    "version": 3
   },
   "file_extension": ".py",
   "mimetype": "text/x-python",
   "name": "python",
   "nbconvert_exporter": "python",
   "pygments_lexer": "ipython3",
   "version": "3.9.7"
  },
  "toc": {
   "base_numbering": 1,
   "nav_menu": {},
   "number_sections": false,
   "sideBar": true,
   "skip_h1_title": false,
   "title_cell": "Tabla de Contenido",
   "title_sidebar": "Contenido",
   "toc_cell": false,
   "toc_position": {
    "height": "calc(100% - 180px)",
    "left": "10px",
    "top": "150px",
    "width": "206px"
   },
   "toc_section_display": true,
   "toc_window_display": true
  }
 },
 "nbformat": 4,
 "nbformat_minor": 5
}
