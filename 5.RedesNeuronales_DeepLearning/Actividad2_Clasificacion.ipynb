{
 "cells": [
  {
   "cell_type": "markdown",
   "id": "7f700766-d705-4213-8efa-1690bd20f93c",
   "metadata": {},
   "source": [
    "## Actividad 2: Comparación de algoritmos (Clasificación)"
   ]
  },
  {
   "cell_type": "markdown",
   "id": "7b543606-18f4-463f-9b78-e6cccc2edfea",
   "metadata": {},
   "source": [
    "### Importación de librerías\n",
    "Importamos las librerías que se van a usar a lo largo del ejercicio"
   ]
  },
  {
   "cell_type": "code",
   "execution_count": null,
   "id": "0051ff2c-7afc-4eff-bb19-68a2afb3acf8",
   "metadata": {},
   "outputs": [],
   "source": [
    "# Manejo de datos\n",
    "from pandas import read_csv,DataFrame\n",
    "import numpy as np\n",
    "from sklearn.preprocessing import MinMaxScaler\n",
    "from sklearn.preprocessing import LabelEncoder\n",
    "\n",
    "#Gráficos\n",
    "import matplotlib.pyplot as plt\n",
    "import seaborn as sns\n",
    "from pandas.plotting import scatter_matrix\n",
    "\n",
    "#train-test\n",
    "from sklearn.model_selection import train_test_split\n",
    "from sklearn import model_selection\n",
    "\n",
    "#métricas\n",
    "from sklearn.metrics import classification_report\n",
    "from sklearn.metrics import confusion_matrix\n",
    "from sklearn.metrics import accuracy_score\n",
    "\n",
    "#Algoritmos\n",
    "from sklearn.tree import DecisionTreeClassifier\n",
    "from sklearn.ensemble import RandomForestClassifier\n",
    "import tensorflow as tf\n",
    "from tensorflow import keras\n",
    "from tensorflow.keras import layers"
   ]
  },
  {
   "cell_type": "markdown",
   "id": "a70b65d3-c9e7-4894-b6e2-39fc4db2ab50",
   "metadata": {},
   "source": [
    "### Descripción del dataset\n",
    "'Para este ejercicio se usará el dataset **Prediction of music genre** extraído desde la página de Kaggle. El dataset cuenta con **más de 50 000 registros** de canciones y el objetivo es poder clasificar a qué genero musical pertenece"
   ]
  },
  {
   "cell_type": "code",
   "execution_count": null,
   "id": "e476b222-922f-49f0-99b6-e129177969c9",
   "metadata": {},
   "outputs": [],
   "source": [
    "#Leemos archivo desde una url de Kaggle\n",
    "url_kaggle = (r'https://raw.githubusercontent.com/gad1989/TIA_actividad2/master/music_genre.csv')\n",
    "datos = read_csv(url_kaggle,delimiter=\",\")"
   ]
  },
  {
   "cell_type": "markdown",
   "id": "82f6a2a5-8e02-493e-9743-16dc1d43ae77",
   "metadata": {},
   "source": [
    "### Caracteristicas del dataset\n",
    "Realizamos una descripcion del dataset. Primero damos un primer vistazo a algunos registros"
   ]
  },
  {
   "cell_type": "code",
   "execution_count": null,
   "id": "a62f6082-b805-4774-9ad4-f0ea9efc7e55",
   "metadata": {},
   "outputs": [],
   "source": [
    "datos.head(5)"
   ]
  },
  {
   "cell_type": "markdown",
   "id": "8127fc4e-c963-4af6-9513-158aca90cb00",
   "metadata": {},
   "source": [
    "Con la función shape, comprobamos que cuenta con **50005 registros** y **18 atributos (incluyendo la clase)**"
   ]
  },
  {
   "cell_type": "code",
   "execution_count": null,
   "id": "ea986670-7cac-4b37-b25a-ac7a22b604b6",
   "metadata": {},
   "outputs": [],
   "source": [
    "datos.shape"
   ]
  },
  {
   "cell_type": "markdown",
   "id": "c2c91d78-346c-42c1-aaef-a3a733eb0101",
   "metadata": {},
   "source": [
    "Visualizamos los tipos de datos de cada variable, vemos que la mayoría son atributos numéricos"
   ]
  },
  {
   "cell_type": "code",
   "execution_count": null,
   "id": "96b42eb9-255e-4c93-acff-b2f9e3868656",
   "metadata": {},
   "outputs": [],
   "source": [
    "datos.dtypes"
   ]
  },
  {
   "cell_type": "markdown",
   "id": "9d5c86eb-b822-4334-bbf3-e6c55dc36234",
   "metadata": {},
   "source": [
    "Calculamos las principales estadísticas de los atributos numéricos"
   ]
  },
  {
   "cell_type": "code",
   "execution_count": null,
   "id": "557c4298-93f2-4e2c-a904-b3af413ee78f",
   "metadata": {},
   "outputs": [],
   "source": [
    "datos.describe()"
   ]
  },
  {
   "cell_type": "markdown",
   "id": "db48f17f-4323-4b8f-8f93-ba40fadf3ff8",
   "metadata": {},
   "source": [
    "Revisamos los valores nulos en cada atributos, por lo visto hay 5 registros completamente vacíos los cuales deberán ser eliminados"
   ]
  },
  {
   "cell_type": "code",
   "execution_count": null,
   "id": "d090cf71-eb81-4e6f-8cd3-d596475ad3b2",
   "metadata": {},
   "outputs": [],
   "source": [
    "datos.isna().sum()"
   ]
  },
  {
   "cell_type": "markdown",
   "id": "0b0bf423-e1ce-4958-a31d-8c533bb5bb3e",
   "metadata": {},
   "source": [
    "Observamos la distribución de la clase, la cual se encuentra perfectamente balanceada"
   ]
  },
  {
   "cell_type": "code",
   "execution_count": null,
   "id": "b597a47c-829f-4279-ac4b-cdd294b19598",
   "metadata": {},
   "outputs": [],
   "source": [
    "print(datos.groupby(\"music_genre\").size())"
   ]
  },
  {
   "cell_type": "markdown",
   "id": "01f32120-3e06-42f0-9422-b7cfb88d9e1c",
   "metadata": {},
   "source": [
    "Visualizamos las distribuciones de las variables continuas"
   ]
  },
  {
   "cell_type": "code",
   "execution_count": null,
   "id": "b80b3231-157c-44d9-8ff4-a6c8e2552231",
   "metadata": {},
   "outputs": [],
   "source": [
    "datos.hist(figsize=(16, 12))\n",
    "plt.show()"
   ]
  },
  {
   "cell_type": "markdown",
   "id": "4d34aabc-38d7-4ae1-b851-e44b16ef74dd",
   "metadata": {},
   "source": [
    "Para el caso de las variables categóricas, mostramos la frecuencia de cada uno de sus valores"
   ]
  },
  {
   "cell_type": "code",
   "execution_count": null,
   "id": "30395445-25fd-434c-9b2f-55456ad8b9f9",
   "metadata": {},
   "outputs": [],
   "source": [
    "datos.groupby(\"key\").size()"
   ]
  },
  {
   "cell_type": "code",
   "execution_count": null,
   "id": "b5b53442-bd90-452f-8fe1-68942e8e2533",
   "metadata": {},
   "outputs": [],
   "source": [
    "datos.groupby(\"mode\").size()"
   ]
  },
  {
   "cell_type": "code",
   "execution_count": null,
   "id": "6dde662d-85a1-4449-821d-9824fcb4aef2",
   "metadata": {},
   "outputs": [],
   "source": [
    "datos.groupby(\"tempo\").size()"
   ]
  },
  {
   "cell_type": "markdown",
   "id": "01eba3cb-353d-42f2-ad84-43b69332a629",
   "metadata": {},
   "source": [
    "### Preparación de datos"
   ]
  },
  {
   "cell_type": "markdown",
   "id": "429b224b-a42f-45cf-a5fe-adb93a29b571",
   "metadata": {},
   "source": [
    "Iniciamos con la limpieza de datos: se eliminan los 5 registros con valores nulos identificados en el paso anterior y también se eliminan columnas que claramente no aportarán en la clasificación **(\"instance_id\",\"artist_name\",\"track_name\",\"obtained_date\")**"
   ]
  },
  {
   "cell_type": "code",
   "execution_count": null,
   "id": "d3a6d062-bc03-4ed4-a2ae-67c9044074e6",
   "metadata": {},
   "outputs": [],
   "source": [
    "datos = datos.dropna()\n",
    "datos = datos.drop([\"instance_id\",\"artist_name\",\"track_name\",\"obtained_date\"],axis=1)"
   ]
  },
  {
   "cell_type": "markdown",
   "id": "089f0a45-5a78-4404-9f09-06f824cdf887",
   "metadata": {},
   "source": [
    "La variable **tempo** está mal catalogada como categórica ya que en realidad es numérica solo que existen un 10% de registros con valores faltantes que se han registrado como \"?\". Procedemos a imputar estos valores con el promedio del resto de registros y convertir la variable a numérica."
   ]
  },
  {
   "cell_type": "code",
   "execution_count": null,
   "id": "1a1f717a-b7a4-4ae8-811c-bb18230466da",
   "metadata": {},
   "outputs": [],
   "source": [
    "#convierte valor \"?\" a nulo y luego castea la variable a float\n",
    "datos.loc[datos['tempo'] == '?', 'tempo'] = np.nan\n",
    "datos = datos.astype({'tempo': np.float64})"
   ]
  },
  {
   "cell_type": "code",
   "execution_count": null,
   "id": "0efda245-08fe-45ab-9526-9aef477f5030",
   "metadata": {},
   "outputs": [],
   "source": [
    "prom_tempo = datos['tempo'].mean()\n",
    "datos['tempo'] = datos['tempo'].fillna(prom_tempo)"
   ]
  },
  {
   "cell_type": "markdown",
   "id": "483c4c1a-1532-490d-8ed0-8ee492056acd",
   "metadata": {},
   "source": [
    "Convertimos las variables **key y mode** a numéricas usando LabelEncoder"
   ]
  },
  {
   "cell_type": "code",
   "execution_count": null,
   "id": "f82a60b0-50c4-47d2-8c0d-c495f6dab29a",
   "metadata": {},
   "outputs": [],
   "source": [
    "labelencoder = LabelEncoder()\n",
    "datos['mode'] = labelencoder.fit_transform(datos['mode'])\n",
    "datos['key'] = labelencoder.fit_transform(datos['key'])\n"
   ]
  },
  {
   "cell_type": "markdown",
   "id": "5bd4dcf0-b6a3-4363-a4ff-e488a394a5cb",
   "metadata": {},
   "source": [
    "Codificamos la clase para poder utilizar el algoritmo de redes neuronales en el siguiente paso"
   ]
  },
  {
   "cell_type": "code",
   "execution_count": null,
   "id": "6ba1db35-bdc4-41e7-bd76-c5539d88dcb8",
   "metadata": {},
   "outputs": [],
   "source": [
    "datos['music_genre'] = labelencoder.fit_transform(datos['music_genre'])"
   ]
  },
  {
   "cell_type": "markdown",
   "id": "fcc24e0f-c822-49f5-ac67-d26dc2852188",
   "metadata": {},
   "source": [
    "Visualizamos el dataset convertido"
   ]
  },
  {
   "cell_type": "code",
   "execution_count": null,
   "id": "57ad627f-23b3-49d8-b351-ec00dfdf2ae0",
   "metadata": {},
   "outputs": [],
   "source": [
    "datos.head(5)"
   ]
  },
  {
   "cell_type": "markdown",
   "id": "9b9ae261-064d-48ee-a59c-5316f093ffe9",
   "metadata": {},
   "source": [
    "Generamos 2 datasets: 1 con los atributos y otro unicamente con la clase"
   ]
  },
  {
   "cell_type": "code",
   "execution_count": null,
   "id": "ba8e85fd-f990-401d-a4f2-2bced02a080a",
   "metadata": {},
   "outputs": [],
   "source": [
    "X = datos.drop(\"music_genre\",axis=1)\n",
    "y = datos[\"music_genre\"]"
   ]
  },
  {
   "cell_type": "markdown",
   "id": "bdf73ed5-a2d8-468e-bfdf-42b3556f47c2",
   "metadata": {},
   "source": [
    "Dividimos el dataset de los atributos (\"X\") en uno de entrenamiento y otro de test"
   ]
  },
  {
   "cell_type": "code",
   "execution_count": null,
   "id": "01c3a0bc-f186-40ad-bc24-58b68942e747",
   "metadata": {},
   "outputs": [],
   "source": [
    "porcentaje = 0.2\n",
    "x_train,x_test,y_train,y_test = train_test_split(X,y,test_size=porcentaje,random_state=1)"
   ]
  },
  {
   "cell_type": "markdown",
   "id": "2eb43474-565f-4e07-9d29-7fae7d8c5cc7",
   "metadata": {},
   "source": [
    "Normalizamos el dataset Para ello usamos la función **min_max_scaler** que nos devuelve valores entre 0 y 1"
   ]
  },
  {
   "cell_type": "code",
   "execution_count": null,
   "id": "f2592044-a63f-4815-adee-a7fd8f5603b8",
   "metadata": {},
   "outputs": [],
   "source": [
    "min_max_scaler = MinMaxScaler()\n",
    "x_train_normalized = min_max_scaler.fit_transform(x_train)\n",
    "x_test_normalized = min_max_scaler.fit_transform(x_test)"
   ]
  },
  {
   "cell_type": "markdown",
   "id": "f9704413-46d2-48be-9d08-e1fc3d722c14",
   "metadata": {},
   "source": [
    "### Entrenamiento y validación de modelos\n",
    "#### Modelo 1: Random Forest"
   ]
  },
  {
   "cell_type": "markdown",
   "id": "13546de8-573c-4713-91cd-12c32dceead8",
   "metadata": {},
   "source": [
    "Definimos los valores de los hiperparámetros y construimos el modelo"
   ]
  },
  {
   "cell_type": "code",
   "execution_count": null,
   "id": "0cef8e41-765e-4a82-b60c-5e37838e3dbb",
   "metadata": {},
   "outputs": [],
   "source": [
    "n_estimators = 150\n",
    "criterion = \"gini\"\n",
    "max_depth = 10"
   ]
  },
  {
   "cell_type": "code",
   "execution_count": null,
   "id": "239745de-2971-4246-81cc-8c5666a31318",
   "metadata": {},
   "outputs": [],
   "source": [
    "model = RandomForestClassifier(n_estimators = n_estimators, criterion=criterion,random_state=1,max_depth=max_depth)"
   ]
  },
  {
   "cell_type": "markdown",
   "id": "03cdb3cf-3acc-4b42-be4d-3cbd2ea5c478",
   "metadata": {},
   "source": [
    "Se entrena el modelo"
   ]
  },
  {
   "cell_type": "code",
   "execution_count": null,
   "id": "70ee046e-503f-4a78-9969-36f1fcc7abd4",
   "metadata": {},
   "outputs": [],
   "source": [
    "model.fit(x_train_normalized, y_train)"
   ]
  },
  {
   "cell_type": "markdown",
   "id": "d820ac96-ce71-47ea-bae9-da272dc5a874",
   "metadata": {},
   "source": [
    "Validamos el modelo usando los datos de test"
   ]
  },
  {
   "cell_type": "code",
   "execution_count": null,
   "id": "c90f7d45-66a8-40c9-a516-e9b95a00bdd5",
   "metadata": {},
   "outputs": [],
   "source": [
    "y_predRF=model.predict(x_test_normalized)"
   ]
  },
  {
   "cell_type": "markdown",
   "id": "581788bb-796d-42ff-ba22-266914aec75f",
   "metadata": {},
   "source": [
    "Finalmente, se calcula el **accuracy** del modelo"
   ]
  },
  {
   "cell_type": "code",
   "execution_count": null,
   "id": "6d901c1c",
   "metadata": {},
   "outputs": [],
   "source": [
    "print(\"ACCURACY RANDOM FOREST:\")\n",
    "accuracy_score(y_test, y_predRF)                               "
   ]
  },
  {
   "cell_type": "markdown",
   "id": "afbdea89-0ca8-41ec-bea5-85811ae7099b",
   "metadata": {},
   "source": [
    "Se calculan otras métricas para hacer el análisis por clase y se dibuja la matriz de confusión"
   ]
  },
  {
   "cell_type": "code",
   "execution_count": null,
   "id": "c1c4d621-428c-4966-9e8e-77b4d3d15e63",
   "metadata": {},
   "outputs": [],
   "source": [
    "print(classification_report(y_test, y_predRF))"
   ]
  },
  {
   "cell_type": "code",
   "execution_count": null,
   "id": "80c672a3-5d3f-400f-9d60-7b5f6e0f1a21",
   "metadata": {},
   "outputs": [],
   "source": [
    "class_labels = [\"Alternative\",\"Anime\",\"Blues\",\"Classical\",\"Country\",\"Electronic\",\"Hip-Hop\",\"Jazz\",\"Rap\",\"Rock\"]          \n",
    "plt.figure()\n",
    "ax= plt.subplot()\n",
    "sns.heatmap(confusion_matrix(y_test, y_predRF), annot=True, fmt='g', ax=ax, cmap=\"Blues\")\n",
    "ax.set_xlabel('Predicted labels');ax.set_ylabel('True labels')\n",
    "ax.set_title('Matriz de confusión para Algoritmo Random Forest')\n",
    "ax.xaxis.set_ticklabels(class_labels,rotation=90); ax.yaxis.set_ticklabels(class_labels,rotation=0)"
   ]
  },
  {
   "cell_type": "markdown",
   "id": "1dcdc550-05de-4808-b566-055c9f74521f",
   "metadata": {
    "tags": []
   },
   "source": [
    "#### Modelo 2: Redes Neuronales"
   ]
  },
  {
   "cell_type": "markdown",
   "id": "c3a70d1f-410a-4783-87c2-3871b4d88cec",
   "metadata": {},
   "source": [
    "Definimos los valores de los hiperparámetros:"
   ]
  },
  {
   "cell_type": "code",
   "execution_count": null,
   "id": "a44b695e-7be9-4a6a-9780-6e4096408da4",
   "metadata": {},
   "outputs": [],
   "source": [
    "epochs = 50\n",
    "nodos_capa1 = 128\n",
    "nodos_capa2 = 128"
   ]
  },
  {
   "cell_type": "markdown",
   "id": "80056e89-6b6a-47f8-9008-e738612d2a75",
   "metadata": {},
   "source": [
    "Construimos el modelo de redes neuronales con 3 capas profundas y una capa de salida"
   ]
  },
  {
   "cell_type": "code",
   "execution_count": null,
   "id": "195bbbe2-5070-440b-82f8-dd12df48e5bd",
   "metadata": {},
   "outputs": [],
   "source": [
    "# Configura semilla aleatoria\n",
    "tf.random.set_seed(1)\n",
    "modelRN = keras.Sequential([\n",
    "    keras.layers.Dense(nodos_capa1,input_shape=[13],activation='relu'),\n",
    "    keras.layers.Dense(nodos_capa2,activation='relu'),\n",
    "    keras.layers.Dense(10, activation='softmax')\n",
    "])"
   ]
  },
  {
   "cell_type": "code",
   "execution_count": null,
   "id": "e8ecdc41-de4c-4299-b437-6ca74d5a4976",
   "metadata": {},
   "outputs": [],
   "source": [
    "modelRN.compile(optimizer='adam',\n",
    "              loss='sparse_categorical_crossentropy',\n",
    "              metrics=['accuracy'])"
   ]
  },
  {
   "cell_type": "markdown",
   "id": "c76792e6-751b-401a-9981-a7aa2f92e10e",
   "metadata": {},
   "source": [
    "Realizamos una pequeña validación para comprobar la correcta construcción del modelo"
   ]
  },
  {
   "cell_type": "code",
   "execution_count": null,
   "id": "1c7ea805-5a09-4aff-8656-a5065e1179d3",
   "metadata": {},
   "outputs": [],
   "source": [
    "example_batch = x_train_normalized[:10]\n",
    "example_result = modelRN.predict(example_batch)\n",
    "example_result"
   ]
  },
  {
   "cell_type": "markdown",
   "id": "e4e52c6f-da04-4cc4-98a8-e01663d70aea",
   "metadata": {},
   "source": [
    "Descripción del modelo"
   ]
  },
  {
   "cell_type": "code",
   "execution_count": null,
   "id": "3d2ef835-7a88-4b9d-b2ac-b3a209921325",
   "metadata": {},
   "outputs": [],
   "source": [
    "modelRN.summary()"
   ]
  },
  {
   "cell_type": "markdown",
   "id": "977275a2-8ec4-4b94-a807-198ac025b8be",
   "metadata": {},
   "source": [
    "Entrenamos el modelo y calculamos el **accuracy** correspondiente"
   ]
  },
  {
   "cell_type": "code",
   "execution_count": null,
   "id": "7392f4b9-1b21-41c7-81cc-bc54955553c0",
   "metadata": {},
   "outputs": [],
   "source": [
    "modelRN.fit(x_train_normalized, y_train, epochs=epochs,verbose=0)"
   ]
  },
  {
   "cell_type": "code",
   "execution_count": null,
   "id": "63147623-56cc-4953-bace-1172165e9821",
   "metadata": {},
   "outputs": [],
   "source": [
    "test_loss, test_acc = modelRN.evaluate(x_test_normalized,  y_test, verbose=2)\n",
    "\n",
    "print('\\nTest accuracy:', test_acc)"
   ]
  },
  {
   "cell_type": "markdown",
   "id": "db71c80b-b98f-4347-9163-b5d493c18632",
   "metadata": {},
   "source": [
    "Realizamos las predicciones usando los datos de test"
   ]
  },
  {
   "cell_type": "code",
   "execution_count": null,
   "id": "d8ed844c-a7e8-4381-ba47-2ae1dae67d49",
   "metadata": {},
   "outputs": [],
   "source": [
    "predictions = modelRN.predict(x_test_normalized)"
   ]
  },
  {
   "cell_type": "code",
   "execution_count": null,
   "id": "8aba4fb7-156d-4623-a970-17a8659f774d",
   "metadata": {},
   "outputs": [],
   "source": [
    "#Debido a que devuelve una probabilidad, se recupera el valor de la clase para poder calcular el accuracy y la matriz de confusión\n",
    "ypredRN = predictions.argmax(axis=1)"
   ]
  },
  {
   "cell_type": "code",
   "execution_count": null,
   "id": "29a5386d-a265-4e42-b3de-f10e37376502",
   "metadata": {},
   "outputs": [],
   "source": [
    "print(\"ACCURACY REDES NEURONALES:\")\n",
    "accuracy_score(y_test, ypredRN)"
   ]
  },
  {
   "cell_type": "markdown",
   "id": "236f8a57-534e-4e5f-ab51-3fb2400e74c4",
   "metadata": {},
   "source": [
    "Obtenemos el resto de métricas y dibujamos la matriz de confusión"
   ]
  },
  {
   "cell_type": "code",
   "execution_count": null,
   "id": "b5ee8085-6923-45d0-8322-25edb5920b6e",
   "metadata": {},
   "outputs": [],
   "source": [
    "print(classification_report(y_test, ypredRN))"
   ]
  },
  {
   "cell_type": "code",
   "execution_count": null,
   "id": "a871af23-3287-4c82-9c7c-3f698639e57c",
   "metadata": {},
   "outputs": [],
   "source": [
    "#confusion_matrix\n",
    "plt.figure()\n",
    "ax= plt.subplot()\n",
    "sns.heatmap(confusion_matrix(y_test, ypredRN), annot=True, fmt='g', ax=ax, cmap=\"Blues\")\n",
    "ax.set_xlabel('Predicted labels');ax.set_ylabel('True labels')\n",
    "ax.set_title('Matriz de confusión para algoritmo de redes neuronales')\n",
    "ax.xaxis.set_ticklabels(class_labels,rotation=90); ax.yaxis.set_ticklabels(class_labels,rotation=0)"
   ]
  },
  {
   "cell_type": "code",
   "execution_count": null,
   "id": "cf34fd8e-97b4-448d-a27b-b55031c9f111",
   "metadata": {},
   "outputs": [],
   "source": []
  }
 ],
 "metadata": {
  "kernelspec": {
   "display_name": "Python 3 (ipykernel)",
   "language": "python",
   "name": "python3"
  },
  "language_info": {
   "codemirror_mode": {
    "name": "ipython",
    "version": 3
   },
   "file_extension": ".py",
   "mimetype": "text/x-python",
   "name": "python",
   "nbconvert_exporter": "python",
   "pygments_lexer": "ipython3",
   "version": "3.9.7"
  }
 },
 "nbformat": 4,
 "nbformat_minor": 5
}
