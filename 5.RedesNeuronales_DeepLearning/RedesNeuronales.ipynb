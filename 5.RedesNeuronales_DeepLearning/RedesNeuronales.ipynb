{
 "cells": [
  {
   "cell_type": "markdown",
   "id": "fc5f37c3",
   "metadata": {
    "ExecuteTime": {
     "end_time": "2022-02-01T17:24:50.444246Z",
     "start_time": "2022-02-01T17:24:50.423249Z"
    }
   },
   "source": [
    "<img src=\"https://www.unir.net/wp-content/uploads/2019/11/Unir_2021_logo.svg\" width=\"240\" height=\"240\" align=\"right\"/>"
   ]
  },
  {
   "cell_type": "markdown",
   "id": "42767800",
   "metadata": {},
   "source": [
    "<center><h1> Sesión 7. Modelo de clasificación con ANN-Keras. Con optimización de hiperparámetros y evaluación Cross-Validation.</header1></centre>"
   ]
  },
  {
   "cell_type": "markdown",
   "id": "8b1d905f",
   "metadata": {},
   "source": [
    "Miller Janny Ariza Garzón. \n",
    "Enero de 2022"
   ]
  },
  {
   "cell_type": "markdown",
   "id": "79851e1b",
   "metadata": {},
   "source": [
    "# Caso Clasificación. Credit Risk"
   ]
  },
  {
   "cell_type": "markdown",
   "id": "9c68f498",
   "metadata": {},
   "source": [
    "## Data"
   ]
  },
  {
   "cell_type": "code",
   "execution_count": 1,
   "id": "2478bfe4-ed42-4115-bc6d-bda179db00f1",
   "metadata": {},
   "outputs": [],
   "source": [
    "import pandas as pd\n",
    "from sklearn.preprocessing import LabelEncoder\n",
    "\n",
    "df_credit = pd.read_csv('D:/UNIR/Cursos/Técnicas de Inteligencia Artificial/Clases/Adicionales/Sesion 7. ANN Clasification. CV.  Hyperopt/data_credit')\n",
    "df_credit=df_credit[['grade','emp_length_n', 'dti_n', 'revenue', 'loan_amnt', 'fico_n',\n",
    "       'purpose_car', 'purpose_credit_card', 'purpose_debt_consolidation',\n",
    "       'purpose_educational', 'purpose_home_improvement', 'purpose_house',\n",
    "       'purpose_major_purchase', 'purpose_medical', 'purpose_moving',\n",
    "       'purpose_other', 'purpose_renewable_energy',\n",
    "       'purpose_small_business', 'purpose_vacation', 'purpose_wedding',\n",
    "       'home_ownership_n_MORTGAGE', 'home_ownership_n_OTHER',\n",
    "       'home_ownership_n_OWN', 'home_ownership_n_RENT']]"
   ]
  },
  {
   "cell_type": "code",
   "execution_count": 2,
   "id": "61dd9808-2230-410f-bd6b-597f279abf6d",
   "metadata": {},
   "outputs": [
    {
     "data": {
      "text/html": [
       "<div>\n",
       "<style scoped>\n",
       "    .dataframe tbody tr th:only-of-type {\n",
       "        vertical-align: middle;\n",
       "    }\n",
       "\n",
       "    .dataframe tbody tr th {\n",
       "        vertical-align: top;\n",
       "    }\n",
       "\n",
       "    .dataframe thead th {\n",
       "        text-align: right;\n",
       "    }\n",
       "</style>\n",
       "<table border=\"1\" class=\"dataframe\">\n",
       "  <thead>\n",
       "    <tr style=\"text-align: right;\">\n",
       "      <th></th>\n",
       "      <th>grade</th>\n",
       "      <th>emp_length_n</th>\n",
       "      <th>dti_n</th>\n",
       "      <th>revenue</th>\n",
       "      <th>loan_amnt</th>\n",
       "      <th>fico_n</th>\n",
       "      <th>purpose_car</th>\n",
       "      <th>purpose_credit_card</th>\n",
       "      <th>purpose_debt_consolidation</th>\n",
       "      <th>purpose_educational</th>\n",
       "      <th>...</th>\n",
       "      <th>purpose_moving</th>\n",
       "      <th>purpose_other</th>\n",
       "      <th>purpose_renewable_energy</th>\n",
       "      <th>purpose_small_business</th>\n",
       "      <th>purpose_vacation</th>\n",
       "      <th>purpose_wedding</th>\n",
       "      <th>home_ownership_n_MORTGAGE</th>\n",
       "      <th>home_ownership_n_OTHER</th>\n",
       "      <th>home_ownership_n_OWN</th>\n",
       "      <th>home_ownership_n_RENT</th>\n",
       "    </tr>\n",
       "  </thead>\n",
       "  <tbody>\n",
       "    <tr>\n",
       "      <th>0</th>\n",
       "      <td>D</td>\n",
       "      <td>6</td>\n",
       "      <td>30.44</td>\n",
       "      <td>52000.0</td>\n",
       "      <td>23900</td>\n",
       "      <td>697.0</td>\n",
       "      <td>0</td>\n",
       "      <td>1</td>\n",
       "      <td>0</td>\n",
       "      <td>0</td>\n",
       "      <td>...</td>\n",
       "      <td>0</td>\n",
       "      <td>0</td>\n",
       "      <td>0</td>\n",
       "      <td>0</td>\n",
       "      <td>0</td>\n",
       "      <td>0</td>\n",
       "      <td>0</td>\n",
       "      <td>0</td>\n",
       "      <td>0</td>\n",
       "      <td>1</td>\n",
       "    </tr>\n",
       "    <tr>\n",
       "      <th>1</th>\n",
       "      <td>C</td>\n",
       "      <td>11</td>\n",
       "      <td>11.04</td>\n",
       "      <td>90000.0</td>\n",
       "      <td>10000</td>\n",
       "      <td>677.0</td>\n",
       "      <td>0</td>\n",
       "      <td>0</td>\n",
       "      <td>0</td>\n",
       "      <td>0</td>\n",
       "      <td>...</td>\n",
       "      <td>0</td>\n",
       "      <td>0</td>\n",
       "      <td>0</td>\n",
       "      <td>0</td>\n",
       "      <td>0</td>\n",
       "      <td>0</td>\n",
       "      <td>1</td>\n",
       "      <td>0</td>\n",
       "      <td>0</td>\n",
       "      <td>0</td>\n",
       "    </tr>\n",
       "    <tr>\n",
       "      <th>2</th>\n",
       "      <td>A</td>\n",
       "      <td>7</td>\n",
       "      <td>24.37</td>\n",
       "      <td>53000.0</td>\n",
       "      <td>10000</td>\n",
       "      <td>747.0</td>\n",
       "      <td>0</td>\n",
       "      <td>0</td>\n",
       "      <td>1</td>\n",
       "      <td>0</td>\n",
       "      <td>...</td>\n",
       "      <td>0</td>\n",
       "      <td>0</td>\n",
       "      <td>0</td>\n",
       "      <td>0</td>\n",
       "      <td>0</td>\n",
       "      <td>0</td>\n",
       "      <td>0</td>\n",
       "      <td>0</td>\n",
       "      <td>1</td>\n",
       "      <td>0</td>\n",
       "    </tr>\n",
       "    <tr>\n",
       "      <th>3</th>\n",
       "      <td>D</td>\n",
       "      <td>11</td>\n",
       "      <td>22.08</td>\n",
       "      <td>102000.0</td>\n",
       "      <td>21000</td>\n",
       "      <td>687.0</td>\n",
       "      <td>0</td>\n",
       "      <td>0</td>\n",
       "      <td>1</td>\n",
       "      <td>0</td>\n",
       "      <td>...</td>\n",
       "      <td>0</td>\n",
       "      <td>0</td>\n",
       "      <td>0</td>\n",
       "      <td>0</td>\n",
       "      <td>0</td>\n",
       "      <td>0</td>\n",
       "      <td>0</td>\n",
       "      <td>0</td>\n",
       "      <td>0</td>\n",
       "      <td>1</td>\n",
       "    </tr>\n",
       "    <tr>\n",
       "      <th>4</th>\n",
       "      <td>C</td>\n",
       "      <td>11</td>\n",
       "      <td>3.04</td>\n",
       "      <td>60000.0</td>\n",
       "      <td>3200</td>\n",
       "      <td>717.0</td>\n",
       "      <td>0</td>\n",
       "      <td>0</td>\n",
       "      <td>0</td>\n",
       "      <td>0</td>\n",
       "      <td>...</td>\n",
       "      <td>0</td>\n",
       "      <td>1</td>\n",
       "      <td>0</td>\n",
       "      <td>0</td>\n",
       "      <td>0</td>\n",
       "      <td>0</td>\n",
       "      <td>0</td>\n",
       "      <td>0</td>\n",
       "      <td>1</td>\n",
       "      <td>0</td>\n",
       "    </tr>\n",
       "  </tbody>\n",
       "</table>\n",
       "<p>5 rows × 24 columns</p>\n",
       "</div>"
      ],
      "text/plain": [
       "  grade  emp_length_n  dti_n   revenue  loan_amnt  fico_n  purpose_car  \\\n",
       "0     D             6  30.44   52000.0      23900   697.0            0   \n",
       "1     C            11  11.04   90000.0      10000   677.0            0   \n",
       "2     A             7  24.37   53000.0      10000   747.0            0   \n",
       "3     D            11  22.08  102000.0      21000   687.0            0   \n",
       "4     C            11   3.04   60000.0       3200   717.0            0   \n",
       "\n",
       "   purpose_credit_card  purpose_debt_consolidation  purpose_educational  ...  \\\n",
       "0                    1                           0                    0  ...   \n",
       "1                    0                           0                    0  ...   \n",
       "2                    0                           1                    0  ...   \n",
       "3                    0                           1                    0  ...   \n",
       "4                    0                           0                    0  ...   \n",
       "\n",
       "   purpose_moving  purpose_other  purpose_renewable_energy  \\\n",
       "0               0              0                         0   \n",
       "1               0              0                         0   \n",
       "2               0              0                         0   \n",
       "3               0              0                         0   \n",
       "4               0              1                         0   \n",
       "\n",
       "   purpose_small_business  purpose_vacation  purpose_wedding  \\\n",
       "0                       0                 0                0   \n",
       "1                       0                 0                0   \n",
       "2                       0                 0                0   \n",
       "3                       0                 0                0   \n",
       "4                       0                 0                0   \n",
       "\n",
       "   home_ownership_n_MORTGAGE  home_ownership_n_OTHER  home_ownership_n_OWN  \\\n",
       "0                          0                       0                     0   \n",
       "1                          1                       0                     0   \n",
       "2                          0                       0                     1   \n",
       "3                          0                       0                     0   \n",
       "4                          0                       0                     1   \n",
       "\n",
       "   home_ownership_n_RENT  \n",
       "0                      1  \n",
       "1                      0  \n",
       "2                      0  \n",
       "3                      1  \n",
       "4                      0  \n",
       "\n",
       "[5 rows x 24 columns]"
      ]
     },
     "execution_count": 2,
     "metadata": {},
     "output_type": "execute_result"
    }
   ],
   "source": [
    "df_credit.head()"
   ]
  },
  {
   "cell_type": "code",
   "execution_count": 3,
   "id": "9f702ede-f43a-4944-8a3d-62ead170eda5",
   "metadata": {},
   "outputs": [],
   "source": [
    "from sklearn.preprocessing import LabelEncoder\n",
    "le = LabelEncoder()\n",
    "df_credit['grade'] = le.fit_transform(df_credit['grade'])"
   ]
  },
  {
   "cell_type": "code",
   "execution_count": 4,
   "id": "5f82ac6b-f8a4-4cfe-9d14-2415124f7927",
   "metadata": {},
   "outputs": [
    {
     "data": {
      "text/html": [
       "<div>\n",
       "<style scoped>\n",
       "    .dataframe tbody tr th:only-of-type {\n",
       "        vertical-align: middle;\n",
       "    }\n",
       "\n",
       "    .dataframe tbody tr th {\n",
       "        vertical-align: top;\n",
       "    }\n",
       "\n",
       "    .dataframe thead th {\n",
       "        text-align: right;\n",
       "    }\n",
       "</style>\n",
       "<table border=\"1\" class=\"dataframe\">\n",
       "  <thead>\n",
       "    <tr style=\"text-align: right;\">\n",
       "      <th></th>\n",
       "      <th>grade</th>\n",
       "      <th>emp_length_n</th>\n",
       "      <th>dti_n</th>\n",
       "      <th>revenue</th>\n",
       "      <th>loan_amnt</th>\n",
       "      <th>fico_n</th>\n",
       "      <th>purpose_car</th>\n",
       "      <th>purpose_credit_card</th>\n",
       "      <th>purpose_debt_consolidation</th>\n",
       "      <th>purpose_educational</th>\n",
       "      <th>...</th>\n",
       "      <th>purpose_moving</th>\n",
       "      <th>purpose_other</th>\n",
       "      <th>purpose_renewable_energy</th>\n",
       "      <th>purpose_small_business</th>\n",
       "      <th>purpose_vacation</th>\n",
       "      <th>purpose_wedding</th>\n",
       "      <th>home_ownership_n_MORTGAGE</th>\n",
       "      <th>home_ownership_n_OTHER</th>\n",
       "      <th>home_ownership_n_OWN</th>\n",
       "      <th>home_ownership_n_RENT</th>\n",
       "    </tr>\n",
       "  </thead>\n",
       "  <tbody>\n",
       "    <tr>\n",
       "      <th>0</th>\n",
       "      <td>3</td>\n",
       "      <td>6</td>\n",
       "      <td>30.44</td>\n",
       "      <td>52000.0</td>\n",
       "      <td>23900</td>\n",
       "      <td>697.0</td>\n",
       "      <td>0</td>\n",
       "      <td>1</td>\n",
       "      <td>0</td>\n",
       "      <td>0</td>\n",
       "      <td>...</td>\n",
       "      <td>0</td>\n",
       "      <td>0</td>\n",
       "      <td>0</td>\n",
       "      <td>0</td>\n",
       "      <td>0</td>\n",
       "      <td>0</td>\n",
       "      <td>0</td>\n",
       "      <td>0</td>\n",
       "      <td>0</td>\n",
       "      <td>1</td>\n",
       "    </tr>\n",
       "    <tr>\n",
       "      <th>1</th>\n",
       "      <td>2</td>\n",
       "      <td>11</td>\n",
       "      <td>11.04</td>\n",
       "      <td>90000.0</td>\n",
       "      <td>10000</td>\n",
       "      <td>677.0</td>\n",
       "      <td>0</td>\n",
       "      <td>0</td>\n",
       "      <td>0</td>\n",
       "      <td>0</td>\n",
       "      <td>...</td>\n",
       "      <td>0</td>\n",
       "      <td>0</td>\n",
       "      <td>0</td>\n",
       "      <td>0</td>\n",
       "      <td>0</td>\n",
       "      <td>0</td>\n",
       "      <td>1</td>\n",
       "      <td>0</td>\n",
       "      <td>0</td>\n",
       "      <td>0</td>\n",
       "    </tr>\n",
       "    <tr>\n",
       "      <th>2</th>\n",
       "      <td>0</td>\n",
       "      <td>7</td>\n",
       "      <td>24.37</td>\n",
       "      <td>53000.0</td>\n",
       "      <td>10000</td>\n",
       "      <td>747.0</td>\n",
       "      <td>0</td>\n",
       "      <td>0</td>\n",
       "      <td>1</td>\n",
       "      <td>0</td>\n",
       "      <td>...</td>\n",
       "      <td>0</td>\n",
       "      <td>0</td>\n",
       "      <td>0</td>\n",
       "      <td>0</td>\n",
       "      <td>0</td>\n",
       "      <td>0</td>\n",
       "      <td>0</td>\n",
       "      <td>0</td>\n",
       "      <td>1</td>\n",
       "      <td>0</td>\n",
       "    </tr>\n",
       "    <tr>\n",
       "      <th>3</th>\n",
       "      <td>3</td>\n",
       "      <td>11</td>\n",
       "      <td>22.08</td>\n",
       "      <td>102000.0</td>\n",
       "      <td>21000</td>\n",
       "      <td>687.0</td>\n",
       "      <td>0</td>\n",
       "      <td>0</td>\n",
       "      <td>1</td>\n",
       "      <td>0</td>\n",
       "      <td>...</td>\n",
       "      <td>0</td>\n",
       "      <td>0</td>\n",
       "      <td>0</td>\n",
       "      <td>0</td>\n",
       "      <td>0</td>\n",
       "      <td>0</td>\n",
       "      <td>0</td>\n",
       "      <td>0</td>\n",
       "      <td>0</td>\n",
       "      <td>1</td>\n",
       "    </tr>\n",
       "    <tr>\n",
       "      <th>4</th>\n",
       "      <td>2</td>\n",
       "      <td>11</td>\n",
       "      <td>3.04</td>\n",
       "      <td>60000.0</td>\n",
       "      <td>3200</td>\n",
       "      <td>717.0</td>\n",
       "      <td>0</td>\n",
       "      <td>0</td>\n",
       "      <td>0</td>\n",
       "      <td>0</td>\n",
       "      <td>...</td>\n",
       "      <td>0</td>\n",
       "      <td>1</td>\n",
       "      <td>0</td>\n",
       "      <td>0</td>\n",
       "      <td>0</td>\n",
       "      <td>0</td>\n",
       "      <td>0</td>\n",
       "      <td>0</td>\n",
       "      <td>1</td>\n",
       "      <td>0</td>\n",
       "    </tr>\n",
       "  </tbody>\n",
       "</table>\n",
       "<p>5 rows × 24 columns</p>\n",
       "</div>"
      ],
      "text/plain": [
       "   grade  emp_length_n  dti_n   revenue  loan_amnt  fico_n  purpose_car  \\\n",
       "0      3             6  30.44   52000.0      23900   697.0            0   \n",
       "1      2            11  11.04   90000.0      10000   677.0            0   \n",
       "2      0             7  24.37   53000.0      10000   747.0            0   \n",
       "3      3            11  22.08  102000.0      21000   687.0            0   \n",
       "4      2            11   3.04   60000.0       3200   717.0            0   \n",
       "\n",
       "   purpose_credit_card  purpose_debt_consolidation  purpose_educational  ...  \\\n",
       "0                    1                           0                    0  ...   \n",
       "1                    0                           0                    0  ...   \n",
       "2                    0                           1                    0  ...   \n",
       "3                    0                           1                    0  ...   \n",
       "4                    0                           0                    0  ...   \n",
       "\n",
       "   purpose_moving  purpose_other  purpose_renewable_energy  \\\n",
       "0               0              0                         0   \n",
       "1               0              0                         0   \n",
       "2               0              0                         0   \n",
       "3               0              0                         0   \n",
       "4               0              1                         0   \n",
       "\n",
       "   purpose_small_business  purpose_vacation  purpose_wedding  \\\n",
       "0                       0                 0                0   \n",
       "1                       0                 0                0   \n",
       "2                       0                 0                0   \n",
       "3                       0                 0                0   \n",
       "4                       0                 0                0   \n",
       "\n",
       "   home_ownership_n_MORTGAGE  home_ownership_n_OTHER  home_ownership_n_OWN  \\\n",
       "0                          0                       0                     0   \n",
       "1                          1                       0                     0   \n",
       "2                          0                       0                     1   \n",
       "3                          0                       0                     0   \n",
       "4                          0                       0                     1   \n",
       "\n",
       "   home_ownership_n_RENT  \n",
       "0                      1  \n",
       "1                      0  \n",
       "2                      0  \n",
       "3                      1  \n",
       "4                      0  \n",
       "\n",
       "[5 rows x 24 columns]"
      ]
     },
     "execution_count": 4,
     "metadata": {},
     "output_type": "execute_result"
    }
   ],
   "source": [
    "df_credit.head()"
   ]
  },
  {
   "cell_type": "code",
   "execution_count": 2,
   "id": "436b56e6",
   "metadata": {
    "ExecuteTime": {
     "end_time": "2022-02-02T10:45:08.833837Z",
     "start_time": "2022-02-02T10:45:07.327497Z"
    }
   },
   "outputs": [
    {
     "data": {
      "text/plain": [
       "2    2303\n",
       "1    2196\n",
       "0    1580\n",
       "3    1226\n",
       "4     673\n",
       "5     198\n",
       "6      44\n",
       "Name: grade, dtype: int64"
      ]
     },
     "execution_count": 2,
     "metadata": {},
     "output_type": "execute_result"
    }
   ],
   "source": [
    "import pandas as pd\n",
    "from sklearn.preprocessing import LabelEncoder\n",
    "\n",
    "df_credit = pd.read_csv('D:/UNIR/Cursos/Técnicas de Inteligencia Artificial/Clases/Adicionales/Sesion 7. ANN Clasification. CV.  Hyperopt/data_credit')\n",
    "df_credit=df_credit[['grade','emp_length_n', 'dti_n', 'revenue', 'loan_amnt', 'fico_n',\n",
    "       'purpose_car', 'purpose_credit_card', 'purpose_debt_consolidation',\n",
    "       'purpose_educational', 'purpose_home_improvement', 'purpose_house',\n",
    "       'purpose_major_purchase', 'purpose_medical', 'purpose_moving',\n",
    "       'purpose_other', 'purpose_renewable_energy',\n",
    "       'purpose_small_business', 'purpose_vacation', 'purpose_wedding',\n",
    "       'home_ownership_n_MORTGAGE', 'home_ownership_n_OTHER',\n",
    "       'home_ownership_n_OWN', 'home_ownership_n_RENT']]\n",
    "class_names = ['A', 'B', 'C', 'D', 'E', 'F', 'G']\n",
    "le = LabelEncoder()\n",
    "df_credit['grade'] = le.fit_transform(df_credit['grade'])\n",
    "df_credit['grade'].value_counts(normalize=True, sort=True, ascending=True)\n",
    "df_credit=df_credit.groupby('grade', group_keys=False).apply(lambda x: x.sample(frac=0.05, random_state=123))\n",
    "df_credit['grade'].value_counts(normalize=True, sort=True, ascending=True)\n",
    "df_credit['grade'].value_counts()"
   ]
  },
  {
   "cell_type": "markdown",
   "id": "641082a2",
   "metadata": {},
   "source": [
    "## Partición del Dataset y transformación de las variables de entrada (MinMaxScaler)"
   ]
  },
  {
   "cell_type": "code",
   "execution_count": 3,
   "id": "ea19bcbf",
   "metadata": {
    "ExecuteTime": {
     "end_time": "2022-02-02T11:12:53.894822Z",
     "start_time": "2022-02-02T11:12:53.857785Z"
    }
   },
   "outputs": [],
   "source": [
    "from sklearn.model_selection import train_test_split\n",
    "from sklearn.preprocessing import MinMaxScaler\n",
    "from sklearn.preprocessing import OneHotEncoder\n",
    "\n",
    "\n",
    "X_train, X_test, y_train, y_test = train_test_split(df_credit.drop(labels=['grade', ], axis=1),df_credit['grade'], test_size=0.3, random_state=123, stratify=df_credit['grade'])\n",
    "\n",
    "#X_train_s = MinMaxScaler(X_train)\n",
    "scaler = MinMaxScaler()\n",
    "X_train_s=scaler.fit_transform(X_train)\n",
    "X_test_s=scaler.fit_transform(X_test)"
   ]
  },
  {
   "cell_type": "markdown",
   "id": "9dedccd9",
   "metadata": {},
   "source": [
    "## Arquitectura de la red - Definición y optimización de hiperparámetros. Uso de KerasClassifier class"
   ]
  },
  {
   "cell_type": "code",
   "execution_count": 10,
   "id": "6f7e637d",
   "metadata": {
    "ExecuteTime": {
     "end_time": "2022-02-02T11:13:49.866325Z",
     "start_time": "2022-02-02T11:13:05.775077Z"
    }
   },
   "outputs": [],
   "source": [
    "import warnings\n",
    "warnings.filterwarnings('ignore')\n",
    "import tensorflow as tf\n",
    "import pandas as pd\n",
    "from sklearn.compose import ColumnTransformer\n",
    "from keras.wrappers.scikit_learn import KerasClassifier\n",
    "from sklearn.model_selection import GridSearchCV\n",
    "tf.random.set_seed(123)\n",
    "\n",
    "neurons=5\n",
    "optimizer='adam'\n",
    "\n",
    "def model_ann(neurons=neurons, optimizer=optimizer):\n",
    "  # creating the layers of the ANN\n",
    "  ann = tf.keras.models.Sequential()\n",
    "  ann.add(tf.keras.layers.Dense(units=neurons, input_dim=len(X_train.keys()), activation='relu'))\n",
    "  ann.add(tf.keras.layers.Dense(units=neurons, activation='relu'))\n",
    "  ann.add(tf.keras.layers.Dense(units=7, activation='softmax'))\n",
    "  # Compile model\n",
    "  ann.compile(optimizer=optimizer, loss = 'sparse_categorical_crossentropy', metrics = ['accuracy'])\n",
    "  return ann\n",
    "\n",
    "model=KerasClassifier(build_fn=model_ann, verbose=0)\n",
    "\n",
    "params={'batch_size':[50, 32], \n",
    "        'nb_epoch':[20, 50],\n",
    "        'neurons':[15, 30],\n",
    "       'optimizer':['rmsprop', 'adam'],}\n",
    "\n",
    "'''activations = ['tanh','relu','sigmoid']\n",
    "initializers = ['glorot_uniform', 'normal', 'uniform']'''\n",
    "\n",
    "grid = GridSearchCV(estimator=model, param_grid=params, cv=3)\n",
    "grid_result = grid.fit(X_train_s, y_train, verbose=0)"
   ]
  },
  {
   "cell_type": "markdown",
   "id": "0014cd20",
   "metadata": {},
   "source": [
    "## Optimización de hiperparámetros. Estadísticas. Identificación del mejor conjunto de hiperparámetros"
   ]
  },
  {
   "cell_type": "code",
   "execution_count": 11,
   "id": "00d38621",
   "metadata": {
    "ExecuteTime": {
     "end_time": "2022-02-02T11:14:04.109681Z",
     "start_time": "2022-02-02T11:14:04.098682Z"
    }
   },
   "outputs": [
    {
     "name": "stdout",
     "output_type": "stream",
     "text": [
      "El mejor accuracy: 0.3142161965370178\n",
      "Y la mejor combinación de hiperparámetros: {'batch_size': 32, 'nb_epoch': 50, 'neurons': 30, 'optimizer': 'rmsprop'}\n"
     ]
    }
   ],
   "source": [
    "print(\"El mejor accuracy: {}\\nY la mejor combinación de hiperparámetros: {}\".format(grid_result.best_score_, \n",
    "                             grid_result.best_params_))"
   ]
  },
  {
   "cell_type": "code",
   "execution_count": 12,
   "id": "93028950",
   "metadata": {
    "ExecuteTime": {
     "end_time": "2022-02-02T11:14:11.040618Z",
     "start_time": "2022-02-02T11:14:11.014618Z"
    }
   },
   "outputs": [
    {
     "data": {
      "text/html": [
       "<div>\n",
       "<style scoped>\n",
       "    .dataframe tbody tr th:only-of-type {\n",
       "        vertical-align: middle;\n",
       "    }\n",
       "\n",
       "    .dataframe tbody tr th {\n",
       "        vertical-align: top;\n",
       "    }\n",
       "\n",
       "    .dataframe thead th {\n",
       "        text-align: right;\n",
       "    }\n",
       "</style>\n",
       "<table border=\"1\" class=\"dataframe\">\n",
       "  <thead>\n",
       "    <tr style=\"text-align: right;\">\n",
       "      <th></th>\n",
       "      <th>batch_size</th>\n",
       "      <th>nb_epoch</th>\n",
       "      <th>neurons</th>\n",
       "      <th>optimizer</th>\n",
       "      <th>Mean</th>\n",
       "      <th>Std. Dev</th>\n",
       "    </tr>\n",
       "  </thead>\n",
       "  <tbody>\n",
       "    <tr>\n",
       "      <th>14</th>\n",
       "      <td>32</td>\n",
       "      <td>50</td>\n",
       "      <td>30</td>\n",
       "      <td>rmsprop</td>\n",
       "      <td>0.314216</td>\n",
       "      <td>0.009417</td>\n",
       "    </tr>\n",
       "    <tr>\n",
       "      <th>6</th>\n",
       "      <td>50</td>\n",
       "      <td>50</td>\n",
       "      <td>30</td>\n",
       "      <td>rmsprop</td>\n",
       "      <td>0.308481</td>\n",
       "      <td>0.015386</td>\n",
       "    </tr>\n",
       "    <tr>\n",
       "      <th>10</th>\n",
       "      <td>32</td>\n",
       "      <td>20</td>\n",
       "      <td>30</td>\n",
       "      <td>rmsprop</td>\n",
       "      <td>0.305353</td>\n",
       "      <td>0.005132</td>\n",
       "    </tr>\n",
       "    <tr>\n",
       "      <th>15</th>\n",
       "      <td>32</td>\n",
       "      <td>50</td>\n",
       "      <td>30</td>\n",
       "      <td>adam</td>\n",
       "      <td>0.301008</td>\n",
       "      <td>0.012501</td>\n",
       "    </tr>\n",
       "    <tr>\n",
       "      <th>9</th>\n",
       "      <td>32</td>\n",
       "      <td>20</td>\n",
       "      <td>15</td>\n",
       "      <td>adam</td>\n",
       "      <td>0.295794</td>\n",
       "      <td>0.011282</td>\n",
       "    </tr>\n",
       "  </tbody>\n",
       "</table>\n",
       "</div>"
      ],
      "text/plain": [
       "    batch_size  nb_epoch  neurons optimizer      Mean  Std. Dev\n",
       "14          32        50       30   rmsprop  0.314216  0.009417\n",
       "6           50        50       30   rmsprop  0.308481  0.015386\n",
       "10          32        20       30   rmsprop  0.305353  0.005132\n",
       "15          32        50       30      adam  0.301008  0.012501\n",
       "9           32        20       15      adam  0.295794  0.011282"
      ]
     },
     "execution_count": 12,
     "metadata": {},
     "output_type": "execute_result"
    }
   ],
   "source": [
    "import pandas as pd\n",
    "means = grid_result.cv_results_['mean_test_score']\n",
    "stds = grid_result.cv_results_['std_test_score']\n",
    "params = grid_result.cv_results_['params']\n",
    "d_hhiper=pd.DataFrame(params)\n",
    "d_hhiper['Mean']=means\n",
    "d_hhiper['Std. Dev']=stds\n",
    "d_hhiper.sort_values(by='Mean', ascending=False).head()"
   ]
  },
  {
   "cell_type": "code",
   "execution_count": 13,
   "id": "d817b65e",
   "metadata": {
    "ExecuteTime": {
     "end_time": "2022-02-02T11:14:14.455234Z",
     "start_time": "2022-02-02T11:14:13.973689Z"
    }
   },
   "outputs": [
    {
     "data": {
      "image/png": "[encoded data removed]",
      "text/plain": [
       "<Figure size 720x432 with 4 Axes>"
      ]
     },
     "metadata": {
      "needs_background": "light"
     },
     "output_type": "display_data"
    }
   ],
   "source": [
    "import seaborn as sns\n",
    "import matplotlib.pyplot as plt\n",
    "param_ = ['batch_size','nb_epoch','neurons','optimizer']\n",
    "\n",
    "fig, ax = plt.subplots(2,2,figsize=(10,6), squeeze=False)\n",
    "ax = ax.ravel()\n",
    "for i in range(4):\n",
    "    ax[i].set_title('Distribution of mean accuracy with {}'.format(param_[i]))\n",
    "    sns.boxplot(x=param_[i],y='Mean',data=d_hhiper,ax=ax[i])\n",
    "fig.tight_layout(pad=1.5)"
   ]
  },
  {
   "cell_type": "markdown",
   "id": "6ff29dae",
   "metadata": {},
   "source": [
    "## Arquitectura de red con el \"mejor\" conjunto de hiperparámetros"
   ]
  },
  {
   "cell_type": "code",
   "execution_count": 14,
   "id": "b2ce88a4",
   "metadata": {
    "ExecuteTime": {
     "end_time": "2022-02-02T11:14:38.458372Z",
     "start_time": "2022-02-02T11:14:38.397211Z"
    }
   },
   "outputs": [
    {
     "name": "stdout",
     "output_type": "stream",
     "text": [
      "Model: \"sequential_99\"\n",
      "_________________________________________________________________\n",
      " Layer (type)                Output Shape              Param #   \n",
      "=================================================================\n",
      " dense_297 (Dense)           (None, 30)                720       \n",
      "                                                                 \n",
      " dense_298 (Dense)           (None, 30)                930       \n",
      "                                                                 \n",
      " dense_299 (Dense)           (None, 7)                 217       \n",
      "                                                                 \n",
      "=================================================================\n",
      "Total params: 1,867\n",
      "Trainable params: 1,867\n",
      "Non-trainable params: 0\n",
      "_________________________________________________________________\n"
     ]
    }
   ],
   "source": [
    "model_ann_f= model_ann(neurons=grid_result.best_params_['neurons'], \n",
    "                   optimizer=grid_result.best_params_['optimizer'])\n",
    "model_ann_f.summary()"
   ]
  },
  {
   "cell_type": "markdown",
   "id": "1a17fa7b",
   "metadata": {},
   "source": [
    "## Diferentes algoritmos de modelación vs la \"mejor\" red. Desempeño - Stratified CV"
   ]
  },
  {
   "cell_type": "code",
   "execution_count": 15,
   "id": "a439e302",
   "metadata": {
    "ExecuteTime": {
     "end_time": "2022-02-02T11:15:28.092159Z",
     "start_time": "2022-02-02T11:14:41.756711Z"
    }
   },
   "outputs": [
    {
     "name": "stdout",
     "output_type": "stream",
     "text": [
      "MLR: 0.374175 (0.009245)\n",
      "CART: 0.282064 (0.009669)\n",
      "RF: 0.351758 (0.011525)\n",
      "ANN: 0.379911 (0.012391)\n"
     ]
    },
    {
     "data": {
      "image/png": "[encoded data removed]",
      "text/plain": [
       "<Figure size 432x288 with 1 Axes>"
      ]
     },
     "metadata": {
      "needs_background": "light"
     },
     "output_type": "display_data"
    }
   ],
   "source": [
    "#Comparar modelos\n",
    "import matplotlib.pyplot as plt\n",
    "from sklearn import model_selection\n",
    "from keras.wrappers.scikit_learn import KerasClassifier\n",
    "import pandas\n",
    "import matplotlib.pyplot as plt\n",
    "from sklearn.linear_model import LogisticRegression\n",
    "from sklearn.ensemble import RandomForestClassifier\n",
    "from sklearn.tree import DecisionTreeClassifier\n",
    "tf.random.set_seed(123)\n",
    "\n",
    "neurons=grid_result.best_params_['neurons']\n",
    "optimizer=grid_result.best_params_['optimizer']\n",
    "\n",
    "epochs=grid_result.best_params_['nb_epoch']\n",
    "batch_size=grid_result.best_params_['batch_size']\n",
    "\n",
    "model_ann_f = KerasClassifier(build_fn=model_ann, epochs=epochs, batch_size=batch_size, verbose=0)\n",
    "\n",
    "seed = 221\n",
    "models = []\n",
    "models.append(('MLR', LogisticRegression(random_state = 123)))\n",
    "models.append(('CART', DecisionTreeClassifier(random_state = 123)))\n",
    "models.append(('RF', RandomForestClassifier(random_state = 123)))\n",
    "models.append(('ANN', model_ann_f))\n",
    "# evaluate each model in turn\n",
    "results_c = []\n",
    "names_c = []\n",
    "scoring = 'accuracy'\n",
    "for name, model in models:\n",
    "    kfold = model_selection.StratifiedKFold(n_splits=5, shuffle=True, random_state=seed)\n",
    "    cv_results = model_selection.cross_val_score(model, X_train_s, y_train, cv=kfold, scoring=scoring)\n",
    "    results_c.append(cv_results)\n",
    "    names_c.append(name)\n",
    "    msg = \"%s: %f (%f)\" % (name, cv_results.mean(), cv_results.std())\n",
    "    print(msg)\n",
    "\n",
    "# boxplot algorithm comparison\n",
    "fig = plt.figure()\n",
    "fig.suptitle('CV-ACC Comparación de algoritmos')\n",
    "ax = fig.add_subplot(111)\n",
    "plt.boxplot(results_c)\n",
    "ax.set_xticklabels(names_c)\n",
    "plt.show()"
   ]
  },
  {
   "cell_type": "markdown",
   "id": "283b7802",
   "metadata": {},
   "source": [
    "## Diferentes algoritmos de modelación vs la \"mejor\" red. Desempeño en conjunto de Test"
   ]
  },
  {
   "cell_type": "code",
   "execution_count": 16,
   "id": "b8e5707a",
   "metadata": {
    "ExecuteTime": {
     "end_time": "2022-02-02T11:16:19.864299Z",
     "start_time": "2022-02-02T11:16:10.209995Z"
    }
   },
   "outputs": [
    {
     "name": "stdout",
     "output_type": "stream",
     "text": [
      "MLR: 0.366180\n",
      "CART: 0.289538\n",
      "RF: 0.336577\n",
      "ANN: 0.366586\n"
     ]
    },
    {
     "data": {
      "image/png": "[encoded data removed]",
      "text/plain": [
       "<Figure size 432x288 with 1 Axes>"
      ]
     },
     "metadata": {
      "needs_background": "light"
     },
     "output_type": "display_data"
    }
   ],
   "source": [
    "#Comparar modelos. Entrenamiento con DataTrain completo y evaluación con DataTest.\n",
    "import matplotlib.pyplot as plt\n",
    "from sklearn import model_selection\n",
    "from keras.wrappers.scikit_learn import KerasClassifier\n",
    "import pandas\n",
    "import seaborn as sns\n",
    "from sklearn.linear_model import LogisticRegression\n",
    "from sklearn.ensemble import RandomForestClassifier\n",
    "from sklearn.tree import DecisionTreeClassifier\n",
    "from sklearn.metrics import accuracy_score\n",
    "tf.random.set_seed(123)\n",
    "\n",
    "neurons=grid_result.best_params_['neurons']\n",
    "optimizer=grid_result.best_params_['optimizer']\n",
    "epochs=grid_result.best_params_['nb_epoch']\n",
    "batch_size=grid_result.best_params_['batch_size']\n",
    "\n",
    "model_ann_f = model_ann(neurons, optimizer)\n",
    "model_ann_f.fit(X_train_s, y_train, epochs=epochs, batch_size=batch_size, verbose=0)\n",
    "test_loss, test_acc = model_ann_f.evaluate(X_test_s, y_test, verbose=0)\n",
    "\n",
    "seed = 221\n",
    "models = []\n",
    "models.append(('MLR', LogisticRegression(random_state = 123)))\n",
    "models.append(('CART', DecisionTreeClassifier(random_state = 123)))\n",
    "models.append(('RF', RandomForestClassifier(random_state = 123)))\n",
    "# evaluate each model in turn\n",
    "results_t = []\n",
    "names_t = []\n",
    "scoring = 'accuracy'\n",
    "for name, model in models:\n",
    "    model.fit(X_train_s, y_train)\n",
    "    results_m=accuracy_score(y_test, model.predict(X_test_s))\n",
    "    results_t.append(results_m)\n",
    "    names_t.append(name)\n",
    "    msg = \"%s: %f\" % (name, results_m)\n",
    "    print(msg)\n",
    "print(\"%s: %f\" % ('ANN', test_acc))\n",
    "\n",
    "results_t.append(test_acc)\n",
    "names_t.append('ANN')\n",
    "\n",
    "\n",
    "# boxplot algorithm comparison\n",
    "fig = plt.figure()\n",
    "sns.set_style('darkgrid')\n",
    "fig.suptitle('Comparación de algoritmos en DataTest con ACC')\n",
    "ax = fig.add_subplot(111)\n",
    "sns.barplot(names_t, results_t)\n",
    "ax.bar_label(ax.containers[0], label_type='edge')\n",
    "plt.show()"
   ]
  },
  {
   "cell_type": "code",
   "execution_count": 17,
   "id": "e0c8f491",
   "metadata": {
    "ExecuteTime": {
     "end_time": "2022-02-02T11:17:43.271250Z",
     "start_time": "2022-02-02T11:17:43.127215Z"
    }
   },
   "outputs": [
    {
     "name": "stdout",
     "output_type": "stream",
     "text": [
      "Model: \"sequential_105\"\n",
      "_________________________________________________________________\n",
      " Layer (type)                Output Shape              Param #   \n",
      "=================================================================\n",
      " dense_315 (Dense)           (None, 30)                720       \n",
      "                                                                 \n",
      " dense_316 (Dense)           (None, 30)                930       \n",
      "                                                                 \n",
      " dense_317 (Dense)           (None, 7)                 217       \n",
      "                                                                 \n",
      "=================================================================\n",
      "Total params: 1,867\n",
      "Trainable params: 1,867\n",
      "Non-trainable params: 0\n",
      "_________________________________________________________________\n",
      "0.36658555269241333\n"
     ]
    }
   ],
   "source": [
    "model_ann_f.summary()\n",
    "test_loss, test_acc = model_ann_f.evaluate(X_test_s, y_test, verbose=0)\n",
    "print(test_acc)"
   ]
  },
  {
   "cell_type": "markdown",
   "id": "005cdbcc",
   "metadata": {},
   "source": [
    "## Predicción individual"
   ]
  },
  {
   "cell_type": "code",
   "execution_count": 181,
   "id": "28b9cb38",
   "metadata": {
    "ExecuteTime": {
     "end_time": "2022-02-02T11:17:48.317721Z",
     "start_time": "2022-02-02T11:17:48.223606Z"
    }
   },
   "outputs": [
    {
     "name": "stdout",
     "output_type": "stream",
     "text": [
      "[[4.8024982e-01 3.5762587e-01 1.2115192e-01 3.8293079e-02 2.4904970e-03\n",
      "  1.8811507e-04 6.6513360e-07]]\n"
     ]
    }
   ],
   "source": [
    "# Predicción individual \n",
    "import numpy as np\n",
    "new_register = np.expand_dims(X_test_s[4,:],0)\n",
    "\n",
    "predictions_single = model_ann_f.predict(new_register)\n",
    "print(predictions_single)"
   ]
  },
  {
   "cell_type": "code",
   "execution_count": 182,
   "id": "76ed18bb",
   "metadata": {
    "ExecuteTime": {
     "end_time": "2022-02-02T11:17:51.474260Z",
     "start_time": "2022-02-02T11:17:51.359604Z"
    }
   },
   "outputs": [
    {
     "name": "stdout",
     "output_type": "stream",
     "text": [
      "Predicción de Grade: 0 ; Real Grade: 1\n"
     ]
    },
    {
     "data": {
      "image/png": "[encoded data removed]",
      "text/plain": [
       "<Figure size 432x288 with 1 Axes>"
      ]
     },
     "metadata": {},
     "output_type": "display_data"
    }
   ],
   "source": [
    "class_names = ['A', 'B', 'C', 'D', 'E', 'F', 'G']\n",
    "\n",
    "print('Predicción de Grade:', np.argmax(predictions_single[0]),\";\", 'Real Grade:', y_test.iloc[4])\n",
    "\n",
    "def plot_value_array(i, predictions, true_y):\n",
    "  predictions, true_y = predictions, true_y.iloc[i]\n",
    "  plt.grid(False)\n",
    "  plt.xticks(range(7))\n",
    "  plt.yticks([])\n",
    "  thisplot = plt.bar(range(7), predictions, color=\"#777777\")\n",
    "  plt.ylim([0, 1])\n",
    "  predicted_label = np.argmax(predictions)\n",
    "  thisplot[predicted_label].set_color('red')\n",
    "  thisplot[true_y].set_color('blue')\n",
    "\n",
    "plot_value_array(4, predictions_single[0], y_test)\n",
    "_ = plt.xticks(range(7), class_names, rotation=45)"
   ]
  }
 ],
 "metadata": {
  "kernelspec": {
   "display_name": "Python 3 (ipykernel)",
   "language": "python",
   "name": "python3"
  },
  "language_info": {
   "codemirror_mode": {
    "name": "ipython",
    "version": 3
   },
   "file_extension": ".py",
   "mimetype": "text/x-python",
   "name": "python",
   "nbconvert_exporter": "python",
   "pygments_lexer": "ipython3",
   "version": "3.9.7"
  },
  "toc": {
   "base_numbering": 1,
   "nav_menu": {},
   "number_sections": true,
   "sideBar": true,
   "skip_h1_title": true,
   "title_cell": "Tabla de Contenido",
   "title_sidebar": "Contenido",
   "toc_cell": false,
   "toc_position": {
    "height": "calc(100% - 180px)",
    "left": "10px",
    "top": "150px",
    "width": "165px"
   },
   "toc_section_display": true,
   "toc_window_display": true
  }
 },
 "nbformat": 4,
 "nbformat_minor": 5
}
