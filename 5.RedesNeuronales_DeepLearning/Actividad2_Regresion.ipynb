{
 "cells": [
  {
   "cell_type": "markdown",
   "id": "7f700766-d705-4213-8efa-1690bd20f93c",
   "metadata": {},
   "source": [
    "## Actividad 2: Comparación de algoritmos (Regresión)"
   ]
  },
  {
   "cell_type": "markdown",
   "id": "7b543606-18f4-463f-9b78-e6cccc2edfea",
   "metadata": {},
   "source": [
    "### Importación de librerías\n",
    "Importamos las librerías que se van a usar a lo largo del ejercicio"
   ]
  },
  {
   "cell_type": "code",
   "execution_count": null,
   "id": "0051ff2c-7afc-4eff-bb19-68a2afb3acf8",
   "metadata": {},
   "outputs": [],
   "source": [
    "# Manejo de datos\n",
    "from pandas import read_csv,DataFrame\n",
    "import numpy as np\n",
    "from sklearn.preprocessing import MinMaxScaler\n",
    "\n",
    "#Gráficos\n",
    "import matplotlib.pyplot as plt\n",
    "import seaborn as sns\n",
    "\n",
    "#train-test\n",
    "from sklearn.model_selection import train_test_split\n",
    "from sklearn import model_selection\n",
    "\n",
    "#metricas\n",
    "from sklearn.metrics import mean_absolute_error,mean_squared_error,r2_score\n",
    "\n",
    "#Algoritmos\n",
    "from sklearn.ensemble import RandomForestRegressor\n",
    "import tensorflow as tf\n",
    "from tensorflow import keras\n",
    "from tensorflow.keras import layers"
   ]
  },
  {
   "cell_type": "markdown",
   "id": "a70b65d3-c9e7-4894-b6e2-39fc4db2ab50",
   "metadata": {},
   "source": [
    "### Descripción del dataset\n",
    "Para este ejercicio se usará el dataset **Medical Cost Personal** extraído desde la página de Kaggle. El dataset cuenta con **1338** registros de personas y **7 atributos** a través de los cuales se intenta predecir el monto que les corresponde pagar por los gastos de se seguro de salud."
   ]
  },
  {
   "cell_type": "code",
   "execution_count": null,
   "id": "e476b222-922f-49f0-99b6-e129177969c9",
   "metadata": {},
   "outputs": [],
   "source": [
    "#Leemos archivo desde una url de Kaggle\n",
    "url_kaggle = (r'https://raw.githubusercontent.com/gad1989/TIA_actividad2/master/insurance.csv')\n",
    "datos = read_csv(url_kaggle,delimiter=\",\")"
   ]
  },
  {
   "cell_type": "markdown",
   "id": "82f6a2a5-8e02-493e-9743-16dc1d43ae77",
   "metadata": {},
   "source": [
    "### Caracteristicas del dataset\n",
    "Realizamos una descripcion del dataset. Primero damos un primer vistazo a algunos registros"
   ]
  },
  {
   "cell_type": "code",
   "execution_count": null,
   "id": "a62f6082-b805-4774-9ad4-f0ea9efc7e55",
   "metadata": {},
   "outputs": [],
   "source": [
    "datos.head(5)"
   ]
  },
  {
   "cell_type": "markdown",
   "id": "8127fc4e-c963-4af6-9513-158aca90cb00",
   "metadata": {},
   "source": [
    "Con la función shape, comprobamos que cuenta con **1338 registros** y **7 atributos (incluyendo el atributo a predecir)**"
   ]
  },
  {
   "cell_type": "code",
   "execution_count": null,
   "id": "ea986670-7cac-4b37-b25a-ac7a22b604b6",
   "metadata": {},
   "outputs": [],
   "source": [
    "print(datos.shape)"
   ]
  },
  {
   "cell_type": "markdown",
   "id": "c2c91d78-346c-42c1-aaef-a3a733eb0101",
   "metadata": {},
   "source": [
    "Visualizamos los tipos de datos de cada variable"
   ]
  },
  {
   "cell_type": "code",
   "execution_count": null,
   "id": "96b42eb9-255e-4c93-acff-b2f9e3868656",
   "metadata": {},
   "outputs": [],
   "source": [
    "datos.dtypes"
   ]
  },
  {
   "cell_type": "markdown",
   "id": "d124d61e-870f-42f3-97b7-94083f81e967",
   "metadata": {},
   "source": [
    "Visualizamos los diagramas de dispersión para las variables continuas para identificar si existe correlación entre ellas . En la diagonal vemos la forma de las distribuciones de cada una de las variables."
   ]
  },
  {
   "cell_type": "code",
   "execution_count": null,
   "id": "a3696a4b-c3e4-41c4-8878-aa9ef31216c4",
   "metadata": {},
   "outputs": [],
   "source": [
    "sns.pairplot(datos[[\"charges\",\"age\", \"bmi\", \"children\"]], diag_kind=\"kde\")"
   ]
  },
  {
   "cell_type": "markdown",
   "id": "4d34aabc-38d7-4ae1-b851-e44b16ef74dd",
   "metadata": {},
   "source": [
    "Para el caso de las variables categóricas, mostramos la frecuencia de cada una."
   ]
  },
  {
   "cell_type": "code",
   "execution_count": null,
   "id": "cf045acb-bb42-4d47-b6fe-76fe2a3d52e9",
   "metadata": {},
   "outputs": [],
   "source": [
    "datos.groupby(\"sex\").size()"
   ]
  },
  {
   "cell_type": "code",
   "execution_count": null,
   "id": "af35d91b-39b5-4101-9563-549f35477fcb",
   "metadata": {},
   "outputs": [],
   "source": [
    "datos.groupby(\"smoker\").size()"
   ]
  },
  {
   "cell_type": "code",
   "execution_count": null,
   "id": "2f1fdeac-d84f-455c-9b9f-35832566ee4b",
   "metadata": {},
   "outputs": [],
   "source": [
    "datos.groupby(\"region\").size()"
   ]
  },
  {
   "cell_type": "markdown",
   "id": "01eba3cb-353d-42f2-ad84-43b69332a629",
   "metadata": {},
   "source": [
    "### Preparación de datos\n",
    "Para proceder con los algoritmos de regresión se procede a convertir las variables vategóricas en numéricas, para ello se definen valores discretos para cada categoría de acuerdo al siguiente diccionario:"
   ]
  },
  {
   "cell_type": "code",
   "execution_count": null,
   "id": "f82a60b0-50c4-47d2-8c0d-c495f6dab29a",
   "metadata": {},
   "outputs": [],
   "source": [
    "convertion_dic = {\"sex\": {\"female\": 1, \"male\": 2},\n",
    "                 \"smoker\": {\"no\": 0, \"yes\": 1},\n",
    "                 \"region\": {\"southeast\": 1, \"southwest\": 2,\"northeast\":3,\"northwest\":4}}"
   ]
  },
  {
   "cell_type": "code",
   "execution_count": null,
   "id": "97e23cc7-d7dd-4266-9d8e-c544e09e4e80",
   "metadata": {},
   "outputs": [],
   "source": [
    "#Nuevo dataframe con atributos convertidos\n",
    "datos = datos.replace(convertion_dic)\n",
    "datos.head()"
   ]
  },
  {
   "cell_type": "markdown",
   "id": "9b9ae261-064d-48ee-a59c-5316f093ffe9",
   "metadata": {},
   "source": [
    "Separamos los atributos predictores y el atributo a predecir"
   ]
  },
  {
   "cell_type": "code",
   "execution_count": null,
   "id": "ba8e85fd-f990-401d-a4f2-2bced02a080a",
   "metadata": {},
   "outputs": [],
   "source": [
    "X = datos.drop(\"charges\",axis=1)\n",
    "y = datos[\"charges\"]"
   ]
  },
  {
   "cell_type": "markdown",
   "id": "bdf73ed5-a2d8-468e-bfdf-42b3556f47c2",
   "metadata": {},
   "source": [
    "Dividimos el dataset en 2: un dataset para entrenamiento y otro para test"
   ]
  },
  {
   "cell_type": "code",
   "execution_count": null,
   "id": "01c3a0bc-f186-40ad-bc24-58b68942e747",
   "metadata": {},
   "outputs": [],
   "source": [
    "porcentaje = 0.25\n",
    "x_train,x_test,y_train,y_test = train_test_split(X,y,test_size=porcentaje,random_state=1)"
   ]
  },
  {
   "cell_type": "markdown",
   "id": "2eb43474-565f-4e07-9d29-7fae7d8c5cc7",
   "metadata": {},
   "source": [
    "Ya que vamos a trabajar con redes neuronales es una buena práctica normalizar el dataset. Para ello usamos la función **min_max_scaler** que nos devuelve valores entre 0 y 1"
   ]
  },
  {
   "cell_type": "code",
   "execution_count": null,
   "id": "f2592044-a63f-4815-adee-a7fd8f5603b8",
   "metadata": {},
   "outputs": [],
   "source": [
    "min_max_scaler = MinMaxScaler()\n",
    "x_train_normalized = min_max_scaler.fit_transform(x_train)\n",
    "x_test_normalized = min_max_scaler.fit_transform(x_test)"
   ]
  },
  {
   "cell_type": "code",
   "execution_count": null,
   "id": "33c5db83-b2db-45d6-9965-bc98527d312c",
   "metadata": {},
   "outputs": [],
   "source": [
    "DataFrame(x_train_normalized,columns=[\"age\",\"sex\",\"bmi\",\"children\",\"smoker\",\"region\"])"
   ]
  },
  {
   "cell_type": "markdown",
   "id": "f9704413-46d2-48be-9d08-e1fc3d722c14",
   "metadata": {},
   "source": [
    "### Entrenamiento y validación de modelos\n",
    "#### Modelo 1: Random Forest para regresión"
   ]
  },
  {
   "cell_type": "markdown",
   "id": "13546de8-573c-4713-91cd-12c32dceead8",
   "metadata": {},
   "source": [
    "Definimos los valores de los hiperparámetros y construimos el modelo"
   ]
  },
  {
   "cell_type": "code",
   "execution_count": null,
   "id": "84a598fc-0a9e-4624-8486-a12b26a1f1b4",
   "metadata": {},
   "outputs": [],
   "source": [
    "n_estimators = 90\n",
    "max_depth=5\n",
    "criterion = \"mae\"\n",
    "\n",
    "model = RandomForestRegressor(n_estimators=n_estimators,criterion=criterion,max_depth=max_depth,random_state=1)"
   ]
  },
  {
   "cell_type": "markdown",
   "id": "90c1e2e4-1009-4961-91bb-3f44485116a6",
   "metadata": {},
   "source": [
    "Realizamos el entrenamiento del modelo con los datos normalizados"
   ]
  },
  {
   "cell_type": "code",
   "execution_count": null,
   "id": "946cb043-84a7-4aeb-a441-b9323e03cf33",
   "metadata": {},
   "outputs": [],
   "source": [
    "model.fit(x_train_normalized, y_train)"
   ]
  },
  {
   "cell_type": "markdown",
   "id": "d820ac96-ce71-47ea-bae9-da272dc5a874",
   "metadata": {},
   "source": [
    "Validamos el modelo usando los datos de test"
   ]
  },
  {
   "cell_type": "code",
   "execution_count": null,
   "id": "c90f7d45-66a8-40c9-a516-e9b95a00bdd5",
   "metadata": {},
   "outputs": [],
   "source": [
    "y_pred=model.predict(x_test_normalized)"
   ]
  },
  {
   "cell_type": "markdown",
   "id": "581788bb-796d-42ff-ba22-266914aec75f",
   "metadata": {},
   "source": [
    "Finalmente, se calculan las principales métricas de evaluación para la regresión"
   ]
  },
  {
   "cell_type": "code",
   "execution_count": null,
   "id": "6d901c1c",
   "metadata": {},
   "outputs": [],
   "source": [
    "print(\"RESULTADOS DE RANDOM FOREST\")\n",
    "#Error absoluto medio (MAE)\n",
    "print(\"MAE: \" + str(mean_absolute_error(y_test,y_pred)))\n",
    "\n",
    "#Error cuadrático medio (MSE)\n",
    "print(\"RMSE: \" + str(np.sqrt(mean_squared_error(y_test,y_pred))))\n",
    "\n",
    "#Coeficiente de determinación\n",
    "print(\"Coeficiente de determinación: \" + str(r2_score(y_test,y_pred)))                                    "
   ]
  },
  {
   "cell_type": "markdown",
   "id": "1dcdc550-05de-4808-b566-055c9f74521f",
   "metadata": {},
   "source": [
    "#### Modelo 2: Redes Neuronales"
   ]
  },
  {
   "cell_type": "markdown",
   "id": "c3a70d1f-410a-4783-87c2-3871b4d88cec",
   "metadata": {},
   "source": [
    "Definimos los valores de los hiperparámetros:"
   ]
  },
  {
   "cell_type": "code",
   "execution_count": null,
   "id": "a44b695e-7be9-4a6a-9780-6e4096408da4",
   "metadata": {},
   "outputs": [],
   "source": [
    "epochs = 1200\n",
    "nodos_capa1 = 60\n",
    "nodos_capa2 = 60\n",
    "nodos_capa3 = 60\n",
    "f_act='relu'\n",
    "loss='mae'"
   ]
  },
  {
   "cell_type": "markdown",
   "id": "80056e89-6b6a-47f8-9008-e738612d2a75",
   "metadata": {},
   "source": [
    "Construimos el modelo de redes neuronales con 3 capas profundas y una capa de salida"
   ]
  },
  {
   "cell_type": "code",
   "execution_count": null,
   "id": "195bbbe2-5070-440b-82f8-dd12df48e5bd",
   "metadata": {},
   "outputs": [],
   "source": [
    "#Configura semilla aleatoria\n",
    "tf.random.set_seed(1)\n",
    "\n",
    "def build_model():\n",
    "  modelo = keras.Sequential([\n",
    "    layers.Dense(nodos_capa1, activation=f_act,input_shape=[6]),\n",
    "    layers.Dense(nodos_capa2, activation=f_act),\n",
    "    layers.Dense(nodos_capa3, activation=f_act),\n",
    "    layers.Dense(1)\n",
    "  ])\n",
    "\n",
    "  modelo.compile(loss=loss,\n",
    "                optimizer='adam',\n",
    "                metrics=['mae', 'mse'])\n",
    "  return modelo"
   ]
  },
  {
   "cell_type": "code",
   "execution_count": null,
   "id": "006028f1-f00c-4432-99f0-d8dd0682bdf9",
   "metadata": {},
   "outputs": [],
   "source": [
    "modelRN = build_model()"
   ]
  },
  {
   "cell_type": "markdown",
   "id": "c76792e6-751b-401a-9981-a7aa2f92e10e",
   "metadata": {},
   "source": [
    "Realizamos una pequeña validación para comprobar la correcta construcción del modelo"
   ]
  },
  {
   "cell_type": "code",
   "execution_count": null,
   "id": "1c7ea805-5a09-4aff-8656-a5065e1179d3",
   "metadata": {},
   "outputs": [],
   "source": [
    "example_batch = x_train_normalized[:10]\n",
    "example_result = modelRN.predict(example_batch)\n",
    "example_result"
   ]
  },
  {
   "cell_type": "markdown",
   "id": "e4e52c6f-da04-4cc4-98a8-e01663d70aea",
   "metadata": {},
   "source": [
    "Descripción del modelo"
   ]
  },
  {
   "cell_type": "code",
   "execution_count": null,
   "id": "3d2ef835-7a88-4b9d-b2ac-b3a209921325",
   "metadata": {},
   "outputs": [],
   "source": [
    "modelRN.summary()"
   ]
  },
  {
   "cell_type": "markdown",
   "id": "acdab259-7179-466d-a221-561e065812c5",
   "metadata": {},
   "source": [
    "Entrenamos el modelo"
   ]
  },
  {
   "cell_type": "code",
   "execution_count": null,
   "id": "bc9dcfde-27a4-4f30-ba00-c0e486b0ed1d",
   "metadata": {},
   "outputs": [],
   "source": [
    "history = modelRN.fit(x_train_normalized, y_train,epochs=epochs, validation_split = 0.25, verbose=0)"
   ]
  },
  {
   "cell_type": "markdown",
   "id": "d440dcd1-2e59-429a-8a46-279a55718029",
   "metadata": {},
   "source": [
    "Visualizamos el progreso del entrenamiento que se guardó en la variable \"history\""
   ]
  },
  {
   "cell_type": "code",
   "execution_count": null,
   "id": "6fd9df42-f411-48b5-86ec-8bdfe7aa7254",
   "metadata": {},
   "outputs": [],
   "source": [
    "hist = DataFrame(history.history)\n",
    "hist['epoch'] = history.epoch\n",
    "hist.tail()"
   ]
  },
  {
   "cell_type": "markdown",
   "id": "88f9632e-613a-4a2a-b2f8-628ca549ff15",
   "metadata": {},
   "source": [
    "Graficamos la evolución del MAE con los datos de entrenamiento"
   ]
  },
  {
   "cell_type": "code",
   "execution_count": null,
   "id": "2bb1caca-e1c6-461c-ad1d-1ac10e5374e9",
   "metadata": {},
   "outputs": [],
   "source": [
    "DataFrame(history.history)[\"mae\"].plot(label='Train Error')\n",
    "DataFrame(history.history)[\"val_mae\"].plot(label='Validation Error')\n",
    "plt.ylabel(\"mae\")\n",
    "plt.xlabel(\"epochs\")\n",
    "plt.legend()"
   ]
  },
  {
   "cell_type": "code",
   "execution_count": null,
   "id": "012c9784-abb3-4b4a-82f5-75e097c2904d",
   "metadata": {},
   "outputs": [],
   "source": [
    "#Metricas para el conjunto de test\n",
    "loss, mae, mse = modelRN.evaluate(x_test_normalized, y_test, verbose=2)\n",
    "print()"
   ]
  },
  {
   "cell_type": "markdown",
   "id": "1a662fa2-138c-4447-a2fe-52b8f812a002",
   "metadata": {},
   "source": [
    "Validamos el modelo usando los datos de test y calculamos las métricas"
   ]
  },
  {
   "cell_type": "code",
   "execution_count": null,
   "id": "0e6a0d75-6ae8-4ea2-9c7c-6b8327d69b33",
   "metadata": {},
   "outputs": [],
   "source": [
    "test_predictions = modelRN.predict(x_test_normalized).flatten()"
   ]
  },
  {
   "cell_type": "code",
   "execution_count": null,
   "id": "cdb3b69a-189d-4125-b5a9-e0af755d4075",
   "metadata": {},
   "outputs": [],
   "source": [
    "print(\"RESULTADOS DE REDES NEURONALES\")\n",
    "#Error absoluto medio (MAE)\n",
    "print(\"MAE: \" + str(mean_absolute_error(y_test,test_predictions)))\n",
    "\n",
    "#Error cuadrático medio (MSE)\n",
    "print(\"RMSE: \" + str(np.sqrt(mean_squared_error(y_test,test_predictions))))\n",
    "\n",
    "#Coeficiente de determinación\n",
    "print(\"Coeficiente de determinación: \" + str(r2_score(y_test,test_predictions)))     "
   ]
  },
  {
   "cell_type": "markdown",
   "id": "dcccb69c-c9a4-490d-ac1f-1a9043805eb2",
   "metadata": {},
   "source": [
    "Mostramos los resultados de ambos algoritmos de forma gráfica"
   ]
  },
  {
   "cell_type": "code",
   "execution_count": null,
   "id": "96e61d09-063f-4ef0-9410-9ac654e127d7",
   "metadata": {},
   "outputs": [],
   "source": [
    "plt.scatter(y_test, test_predictions,label='Redes Neuronales')\n",
    "plt.scatter(y_test, y_pred,label='Random Forest')\n",
    "plt.legend()\n",
    "plt.xlabel('True Values')\n",
    "plt.ylabel('Predictions')\n",
    "plt.axis('equal')\n",
    "plt.axis('square')\n",
    "plt.xlim([0,plt.xlim()[1]])\n",
    "plt.ylim([0,plt.ylim()[1]])\n",
    "plt.plot([-100, 60000], [-100, 60000])"
   ]
  }
 ],
 "metadata": {
  "kernelspec": {
   "display_name": "Python 3 (ipykernel)",
   "language": "python",
   "name": "python3"
  },
  "language_info": {
   "codemirror_mode": {
    "name": "ipython",
    "version": 3
   },
   "file_extension": ".py",
   "mimetype": "text/x-python",
   "name": "python",
   "nbconvert_exporter": "python",
   "pygments_lexer": "ipython3",
   "version": "3.9.7"
  }
 },
 "nbformat": 4,
 "nbformat_minor": 5
}
