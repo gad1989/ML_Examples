{
 "cells": [
  {
   "cell_type": "markdown",
   "id": "e4884e3a-c847-465d-956e-96ae95cafdd9",
   "metadata": {},
   "source": [
    "## Importación de librerías"
   ]
  },
  {
   "cell_type": "code",
   "execution_count": null,
   "id": "df618988-bc6a-40e5-b2f1-33fb656063b7",
   "metadata": {},
   "outputs": [],
   "source": [
    "# Incorporamos los nombres al dataset, pues no se incluyen\n",
    "from __future__ import absolute_import, division, print_function, unicode_literals\n",
    "\n",
    "# TensorFlow y tf.keras\n",
    "import tensorflow as tf\n",
    "from tensorflow import keras\n",
    "\n",
    "# Librerías de ayuda\n",
    "import numpy as np\n",
    "import matplotlib.pyplot as plt"
   ]
  },
  {
   "cell_type": "code",
   "execution_count": null,
   "id": "0a3e5f9b-d6dd-4f4c-96a2-cb24679e102b",
   "metadata": {},
   "outputs": [],
   "source": [
    "fashion_mnist = keras.datasets.fashion_mnist\n",
    "(train_images, train_labels), (test_images, test_labels) = fashion_mnist.load_data()\n",
    "class_names = [\"Tshirt/top\", \"Trouser\", \"Pullover\", \"Dress\", \"Coat\", \"Sandal\", \"Shirt\", \"Sneaker\", \"Bag\", \"Ankle boot\"]"
   ]
  },
  {
   "cell_type": "markdown",
   "id": "9b8ec169-e386-4c5b-af89-977d10fd5e0e",
   "metadata": {},
   "source": [
    "## Explorado el dataset"
   ]
  },
  {
   "cell_type": "code",
   "execution_count": null,
   "id": "0e122a26-fd61-4321-82ff-346f54efe1b6",
   "metadata": {},
   "outputs": [],
   "source": [
    "# hay 60 000 imágenes en el training dataset\n",
    "print(train_images.shape)\n",
    "#> (60000, 28, 28)\n",
    "print(len(train_labels))\n",
    "#> 60000"
   ]
  },
  {
   "cell_type": "code",
   "execution_count": null,
   "id": "74de2d0e-55dc-4cce-9c2d-224a6279d4c2",
   "metadata": {},
   "outputs": [],
   "source": [
    "# cada etiqueta es un número entre 0 y 9\n",
    "print(train_labels)\n",
    "#> [9, 0, 0, ..., 3, 0, 5]"
   ]
  },
  {
   "cell_type": "code",
   "execution_count": null,
   "id": "f43f18d8-4119-4759-af1e-d379ae09cc56",
   "metadata": {},
   "outputs": [],
   "source": [
    "# hay 10 000 imágenes en el test dataset\n",
    "print(test_images.shape)\n",
    "#> (10000, 28, 28)\n",
    "print(len(test_labels))\n",
    "#> 10000"
   ]
  },
  {
   "cell_type": "markdown",
   "id": "fad9b4f5-ea9d-4486-9d28-30368eb8240a",
   "metadata": {},
   "source": [
    "## Ver primer elemento"
   ]
  },
  {
   "cell_type": "code",
   "execution_count": null,
   "id": "bb6f5c49-e090-412f-a930-806763379e74",
   "metadata": {},
   "outputs": [],
   "source": [
    "plt.figure()\n",
    "plt.imshow(train_images[0])\n",
    "plt.colorbar()\n",
    "plt.grid(False)\n",
    "plt.show()"
   ]
  },
  {
   "cell_type": "markdown",
   "id": "44b82552-36de-4e3e-8b4b-4fedbf9dd9ec",
   "metadata": {},
   "source": [
    "## Ver primeros 25 elementos"
   ]
  },
  {
   "cell_type": "code",
   "execution_count": null,
   "id": "af5194cf-0bb1-43f0-b275-2666143443b2",
   "metadata": {},
   "outputs": [],
   "source": [
    "# normalizamos\n",
    "train_images = train_images / 255.0\n",
    "test_images = test_images / 255.0"
   ]
  },
  {
   "cell_type": "code",
   "execution_count": null,
   "id": "09ef59f2-8452-4618-b421-ae8ef0a3aa6a",
   "metadata": {},
   "outputs": [],
   "source": [
    "plt.figure(figsize=(10,10))\n",
    "for i in range(25):\n",
    "    plt.subplot(5,5,i+1)\n",
    "    plt.xticks([])\n",
    "    plt.yticks([])\n",
    "    plt.grid(False)\n",
    "    plt.imshow(train_images[i], cmap=plt.cm.binary)\n",
    "    plt.xlabel(class_names[train_labels[i]])\n",
    "    plt.show()"
   ]
  },
  {
   "cell_type": "markdown",
   "id": "930453ea-ed6c-41f0-a309-c70b36ab877d",
   "metadata": {},
   "source": [
    "## Modelo"
   ]
  },
  {
   "cell_type": "code",
   "execution_count": null,
   "id": "755d4c6e-c888-4344-ab9b-29a5df4c9c76",
   "metadata": {},
   "outputs": [],
   "source": [
    "# Creamos el modelo:\n",
    "model = keras.Sequential([\n",
    "keras.layers.Flatten(input_shape=(28, 28)),\n",
    "keras.layers.Dense(128, activation=\"relu\"),\n",
    "keras.layers.Dense(10, activation=\"softmax\")\n",
    "])"
   ]
  },
  {
   "cell_type": "code",
   "execution_count": 25,
   "id": "643034ec-1bd3-4f79-a69c-8e3070fdd0ef",
   "metadata": {},
   "outputs": [],
   "source": [
    "# Compilamos el modelo:\n",
    "model.compile(optimizer=\"adam\", loss=\"sparse_categorical_crossentropy\", metrics=[\"accuracy\"])"
   ]
  },
  {
   "cell_type": "code",
   "execution_count": 26,
   "id": "7fd186cd-4d4c-4025-892a-e4c2961f7f77",
   "metadata": {},
   "outputs": [
    {
     "name": "stdout",
     "output_type": "stream",
     "text": [
      "Epoch 1/10\n",
      "1875/1875 [==============================] - 2s 1ms/step - loss: 0.2300 - accuracy: 0.9137\n",
      "Epoch 2/10\n",
      "1875/1875 [==============================] - 2s 1ms/step - loss: 0.2215 - accuracy: 0.9178\n",
      "Epoch 3/10\n",
      "1875/1875 [==============================] - 2s 1ms/step - loss: 0.2166 - accuracy: 0.9191\n",
      "Epoch 4/10\n",
      "1875/1875 [==============================] - 2s 995us/step - loss: 0.2092 - accuracy: 0.9210\n",
      "Epoch 5/10\n",
      "1875/1875 [==============================] - 2s 982us/step - loss: 0.2042 - accuracy: 0.9232\n",
      "Epoch 6/10\n",
      "1875/1875 [==============================] - 2s 985us/step - loss: 0.1975 - accuracy: 0.9257\n",
      "Epoch 7/10\n",
      "1875/1875 [==============================] - 2s 982us/step - loss: 0.1910 - accuracy: 0.9288\n",
      "Epoch 8/10\n",
      "1875/1875 [==============================] - 2s 984us/step - loss: 0.1878 - accuracy: 0.9293\n",
      "Epoch 9/10\n",
      "1875/1875 [==============================] - 2s 1ms/step - loss: 0.1811 - accuracy: 0.9322\n",
      "Epoch 10/10\n",
      "1875/1875 [==============================] - 2s 994us/step - loss: 0.1767 - accuracy: 0.9336\n"
     ]
    },
    {
     "data": {
      "text/plain": [
       "<keras.callbacks.History at 0x22c45ddc130>"
      ]
     },
     "execution_count": 26,
     "metadata": {},
     "output_type": "execute_result"
    }
   ],
   "source": [
    "# Entrenamos el modelo:\n",
    "model.fit(train_images, train_labels, epochs=10)"
   ]
  },
  {
   "cell_type": "code",
   "execution_count": 27,
   "id": "89741921-9f90-403c-9e58-eaa526db5b01",
   "metadata": {},
   "outputs": [
    {
     "name": "stdout",
     "output_type": "stream",
     "text": [
      "313/313 - 0s - loss: 0.3493 - accuracy: 0.8859 - 273ms/epoch - 872us/step\n",
      "\n",
      "Test accuracy: 0.8859000205993652\n"
     ]
    }
   ],
   "source": [
    "# Evaluamos exactitud:\n",
    "###IMPORTANTE: LOS RESULTADOS DE LA EVALUACION CON EL SET DE TEST SON MENORES QUE CON EL SET DE ENTRENAMIENTO \n",
    "###POR LO CUAL SE CONCLUYE QUE HAY UN LIGERO SOBREAJUSTE\n",
    "test_loss, test_acc = model.evaluate(test_images, test_labels,verbose=2)\n",
    "print(\"\\nTest accuracy:\", test_acc)\n",
    "#> Test accuracy: 0.8848999738693237"
   ]
  },
  {
   "cell_type": "code",
   "execution_count": 30,
   "id": "8d77abdc-5c46-4790-abdd-576c6f817051",
   "metadata": {},
   "outputs": [],
   "source": [
    "# Realizamos predicciones, mostrando la predicción sobre el primer elemento\n",
    "predictions = model.predict(test_images)"
   ]
  },
  {
   "cell_type": "code",
   "execution_count": 31,
   "id": "1968e7c1-f976-4d93-8fca-d84dcd08e7a8",
   "metadata": {},
   "outputs": [
    {
     "name": "stdout",
     "output_type": "stream",
     "text": [
      "[1.2499306e-07 3.4706008e-10 7.3163253e-11 2.2159741e-11 2.7371447e-08\n",
      " 1.6085291e-06 2.2732916e-09 5.0156885e-03 5.5023776e-12 9.9498248e-01]\n"
     ]
    }
   ],
   "source": [
    "# mostramos las 10 probabilidades PARA EL PRIMER ELEMENTO\n",
    "print(predictions[0])"
   ]
  },
  {
   "cell_type": "code",
   "execution_count": 32,
   "id": "df77909b-6a5f-4263-af48-4546b44f8780",
   "metadata": {},
   "outputs": [
    {
     "name": "stdout",
     "output_type": "stream",
     "text": [
      "9\n"
     ]
    }
   ],
   "source": [
    "# nos quedamos con la más elevada  ###SERIA LA CLASE ANKLE_BOOT\n",
    "print(np.argmax(predictions[0]))"
   ]
  },
  {
   "cell_type": "markdown",
   "id": "ef10683e-9c8d-4eef-80c5-8bd50d5c98b8",
   "metadata": {},
   "source": [
    "## Predicciones en forma grafica"
   ]
  },
  {
   "cell_type": "code",
   "execution_count": 36,
   "id": "0b95a880-556f-4847-b172-97adccf2c3ec",
   "metadata": {},
   "outputs": [],
   "source": [
    "# Mostremos de forma gráfica todo el conjunto de las predicciones de las 10 clases\n",
    "def plot_image(i, predictions_array, true_label, img):\n",
    "    predictions_array, true_label, img = predictions_array, true_label[i],img[i]\n",
    "    plt.grid(False)\n",
    "    plt.xticks([])\n",
    "    plt.yticks([])\n",
    "    plt.imshow(img, cmap=plt.cm.binary)\n",
    "    predicted_label = np.argmax(predictions_array)\n",
    "    if predicted_label == true_label:\n",
    "        color = \"blue\"\n",
    "    else:\n",
    "        color = \"red\"\n",
    "    plt.xlabel(\"{} {:2.0f}% ({})\".format(class_names[predicted_label],\n",
    "    100*np.max(predictions_array),\n",
    "    class_names[true_label]),\n",
    "    color=color)"
   ]
  },
  {
   "cell_type": "code",
   "execution_count": 37,
   "id": "fb71eb39-8dd0-40b6-b8bc-d3cbd680f62a",
   "metadata": {},
   "outputs": [],
   "source": [
    "def plot_value_array(i, predictions_array, true_label):\n",
    "    predictions_array, true_label = predictions_array, true_label[i]\n",
    "    plt.grid(False)\n",
    "    plt.xticks(range(10))\n",
    "    plt.yticks([])\n",
    "    thisplot = plt.bar(range(10), predictions_array, color=\"#777777\")\n",
    "    plt.ylim([0, 1])\n",
    "    predicted_label = np.argmax(predictions_array)\n",
    "    thisplot[predicted_label].set_color(\"red\")\n",
    "    thisplot[true_label].set_color(\"blue\")"
   ]
  },
  {
   "cell_type": "code",
   "execution_count": 38,
   "id": "66a75bf7-b811-45e2-97a1-96a48af1581f",
   "metadata": {},
   "outputs": [
    {
     "data": {
      "image/png": "[encoded data removed]",
      "text/plain": [
       "<Figure size 864x720 with 2 Axes>"
      ]
     },
     "metadata": {
      "needs_background": "light"
     },
     "output_type": "display_data"
    },
    {
     "data": {
      "image/png": "[encoded data removed]",
      "text/plain": [
       "<Figure size 432x288 with 2 Axes>"
      ]
     },
     "metadata": {
      "needs_background": "light"
     },
     "output_type": "display_data"
    },
    {
     "data": {
      "image/png": "[encoded data removed]",
      "text/plain": [
       "<Figure size 432x288 with 2 Axes>"
      ]
     },
     "metadata": {
      "needs_background": "light"
     },
     "output_type": "display_data"
    },
    {
     "data": {
      "image/png": "[encoded data removed]",
      "text/plain": [
       "<Figure size 432x288 with 2 Axes>"
      ]
     },
     "metadata": {
      "needs_background": "light"
     },
     "output_type": "display_data"
    },
    {
     "data": {
      "image/png": "[encoded data removed]",
      "text/plain": [
       "<Figure size 432x288 with 2 Axes>"
      ]
     },
     "metadata": {
      "needs_background": "light"
     },
     "output_type": "display_data"
    },
    {
     "data": {
      "image/png": "[encoded data removed]",
      "text/plain": [
       "<Figure size 432x288 with 2 Axes>"
      ]
     },
     "metadata": {
      "needs_background": "light"
     },
     "output_type": "display_data"
    },
    {
     "data": {
      "image/png": "[encoded data removed]",
      "text/plain": [
       "<Figure size 432x288 with 2 Axes>"
      ]
     },
     "metadata": {
      "needs_background": "light"
     },
     "output_type": "display_data"
    },
    {
     "data": {
      "image/png": "[encoded data removed]",
      "text/plain": [
       "<Figure size 432x288 with 2 Axes>"
      ]
     },
     "metadata": {
      "needs_background": "light"
     },
     "output_type": "display_data"
    },
    {
     "data": {
      "image/png": "[encoded data removed]",
      "text/plain": [
       "<Figure size 432x288 with 2 Axes>"
      ]
     },
     "metadata": {
      "needs_background": "light"
     },
     "output_type": "display_data"
    },
    {
     "data": {
      "image/png": "[encoded data removed]",
      "text/plain": [
       "<Figure size 432x288 with 2 Axes>"
      ]
     },
     "metadata": {
      "needs_background": "light"
     },
     "output_type": "display_data"
    },
    {
     "data": {
      "image/png": "[encoded data removed]",
      "text/plain": [
       "<Figure size 432x288 with 2 Axes>"
      ]
     },
     "metadata": {
      "needs_background": "light"
     },
     "output_type": "display_data"
    },
    {
     "data": {
      "image/png": "[encoded data removed]",
      "text/plain": [
       "<Figure size 432x288 with 2 Axes>"
      ]
     },
     "metadata": {
      "needs_background": "light"
     },
     "output_type": "display_data"
    },
    {
     "data": {
      "image/png": "[encoded data removed]",
      "text/plain": [
       "<Figure size 432x288 with 2 Axes>"
      ]
     },
     "metadata": {
      "needs_background": "light"
     },
     "output_type": "display_data"
    },
    {
     "data": {
      "image/png": "[encoded data removed]",
      "text/plain": [
       "<Figure size 432x288 with 2 Axes>"
      ]
     },
     "metadata": {
      "needs_background": "light"
     },
     "output_type": "display_data"
    },
    {
     "data": {
      "image/png": "[encoded data removed]",
      "text/plain": [
       "<Figure size 432x288 with 2 Axes>"
      ]
     },
     "metadata": {
      "needs_background": "light"
     },
     "output_type": "display_data"
    }
   ],
   "source": [
    "# Mostraremos las primeras 15 imágenes de test con sus predicciones y sus etiquetas reales\n",
    "# En azul las predicciones correctas y en rojo las incorrectas\n",
    "num_rows = 5\n",
    "num_cols = 3\n",
    "num_images = num_rows*num_cols\n",
    "plt.figure(figsize=(2*2*num_cols, 2*num_rows))\n",
    "for i in range(num_images):\n",
    "    plt.subplot(num_rows, 2*num_cols, 2*i+1)\n",
    "    plot_image(i, predictions[i], test_labels, test_images)\n",
    "    plt.subplot(num_rows, 2*num_cols, 2*i+2)\n",
    "    plot_value_array(i, predictions[i], test_labels)\n",
    "    plt.tight_layout()\n",
    "    plt.show()"
   ]
  },
  {
   "cell_type": "code",
   "execution_count": null,
   "id": "96683c8b-222f-4cc1-87bd-fb63a88d7b9c",
   "metadata": {},
   "outputs": [],
   "source": []
  }
 ],
 "metadata": {
  "kernelspec": {
   "display_name": "Python 3 (ipykernel)",
   "language": "python",
   "name": "python3"
  },
  "language_info": {
   "codemirror_mode": {
    "name": "ipython",
    "version": 3
   },
   "file_extension": ".py",
   "mimetype": "text/x-python",
   "name": "python",
   "nbconvert_exporter": "python",
   "pygments_lexer": "ipython3",
   "version": "3.9.7"
  }
 },
 "nbformat": 4,
 "nbformat_minor": 5
}
